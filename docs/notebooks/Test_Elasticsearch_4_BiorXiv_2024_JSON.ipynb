{
 "cells": [
  {
   "cell_type": "markdown",
   "id": "7bc4bad6-861f-45cd-b532-e33c7ec59c42",
   "metadata": {},
   "source": [
    "# Advanced Querying Techniques in Elasticsearch for BiorXiv Data Analysis"
   ]
  },
  {
   "cell_type": "markdown",
   "id": "ca714fcb-2565-4dc6-8ad4-b6dac4bec88a",
   "metadata": {},
   "source": [
    "Elasticsearch, renowned for its speed and scalability, is an indispensable tool for data scientists and researchers working with large datasets like those from BiorXiv. BiorXiv provides a rich corpus of preprint publications in the life sciences, offering a wealth of data for analysis. In this guide, we delve into sophisticated querying techniques to extract meaningful insights from BiorXiv data using Elasticsearch. We'll explore everything from basic keyword searches to complex aggregations and filters."
   ]
  },
  {
   "cell_type": "markdown",
   "id": "57942729-500c-4e45-8d13-ef610eaf1dbf",
   "metadata": {},
   "source": [
    "### Establishing a Secure Connection to Elasticsearch"
   ]
  },
  {
   "cell_type": "markdown",
   "id": "c5567d6f-2f83-4c25-99e0-0846966dc69b",
   "metadata": {},
   "source": [
    "\n",
    "Establishing a secure connection to your Elasticsearch cluster is paramount. This ensures that your data interactions are encrypted and protected. Here’s a brief refresher on setting up a secure connection:"
   ]
  },
  {
   "cell_type": "code",
   "execution_count": 160,
   "id": "a76637ec-6312-45e7-aee5-e89be9a4b18e",
   "metadata": {},
   "outputs": [
    {
     "name": "stdout",
     "output_type": "stream",
     "text": [
      "CPU times: user 4.69 ms, sys: 418 µs, total: 5.11 ms\n",
      "Wall time: 22.5 ms\n"
     ]
    }
   ],
   "source": [
    "%%time\n",
    "\n",
    "import ssl\n",
    "\n",
    "# Path to the CA certificate\n",
    "ca_cert_path = '/workspace/repos/osl/rxiv-restapi/containers/esconfig/certs/http_ca.crt'\n",
    "# Create an SSL context\n",
    "ssl_context = ssl.create_default_context(cafile=ca_cert_path)\n",
    "# Create a connection to Elasticsearch with authentication and SSL context\n",
    "es = Elasticsearch(\n",
    "    [\"https://es:9200\"],\n",
    "    basic_auth=(\"elastic\", \"worksfine\"),\n",
    "    ssl_context=ssl_context\n",
    ")"
   ]
  },
  {
   "cell_type": "markdown",
   "id": "d3e9203a-5988-409b-ae62-8c1c8d3f6e6a",
   "metadata": {},
   "source": [
    "### Index JSON Data into Elasticsearch\n",
    "**Before we can search, you must have the data indexed in Elasticsearch.** \n",
    "**Here's a simplified function to read the JSON file and index its contents.** \n",
    "**This example assumes that your JSON data is an array of objects, each representing a document to be indexed.**"
   ]
  },
  {
   "cell_type": "code",
   "execution_count": 161,
   "id": "5e6d3258-5682-41e7-b3b6-c406bb9bd8d0",
   "metadata": {},
   "outputs": [],
   "source": [
    "import json\n",
    "from elasticsearch import Elasticsearch\n",
    "\n",
    "def index_json_data(es: Elasticsearch, file_path: str, index_name: str) -> None:\n",
    "    \"\"\"\n",
    "    Reads data from a JSON file and indexes it into Elasticsearch.\n",
    "\n",
    "    Parameters:\n",
    "    es (Elasticsearch): An Elasticsearch client instance.\n",
    "    file_path (str): The path to the JSON file.\n",
    "    index_name (str): The name of the Elasticsearch index where data will be stored.\n",
    "    \"\"\"\n",
    "    # Load JSON data from the file\n",
    "    with open(file_path, 'r', encoding='utf-8') as file:\n",
    "        data = json.load(file)\n",
    "\n",
    "    # Assuming `data` is a list of documents\n",
    "    for doc in data:\n",
    "        # Index each document\n",
    "        res = es.index(index=index_name, document=doc)\n",
    "        # print(res['result'])\n"
   ]
  },
  {
   "cell_type": "markdown",
   "id": "46318043-4de4-4dc2-9edd-21f93c56e11f",
   "metadata": {},
   "source": [
    "### Indexing Data into Elasticsearch"
   ]
  },
  {
   "cell_type": "code",
   "execution_count": 10,
   "id": "bec3e056-e980-44b1-9533-eda980b86747",
   "metadata": {},
   "outputs": [
    {
     "name": "stdout",
     "output_type": "stream",
     "text": [
      "CPU times: user 3min 28s, sys: 18 s, total: 3min 46s\n",
      "Wall time: 27min 26s\n"
     ]
    }
   ],
   "source": [
    "%%time\n",
    "\n",
    "# Assuming index_json_data is a previously defined function that indexes data from a JSON file to Elasticsearch\n",
    "# Path to the JSON file containing data to be indexed\n",
    "file_path = '/workspace/repos/osl/rxiv-restapi/docs/notebooks/data/biorxiv_2022-01-01_2024-01-11.json'\n",
    "# Name of the Elasticsearch index\n",
    "index_name = 'biorxiv'\n",
    "# Index data from the specified JSON file into Elasticsearch\n",
    "index_json_data(es, file_path, index_name)"
   ]
  },
  {
   "cell_type": "markdown",
   "id": "6ca8104d-2a52-4e2b-b7b5-36961a09b2f5",
   "metadata": {},
   "source": [
    "## Querying Analyses for BiorXiv Data\n"
   ]
  },
  {
   "cell_type": "markdown",
   "id": "438f5163-489c-4ea3-92db-a8e82889ebdb",
   "metadata": {},
   "source": [
    "### Create a Search Function\n",
    "\n",
    "**After indexing the data, we can create a function to perform searches using the Elasticsearch client.**"
   ]
  },
  {
   "cell_type": "markdown",
   "id": "a45112e1-8c6b-483b-9a1b-b5124c6cb082",
   "metadata": {},
   "source": [
    "**Note**: By default, searches return the top 10 matching hits. To page through a larger set of results, you can use the search API's from and size parameters. The from parameter defines the number of hits to skip, defaulting to 0. The size parameter is the maximum number of hits to return. Together, these two parameters define a page of results."
   ]
  },
  {
   "cell_type": "code",
   "execution_count": 162,
   "id": "1cf28c07-5567-4cb6-b2e8-1f540cf23f1e",
   "metadata": {},
   "outputs": [],
   "source": [
    "def search_data(es: Elasticsearch, index_name: str, query: dict, page: int, page_size: int) -> list:\n",
    "    \"\"\"\n",
    "    Performs a search query in an Elasticsearch index and returns only the document data.\n",
    "    search_data function is structured to perform a search query and return document hits directly,\n",
    "\n",
    "    Parameters:\n",
    "    es (Elasticsearch): An Elasticsearch client instance.\n",
    "    index_name (str): The name of the Elasticsearch index to search in.\n",
    "    query (dict): The search query in Elasticsearch Query DSL format.\n",
    "    page : (int) The page number (starting from 1).\n",
    "    page_size : (int) The number of results to return per page.\n",
    "\n",
    "    Returns   \n",
    "\n",
    "    Returns:\n",
    "    list: A list of documents from the search results, each represented as a dictionary.\n",
    "    \"\"\"\n",
    "    try:\n",
    "        from_param = (page - 1) * page_size    \n",
    "        response = es.search(index=index_name, query=query, from_=from_param, size=page_size)\n",
    "        # Extract only the '_source' from each hit\n",
    "        documents = [hit['_source'] for hit in response['hits']['hits']]\n",
    "        return documents\n",
    "    except Exception as e:\n",
    "        print(f\"Search failed: {e}\")\n",
    "        return []"
   ]
  },
  {
   "cell_type": "markdown",
   "id": "8fddfd1d-9bc8-4962-b268-c196aa8b1805",
   "metadata": {},
   "source": [
    "### Keyword Searches: The Basics\n",
    "#### Search for documents with a specific title.\n"
   ]
  },
  {
   "cell_type": "markdown",
   "id": "c79806b0-e503-4bfa-95c3-6ea93d397720",
   "metadata": {},
   "source": [
    "These query examples illustrate the flexibility of Elasticsearch's Query DSL to retrieve specific data based on various search criteria.\n",
    "\n",
    "Creating a variety of Elasticsearch query combinations involves using different aspects of the Elasticsearch Query DSL (Domain Specific Language) to retrieve specific documents based on your criteria. Below are several examples of query combinations that can be used to retrieve keys and values from the JSON data provided\n",
    "\n",
    "Each of these queries can be passed to the `search_data` function you've defined to retrieve documents from Elasticsearch based on the specified criteria. Remember to replace `index_name` with the name of your index when calling the function:"
   ]
  },
  {
   "cell_type": "markdown",
   "id": "ea001516-8b65-4ac9-aac6-92631c0538b7",
   "metadata": {},
   "source": [
    "### Match Query\n"
   ]
  },
  {
   "cell_type": "markdown",
   "id": "58875093-badd-4145-a82a-e7e80b7973ce",
   "metadata": {},
   "source": [
    "Keyword searches are the foundation of data retrieval in Elasticsearch. For instance, finding all BiorXiv papers related to CRISPR:\n"
   ]
  },
  {
   "cell_type": "code",
   "execution_count": 163,
   "id": "8b132847-794d-49e7-bf68-492372dbed01",
   "metadata": {},
   "outputs": [
    {
     "name": "stdout",
     "output_type": "stream",
     "text": [
      "Results:  2 \n",
      "\n",
      "{'doi': '10.1101/2024.01.05.574328', 'title': 'CRISPR-repressed toxin-antitoxin provides population-level immunity against diverse anti-CRISPR elements', 'authors': 'Li, M.; Shu, X.; Wang, R.; Li, Z.; Xue, Q.; Liu, C.; Cheng, F.; Zhao, H.; Wang, J.; Liu, J.; Hu, C.; Li, J.; Ouyang, S.', 'author_corresponding': 'Ming Li', 'author_corresponding_institution': 'Institute of Microbiology, CAS', 'date': '2024-01-05', 'version': '1', 'license': 'cc_no', 'category': 'Microbiology', 'jatsxml': 'https://www.biorxiv.org/content/early/2024/01/05/2024.01.05.574328.source.xml', 'abstract': 'Prokaryotic CRISPR-Cas systems are highly vulnerable to phage-encoded anti-CRISPR (Acr) factors. How CRISPR-Cas systems protect themselves remains unclear. Here, we uncovered a broad-spectrum anti-anti-CRISPR strategy involving a phage-derived toxic protein. Transcription of this toxin is normally reppressed by the CRISPR-Cas effector, but is activated to halt cell division when the effector is inhibited by any anti-CRISPR proteins or RNAs. We showed that this abortive infection-like effect efficiently expels Acr elements from bacterial population. Furthermore, we exploited this anti-anti-CRISPR mechanism to develop a screening method for specific Acr candidates for a CRISPR-Cas system, and successfully identified two distinct Acr proteins that enhance the binding of CRISPR effector to non-target DNA. Our data highlight the broad-spectrum role of CRISPR-repressed toxins in counteracting various types of Acr factors, which illuminates that the regulatory function of CRISPR-Cas confers host cells herd immunity against Acr-encoding genetic invaders, no matter they are CRISPR-targeted or not.', 'node': 103416, 'link_page': 'https://www.biorxiv.org/content/10.1101/2024.01.05.574328v1?versioned=TRUE', 'link_pdf': 'https://www.biorxiv.org/content/10.1101/2024.01.05.574328v1.full.pdf'}\n",
      "{'doi': '10.1101/2024.01.05.574328', 'title': 'CRISPR-repressed toxin-antitoxin provides population-level immunity against diverse anti-CRISPR elements', 'authors': 'Li, M.; Shu, X.; Wang, R.; Li, Z.; Xue, Q.; Liu, C.; Cheng, F.; Zhao, H.; Wang, J.; Liu, J.; Hu, C.; Li, J.; Ouyang, S.', 'author_corresponding': 'Ming Li', 'author_corresponding_institution': 'Institute of Microbiology, CAS', 'date': '2024-01-05', 'version': '1', 'license': 'cc_no', 'category': 'Microbiology', 'jatsxml': 'https://www.biorxiv.org/content/early/2024/01/05/2024.01.05.574328.source.xml', 'abstract': 'Prokaryotic CRISPR-Cas systems are highly vulnerable to phage-encoded anti-CRISPR (Acr) factors. How CRISPR-Cas systems protect themselves remains unclear. Here, we uncovered a broad-spectrum anti-anti-CRISPR strategy involving a phage-derived toxic protein. Transcription of this toxin is normally reppressed by the CRISPR-Cas effector, but is activated to halt cell division when the effector is inhibited by any anti-CRISPR proteins or RNAs. We showed that this abortive infection-like effect efficiently expels Acr elements from bacterial population. Furthermore, we exploited this anti-anti-CRISPR mechanism to develop a screening method for specific Acr candidates for a CRISPR-Cas system, and successfully identified two distinct Acr proteins that enhance the binding of CRISPR effector to non-target DNA. Our data highlight the broad-spectrum role of CRISPR-repressed toxins in counteracting various types of Acr factors, which illuminates that the regulatory function of CRISPR-Cas confers host cells herd immunity against Acr-encoding genetic invaders, no matter they are CRISPR-targeted or not.', 'node': 103416, 'link_page': 'https://www.biorxiv.org/content/10.1101/2024.01.05.574328v1?versioned=TRUE', 'link_pdf': 'https://www.biorxiv.org/content/10.1101/2024.01.05.574328v1.full.pdf'}\n",
      "-------------------------\n",
      "CPU times: user 23.1 ms, sys: 136 µs, total: 23.2 ms\n",
      "Wall time: 53.3 ms\n"
     ]
    }
   ],
   "source": [
    "%%time \n",
    "\n",
    "query = {\n",
    "    \"match\": {\n",
    "        \"abstract\": \"CRISPR\"\n",
    "    }\n",
    "}\n",
    "\n",
    "# Example usage: Fetch the first page of results, assuming 2 results per page\n",
    "# See the scroll api for a more efficient way to request large data sets\n",
    "page_number = 1\n",
    "page_size = 2\n",
    "results = search_data(es, index_name, query, page_number, page_size)\n",
    "\n",
    "print(\"Results: \",len(results), \"\\n\")\n",
    "\n",
    "for result in results:\n",
    "    print(result)\n",
    "\n",
    "print(\"-\" * 25)"
   ]
  },
  {
   "cell_type": "markdown",
   "id": "23f16e76-5927-4760-b131-35e0a4ca47a7",
   "metadata": {},
   "source": [
    "### Term Query\n",
    "Retrieve documents where the `license` field exactly matches the specified value.\n"
   ]
  },
  {
   "cell_type": "code",
   "execution_count": 164,
   "id": "92d8b26c-3c7c-49ee-984f-fa6eb4b90a18",
   "metadata": {},
   "outputs": [
    {
     "name": "stdout",
     "output_type": "stream",
     "text": [
      "Results:  9 \n",
      "\n",
      "{'doi': '10.1101/2022.01.10.475592', 'title': 'A Niclosamide-releasing hot-melt extruded catheter prevents Staphylococcus aureus experimental biomaterial-associated infection', 'authors': 'Vazquez-Rodriguez, J. A.; Shaqour, B.; Guarch-Perez, C.; Choinska, E.; Riool, M.; Verleije, B.; Beyers, K.; Costantini, V. J. A.; Swieszkowski, W.; Zaat, S. A. J.; Cos, P.; Felici, A.; Ferrari, L.', 'author_corresponding': 'Jesus Augusto  Vazquez-Rodriguez', 'author_corresponding_institution': 'University of Verona; Aptuit S.r.l., an Evotec Company', 'date': '2022-01-11', 'version': '1', 'license': 'cc_by_nc_nd', 'category': 'Bioengineering', 'jatsxml': 'https://www.biorxiv.org/content/early/2022/01/11/2022.01.10.475592.source.xml', 'abstract': 'Biomaterial-associated infections are a major healthcare challenge as they are responsible for high disease burden in critically ill patients. In this study, we have developed drug-eluting antibacterial catheters to prevent catheter-related infections. Niclosamide (NIC), originally a well-studied antiparasitic drug, was incorporated into the polymeric matrix of thermoplastic polyurethane (TPU) via solvent casting, and catheters were fabricated using hot-melt extrusion technology. The mechanical and physicochemical properties of TPU polymers loaded with NIC were studied. NIC was released in a sustained manner from the catheters and exhibited antibacterial activity against Staphylococcus aureus and Staphylococcus epidermidis in different in vitro models. Moreover, the antibacterial efficacy of NIC-loaded catheters was validated in an in vivo biomaterial-associated infection mouse model using a methicillin-susceptible and methicillin-resistant strain of S. aureus. The released NIC from the produced catheters reduced bacterial colonization of the catheter as well as of the surrounding tissue. A sustained in vivo release of NIC from the catheters for at least 14 days was observed. In summary, the NIC-releasing hot-melt extruded catheters prevented implant colonization and reduced the bacterial colonization of peri-catheter tissue by methicillin sensitive as well as resistant S. aureus in a biomaterial-associated infection mouse model and has good prospects for preclinical development.', 'published': '10.1038/s41598-022-16107-4', 'node': 7647, 'link_page': 'https://www.biorxiv.org/content/10.1101/2022.01.10.475592v1?versioned=TRUE', 'link_pdf': 'https://www.biorxiv.org/content/10.1101/2022.01.10.475592v1.full.pdf'}\n",
      "{'doi': '10.1101/2022.01.11.475795', 'title': 'Optimized cell culture conditions promote ex-vivo manipulation and expansion of primitive hematopoietic stem cells for therapeutic gene editing.', 'authors': 'Rai, R.; Vetharoy, W.; Naseem, A.; Steinberg, Z.; Thrasher, A. J.; Santilli, G.; Cavazza, A.', 'author_corresponding': 'Alessia  Cavazza', 'author_corresponding_institution': 'UCL Great Ormond Street Institute of Child Health', 'date': '2022-01-11', 'version': '1', 'license': 'cc_by_nc_nd', 'category': 'Bioengineering', 'jatsxml': 'https://www.biorxiv.org/content/early/2022/01/11/2022.01.11.475795.source.xml', 'abstract': 'During the last few years, gene editing has emerged as a powerful tool for the therapeutic correction of monogenic diseases. CRISPR/Cas9 applied to hematopoietic stem and progenitor cells (HSPCs) has shown great promise in proof-of-principle preclinical studies to treat haematological disorders, and clinical trials using these tools are now underway. Nonetheless, there remain important challenges that need to be addressed, such as the efficiency of targeting primitive, long-term repopulating HSPCs and expand them in vitro for clinical purposes. Here we have tested the effect exerted by different culture media compositions on the ability of HSPCs to proliferate and undergo homology directed repair-mediated knock-in of a reporter gene, while preserving their stemness features during ex-vivo culture. We tested different combinations of compounds and demonstrated that by supplementing the culture media with inhibitors of histone deacetylases, and/or by fine-tuning its cytokine composition it is possible to achieve high levels of gene targeting in long-term repopulating HSPCs both in vitro and in vivo, with a beneficial balance between preservation of stemness and cell expansion, thus allowing to obtain a significant amount of edited, primitive HSPCs compared to established, state-of-the-art culture conditions. Overall, the implantation of this optimized ex vivo HSPC culture protocol will improve the efficacy, feasibility and applicability of gene editing and will likely provide one step further to unlock the full therapeutic potential of such powerful technology.', 'published': 'NA', 'node': 7648, 'link_page': 'https://www.biorxiv.org/content/10.1101/2022.01.11.475795v1?versioned=TRUE', 'link_pdf': 'https://www.biorxiv.org/content/10.1101/2022.01.11.475795v1.full.pdf'}\n",
      "{'doi': '10.1101/2022.01.10.475663', 'title': 'Efficient coding of natural scenes improves neural system identification', 'authors': 'Qiu, Y.; Klindt, D. A.; Szatko, K. P.; Gonschorek, D.; Hoefling, L.; Schubert, T.; Busse, L.; Bethge, M.; Euler, T.', 'author_corresponding': 'Thomas  Euler', 'author_corresponding_institution': 'University of Tuebingen', 'date': '2022-01-11', 'version': '1', 'license': 'cc_by_nc_nd', 'category': 'Neuroscience', 'jatsxml': 'https://www.biorxiv.org/content/early/2022/01/11/2022.01.10.475663.source.xml', 'abstract': 'Neural system identification aims at learning the response function of neurons to arbitrary stimuli using experimentally recorded data, but typically does not leverage normative principles such as efficient coding of natural environments. Visual systems, however, have evolved to efficiently process input from the natural environment. Here, we present a normative network regularization for system identification models by incorporating, as a regularizer, the efficient coding hypothesis, which states that neural response properties of sensory representations are strongly shaped by the need to preserve most of the stimulus information with limited resources. Using this approach, we explored if a system identification model can be improved by sharing its convolutional filters with those of an autoencoder which aims to efficiently encode natural stimuli. To this end, we built a hybrid model to predict the responses of retinal neurons to noise stimuli. This approach did not only yield a higher performance than the \"stand-alone\" system identification model, it also produced more biologically-plausible filters. We found these results to be consistent for retinal responses to different stimuli and across model architectures. Moreover, our normatively regularized model performed particularly well in predicting responses of direction-of-motion sensitive retinal neurons. In summary, our results support the hypothesis that efficiently encoding environmental inputs can improve system identification models of early visual processing.', 'published': '10.1371/journal.pcbi.1011037', 'node': 7656, 'link_page': 'https://www.biorxiv.org/content/10.1101/2022.01.10.475663v1?versioned=TRUE', 'link_pdf': 'https://www.biorxiv.org/content/10.1101/2022.01.10.475663v1.full.pdf'}\n",
      "{'doi': '10.1101/2022.01.10.475663', 'title': 'Efficient coding of natural scenes improves neural system identification', 'authors': 'Qiu, Y.; Klindt, D. A.; Szatko, K. P.; Gonschorek, D.; Hoefling, L.; Schubert, T.; Busse, L.; Bethge, M.; Euler, T.', 'author_corresponding': 'Thomas  Euler', 'author_corresponding_institution': 'University of Tuebingen', 'date': '2022-01-17', 'version': '2', 'license': 'cc_by_nc_nd', 'category': 'Neuroscience', 'jatsxml': 'https://www.biorxiv.org/content/early/2022/01/17/2022.01.10.475663.source.xml', 'abstract': 'Neural system identification aims at learning the response function of neurons to arbitrary stimuli using experimentally recorded data, but typically does not leverage normative principles such as efficient coding of natural environments. Visual systems, however, have evolved to efficiently process input from the natural environment. Here, we present a normative network regularization for system identification models by incorporating, as a regularizer, the efficient coding hypothesis, which states that neural response properties of sensory representations are strongly shaped by the need to preserve most of the stimulus information with limited resources. Using this approach, we explored if a system identification model can be improved by sharing its convolutional filters with those of an autoencoder which aims to efficiently encode natural stimuli. To this end, we built a hybrid model to predict the responses of retinal neurons to noise stimuli. This approach did not only yield a higher performance than the \"stand-alone\" system identification model, it also produced more biologically-plausible filters. We found these results to be consistent for retinal responses to different stimuli and across model architectures. Moreover, our normatively regularized model performed particularly well in predicting responses of direction-of-motion sensitive retinal neurons. In summary, our results support the hypothesis that efficiently encoding environmental inputs can improve system identification models of early visual processing.', 'published': '10.1371/journal.pcbi.1011037', 'node': 7657, 'link_page': 'https://www.biorxiv.org/content/10.1101/2022.01.10.475663v2?versioned=TRUE', 'link_pdf': 'https://www.biorxiv.org/content/10.1101/2022.01.10.475663v2.full.pdf'}\n",
      "{'doi': '10.1101/2022.01.10.475663', 'title': 'Efficient coding of natural scenes improves neural system identification', 'authors': 'Qiu, Y.; Klindt, D. A.; Szatko, K. P.; Gonschorek, D.; Hoefling, L.; Schubert, T.; Busse, L.; Bethge, M.; Euler, T.', 'author_corresponding': 'Thomas  Euler', 'author_corresponding_institution': 'University of Tuebingen', 'date': '2022-04-29', 'version': '3', 'license': 'cc_by_nc_nd', 'category': 'Neuroscience', 'jatsxml': 'https://www.biorxiv.org/content/early/2022/04/29/2022.01.10.475663.source.xml', 'abstract': 'Neural system identification aims at learning the response function of neurons to arbitrary stimuli using experimentally recorded data, but typically does not leverage normative principles such as efficient coding of natural environments. Visual systems, however, have evolved to efficiently process input from the natural environment. Here, we present a normative network regularization for system identification models by incorporating, as a regularizer, the efficient coding hypothesis, which states that neural response properties of sensory representations are strongly shaped by the need to preserve most of the stimulus information with limited resources. Using this approach, we explored if a system identification model can be improved by sharing its convolutional filters with those of an autoencoder which aims to efficiently encode natural stimuli. To this end, we built a hybrid model to predict the responses of retinal neurons to noise stimuli. This approach did not only yield a higher performance than the \"stand-alone\" system identification model, it also produced more biologically-plausible filters. We found these results to be consistent for retinal responses to different stimuli and across model architectures. Moreover, our normatively regularized model performed particularly well in predicting responses of direction-of-motion sensitive retinal neurons. In summary, our results support the hypothesis that efficiently encoding environmental inputs can improve system identification models of early visual processing.', 'published': '10.1371/journal.pcbi.1011037', 'node': 7658, 'link_page': 'https://www.biorxiv.org/content/10.1101/2022.01.10.475663v3?versioned=TRUE', 'link_pdf': 'https://www.biorxiv.org/content/10.1101/2022.01.10.475663v3.full.pdf'}\n",
      "{'doi': '10.1101/2022.01.11.475909', 'title': 'Oleic acid-related anti-inflammatory effects in force-stressed PdL fibroblasts are mediated by H3 lysine acetylation associated with altered IL10 expression', 'authors': 'Schuldt, L.; Von Brandenstein, K.; Jacobs, C.; Symmank, J.', 'author_corresponding': 'Judit  Symmank', 'author_corresponding_institution': 'University Hospital Jena, Department of Orthodontics, Leutragraben 3, 07743 Jena, Germany', 'date': '2022-01-11', 'version': '1', 'license': 'cc_by_nc_nd', 'category': 'Molecular Biology', 'jatsxml': 'https://www.biorxiv.org/content/early/2022/01/11/2022.01.11.475909.source.xml', 'abstract': 'The initiation of a spatially and temporally limited inflammation is essential for tissue and bone remodeling by the periodontal ligament (PdL) located between teeth and alveolar bone. Obesity-associated hyperlipidemic changes may impair PdL fibroblast (PdLF) functions, disturbing their inflammatory response to mechanical stress such as those occurring during orthodontic tooth movement (OTM). Recently, we reported an attenuated pro-inflammatory response of human PdLF (HPdLF) to compressive forces when stimulated with monounsaturated oleic acid (OA). Fatty acids, including OA, could serve as alternative source of acetyl-CoA, thereby affecting epigenetic histone marks such as histone 3 lysine acetylation (H3Kac) in a lipid metabolism-dependent manner. In this study, we therefore aimed to investigate the extent to which OA exerts its anti -inflammatory effect via changes in H3Kac. Six-hour compressed HPdLF showed increased H3Kac when cultured with OA. Inhibition of histone deacetylases resulted in a comparable IL10 increase as observed in compressed OA cultures. In contrast, inhibition of histone acetyltransferases, particularly p300/CBP, in compressed HPdLF exposed to OA led to an inflammatory response comparable to compressed control cells. OA-dependent increased association of H3Kac to IL10 promoter regions in force-stressed HPdLF further strengthened the assumption that OA exhibits its anti-inflammatory properties via modulation of this epigenetic mark. In conclusion, our study strongly suggests that obesity-related hyperlipidemia affect the functions of PdL cells via alterations in their epigenetic code. Since epigenetic inhibitors are already widely used clinically, they may hold promise for novel approaches to limit obesity-related risks during OTM.', 'published': '10.1080/15592294.2022.2090654', 'node': 7667, 'link_page': 'https://www.biorxiv.org/content/10.1101/2022.01.11.475909v1?versioned=TRUE', 'link_pdf': 'https://www.biorxiv.org/content/10.1101/2022.01.11.475909v1.full.pdf'}\n",
      "{'doi': '10.1101/2022.01.10.475700', 'title': 'Single-molecule mapping of replisome progression', 'authors': 'Claussin, C.; Vazquez, J.; Whitehouse, I.', 'author_corresponding': 'Iestyn  Whitehouse', 'author_corresponding_institution': 'Memorial sloan kettering cancer center', 'date': '2022-01-11', 'version': '1', 'license': 'cc_by_nc_nd', 'category': 'Molecular Biology', 'jatsxml': 'https://www.biorxiv.org/content/early/2022/01/11/2022.01.10.475700.source.xml', 'abstract': 'Fundamental aspects of DNA replication, such as the anatomy of replication stall sites, how replisomes are influenced by gene transcription and whether the progression of sister replisomes is coordinated are poorly understood. Available techniques do not allow the precise mapping of the positions of individual replisomes on chromatin. We have developed a new method called Replicon-seq that entails the excision of full-length replicons by controlled nuclease cleavage at replication forks. Replicons are sequenced using Nanopore, which provides a single molecule readout of long DNA molecules. Using Replicon-seq, we have investigated replisome movement along chromatin. We found that sister replisomes progress with remarkable consistency from the origin of replication but function autonomously. Replication forks that encounter obstacles pause for a short duration but rapidly resume synthesis. The helicase Rrm3 plays a critical role both in mitigating the effect of protein barriers and facilitating efficient termination. Replicon-seq provides an unprecedented means of defining replisome movement across the genome.', 'published': '10.1016/j.molcel.2022.02.010', 'node': 7670, 'link_page': 'https://www.biorxiv.org/content/10.1101/2022.01.10.475700v1?versioned=TRUE', 'link_pdf': 'https://www.biorxiv.org/content/10.1101/2022.01.10.475700v1.full.pdf'}\n",
      "{'doi': '10.1101/2022.01.11.475927', 'title': 'Genomic occupancy of the bromodomain protein Bdf3 is dynamic during differentiation of African trypanosomes from bloodstream to procyclic forms', 'authors': 'Ashby, E.; Paddock, L.; Betts, H. L.; Miller, G.; Porter, A.; Rollosson, L. M.; Saada, C.; Tang, E.; Wade, S. J.; Hardin, J.; Schulz, D.', 'author_corresponding': 'Danae  Schulz', 'author_corresponding_institution': 'Harvey Mudd College', 'date': '2022-01-11', 'version': '1', 'license': 'cc_by_nc_nd', 'category': 'Molecular Biology', 'jatsxml': 'https://www.biorxiv.org/content/early/2022/01/11/2022.01.11.475927.source.xml', 'abstract': 'Trypanosoma brucei, the causative agent of Human and Animal African trypanosomiasis, cycles between a mammalian host and a tsetse fly vector. The parasite undergoes huge changes in morphology and metabolism as it adapts to each host environment. These changes are reflected in the differing transcriptomes of parasites living in each host. While changes in the transcriptome have been well catalogued for parasites differentiating from the mammalian bloodstream to the insect stage, it remains unclear whether chromatin interacting proteins mediate transcriptomic changes during life cycle adaptation. We and others have shown that chromatin interacting bromodomain proteins localize to transcription start sites in bloodstream parasites, but whether the localization of bromodomain proteins changes as parasites differentiate from bloodstream to insect stage parasites remains unknown. To address this question, we performed Cleavage Under Target and Release Using Nuclease (CUT&RUN) timecourse experiments using a tagged version of Bromodomain Protein 3 (Bdf3) in parasites differentiating from bloodstream to insect stage forms. We found that Bdf3 occupancy at most loci increased at 3 hours following onset of differentiation and decreased thereafter. A number of sites with increased bromodomain protein occupancy lie proximal to genes known to have altered transcript levels during differentiation, such as procyclins, procyclin associated genes, and invariant surface glycoproteins. While most Bdf3 occupied sites are observed throughout differentiation, a very small number appear de novo as differentiation progresses. Notably, one such site lies proximal to the procyclin gene locus, which contains genes essential for remodeling surface proteins following transition to the insect stage. Overall, these studies indicate that occupancy of chromatin interacting proteins is dynamic during life cycle stage transitions, and provides the groundwork for future studies aimed at uncovering whether changes in bromodomain protein occupancy affect transcript levels of neighboring genes. Additionally, the optimization of CUT&RUN for use in Trypanosoma brucei may prove helpful for other researchers as an alternative to Chromatin Immunoprecipitation (ChIP).', 'published': '10.1128/msphere.00023-22', 'node': 7671, 'link_page': 'https://www.biorxiv.org/content/10.1101/2022.01.11.475927v1?versioned=TRUE', 'link_pdf': 'https://www.biorxiv.org/content/10.1101/2022.01.11.475927v1.full.pdf'}\n",
      "{'doi': '10.1101/2022.01.11.475678', 'title': 'Machine learning for exploring microbial inter-kingdom associations in Cystic Fibrosis and Bronchiectasis', 'authors': 'Cuthbertson, L.; Ish-Horowicz, J.; Felton, I.; James, P.; Turek, E.; Cox, M. J.; Loebinger, M. R.; Simmonds, N. J.; Filippi, S. L.; Moffatt, M. F.; Cookson, W. O.', 'author_corresponding': 'Leah  Cuthbertson', 'author_corresponding_institution': 'Imperial College London', 'date': '2022-01-11', 'version': '1', 'license': 'cc_by_nc_nd', 'category': 'Molecular Biology', 'jatsxml': 'https://www.biorxiv.org/content/early/2022/01/11/2022.01.11.475678.source.xml', 'abstract': 'BackgroundCystic fibrosis (CF) and non-CF bronchiectasis (BX) are characterised by severe chronic infections. Fungal and bacterial components of infection are both recognized. Little however is known about how fungal and bacterial organisms interact and whether these interactions impact on disease outcomes.\\n\\nMethodsQuantitative PCR and next-generation sequencing of ITS2 and 16S rRNA gene was carried out on 107 patients with CF or BX with clinically defined fungal infection status for all patients. The relationship between fungal and bacterial community composition was extensively explored using: random forest modelling, correlation network analysis, multi-omics factor analysis, and sample-wise clustering, to understand associations both within and between the microbial communities and their relationship to respiratory disease.\\n\\nResultsRandom forest modelling demonstrated distinct fungal and bacterial communities within CF and BX patients. The inclusion of both kingdoms in the models did not improve discrimination between the two diseases. Within the CF patients, bacterial community composition was independent of clinical fungal disease status. Bacterial and fungal communities did not relate to the presence of CF pulmonary exacerbations (CFPE). Correlation network analysis found intra-kingdom interactions were predominant in the data. Multi-omics factor analysis (MOFA) revealed latent factors corresponding to single kingdoms. Thus, in the bacterial community we identified two distinct clusters characterised by the presence or absence of Pseudomonas-domination. This was independent of fungal community which was characterised by a second set of independent clusters dominated by Saccharomycetes.\\n\\nConclusionsIn this study we were unable to detect clear evidence of clinically significant inter-kingdom interactions between the bacterial and fungal communities. While further work is required to fully understand microbial interaction within the lung, our data suggests that interkingdom interactions may not be the primary driver of patient outcomes, particularly in the context of fungal infection.', 'published': 'NA', 'node': 7672, 'link_page': 'https://www.biorxiv.org/content/10.1101/2022.01.11.475678v1?versioned=TRUE', 'link_pdf': 'https://www.biorxiv.org/content/10.1101/2022.01.11.475678v1.full.pdf'}\n",
      "-------------------------\n",
      "CPU times: user 5.85 ms, sys: 3.22 ms, total: 9.07 ms\n",
      "Wall time: 15.5 ms\n"
     ]
    }
   ],
   "source": [
    "%%time\n",
    "\n",
    "query = {\n",
    "    \"term\": {\n",
    "        \"license\": {\n",
    "            \"value\": \"cc_by_nc_nd\"\n",
    "        }\n",
    "    }\n",
    "}\n",
    "\n",
    "# Example usage: Fetch the thirdy page of results, assuming 9 results per page\n",
    "# See the scroll api for a more efficient way to request large data sets\n",
    "page_number = 3\n",
    "page_size = 9\n",
    "results = search_data(es, index_name, query, page_number, page_size)\n",
    "\n",
    "print(\"Results: \",len(results), \"\\n\")\n",
    "\n",
    "for result in results:\n",
    "    print(result)\n",
    "\n",
    "print(\"-\" * 25)"
   ]
  },
  {
   "cell_type": "markdown",
   "id": "46450067-4af5-443b-947c-4ab35a1dccce",
   "metadata": {},
   "source": [
    "### Range Query\n",
    "Find documents published within a specific date range.\n"
   ]
  },
  {
   "cell_type": "code",
   "execution_count": 165,
   "id": "3f09bdab-55c6-4e56-bfab-e63fa89e3724",
   "metadata": {},
   "outputs": [
    {
     "name": "stdout",
     "output_type": "stream",
     "text": [
      "Results:  2 \n",
      "\n",
      "{'doi': '10.1101/2022.01.14.476310', 'title': 'Non-target effects of ten essential oils on the egg parasitoid Trichogramma evanescens', 'authors': 'Van Oudenhove, L.; Cazier, A.; Fillaud, M.; Lavoir, A.-V.; Fatnassi, H.; Perez, G.; Calcagno, V.', 'author_corresponding': 'Louise  Van Oudenhove', 'author_corresponding_institution': \"Institut Sophia Agrobiotech, INRAE, Universite Cote d'Azur, CNRS, France.\", 'date': '2022-12-26', 'version': '5', 'license': 'cc_by_nc_nd', 'category': 'Ecology', 'jatsxml': 'https://www.biorxiv.org/content/early/2022/12/26/2022.01.14.476310.source.xml', 'abstract': 'Essential oils (EOs) are increasingly used as biopesticides due to their insecticidal potential. This study addresses their non-target effects on a biological control agent: the egg parasitoid Trichogramma evanescens. In particular, we tested whether EOs affected parasitoid fitness either directly, by decreasing pre-imaginal survival, or indirectly, by disrupting parasitoids orientation abilities. The effect of Anise, Fennel, Sweet orange, Basil, Coriander, Oregano, Peppermint, Mugwort, Rosemary and Thyme EOs were studied on five strains of T. evanescens. Specific experimental setups were developed, and data obtained from image analysis were interpreted with phenomenological models fitted with Bayesian inference. Results highlight the fumigant toxicity of EOs on parasitoid development. Anise, Fennel, Basil, Coriander, Oregano, Peppermint and Thyme EOs are particularly toxic and drastically reduce the emergence rate of T. evanescens. Most EOs also affect parasitoid behavior: (i) Basil, Coriander, Oregano, Peppermint, Mugwort and Thyme EOs are highly repellent for naive female parasitoids; (ii) Anise and Fennel EOs can have repellent or attractive effects depending on strains; and (iii) Sweet orange, Oregano and Rosemary EOs have no detectable impact on orientation behavior. This study shows that EOs fumigation have non-target effects on egg parasitoids. This highlights the need to cautiously precise the deployment framework of biopesticides in an agroecological perspective.', 'published': '10.24072/pcjournal.212', 'node': 8124, 'link_page': 'https://www.biorxiv.org/content/10.1101/2022.01.14.476310v5?versioned=TRUE', 'link_pdf': 'https://www.biorxiv.org/content/10.1101/2022.01.14.476310v5.full.pdf'}\n",
      "{'doi': '10.1101/2022.01.16.476383', 'title': 'A novel mechanism for left-right asymmetry establishment involving tissue remodeling and MyoID', 'authors': 'Lefevre, B. M.; Delvigne, M.; Vidal, J.; Courtier-Orgogozo, V.; Lang, M.', 'author_corresponding': 'Michael  Lang', 'author_corresponding_institution': 'Université de Paris, CNRS, Institut Jacques Monod, F-75013 Paris, France.', 'date': '2022-12-19', 'version': '2', 'license': 'cc_by_nc', 'category': 'Evolutionary Biology', 'jatsxml': 'https://www.biorxiv.org/content/early/2022/12/19/2022.01.16.476383.source.xml', 'abstract': 'Left-right asymmetries recurrently evolve in animals but the underlying developmental mechanisms are unknown. In most Drosophila species, the male genitalia is symmetric and undergoes a clockwise 360{degrees} rotation during development. In D. melanogaster, this tissue remodeling process is directed by class I myosins: in MyoID mutants the rotation is reversed and the genitalia remains symmetric. Males of Drosophila pachea have evolved unique left-right asymmetric genital organs and a characteristic right-sided copulation posture in the past 3-6 million years. To test if these asymmetries in morphology and behavior evolved via the recruitment of pre-existing directional cues controlled by MyoID, we used CRISPR to knockout MyoID in D. pachea. Strikingly, mutant males undergo a reverse genitalia rotation and develop mirror-image asymmetric genitalia, indicating that MyoID controls both the direction of genitalia rotation direction and morphological asymmetry. Although genital asymmetry is reversed, MyoID mutants still adopt a wild-type right-sided copulation posture. Our results show that MyoID and its asymmetry guidance role were recruited for the evolution of a novel left-right asymmetry in D. pachea and that lateralized copulation behavior is determined by other mechanisms. The evolution of a new left-right organ size asymmetry in D. pachea involved recruitment of existing directional cues.', 'published': 'NA', 'node': 8386, 'link_page': 'https://www.biorxiv.org/content/10.1101/2022.01.16.476383v2?versioned=TRUE', 'link_pdf': 'https://www.biorxiv.org/content/10.1101/2022.01.16.476383v2.full.pdf'}\n",
      "-------------------------\n",
      "CPU times: user 7.34 ms, sys: 0 ns, total: 7.34 ms\n",
      "Wall time: 14.8 ms\n"
     ]
    }
   ],
   "source": [
    "%%time\n",
    "\n",
    "query = {\n",
    "    \"range\": {\n",
    "        \"date\": {\n",
    "            \"gte\": \"2022-12-01\",\n",
    "            \"lte\": \"2022-12-31\"\n",
    "        }\n",
    "    }\n",
    "}\n",
    "\n",
    "# Example usage: Fetch the second page of results, assuming 2 results per page\n",
    "# See the scroll api for a more efficient way to request large data sets\n",
    "page_number = 2\n",
    "page_size = 2\n",
    "results = search_data(es, index_name, query, page_number, page_size)\n",
    "\n",
    "print(\"Results: \",len(results), \"\\n\")\n",
    "\n",
    "for result in results:\n",
    "    print(result)\n",
    "\n",
    "print(\"-\" * 25)"
   ]
  },
  {
   "cell_type": "markdown",
   "id": "ef58edd1-0433-4e3f-ad0d-904f629f79b5",
   "metadata": {},
   "source": [
    "\n",
    "### Bool Query\n",
    "Combine multiple search criteria. For example, search for documents by authors in a specific category and with a specific license.\n"
   ]
  },
  {
   "cell_type": "code",
   "execution_count": 166,
   "id": "f5d24f63-dfd0-4491-85c5-5592c6818adc",
   "metadata": {},
   "outputs": [
    {
     "name": "stdout",
     "output_type": "stream",
     "text": [
      "Results:  1 \n",
      "\n",
      "{'doi': '10.1101/2022.10.06.511167', 'title': 'High selectivity of frequency induced transcriptional responses', 'authors': 'Givre, A.; Colman-Lerner, A.; Ponce-Dawson, S.', 'author_corresponding': 'Silvina Ponce-Dawson', 'author_corresponding_institution': 'School of Natural and Exact Sciences, University of Buenos Aires', 'date': '2022-10-07', 'version': '1', 'license': 'cc_by_nc_nd', 'category': 'Systems Biology', 'jatsxml': 'https://www.biorxiv.org/content/early/2022/10/07/2022.10.06.511167.source.xml', 'abstract': 'Cells continuously interact with their environment, detect its changes and generate responses accordingly. This requires interpreting the variations and, in many occasions, producing changes in gene expression. In this paper we use information theory and a simple transcription model to analyze the extent to which the resulting gene expression is able to identify and assess the intensity of extracellular stimuli when they are encoded in the amplitude, duration or frequency of a transcription factors nuclear concentration. We find that the maximal information transmission is, for the three codifications, ~ 1.5 - 1.8 bits, i.e., approximately 3 ranges of input strengths can be distinguished in all cases. The types of promoters that yield maximum transmission for the three modes are all similarly fast and have a high activation threshold. The three input modulation modes differ, however, in the sensitivity to changes in the parameters that characterize the promoters, with frequency modulation being the most sensitive and duration modulation, the least. This turns out to be key for signal identification. Namely, we show that, because of this sensitivity difference, it is possible to find promoter parameters that yield an information transmission within 90% of its maximum value for duration or amplitude modulation and less than 1 bit for frequency modulation. The reverse situation cannot be found within the framework of a single promoter transcription model. This means that pulses of transcription factors in the nucleus can selectively activate the promoter that is tuned to respond to frequency modulations while prolonged nuclear accumulation would activate several promoters at the same time. Thus, frequency modulation is better suited than the other encoding modes to allow the identification of external stimuli without requiring other mediators of the transduction.', 'published': 'NA', 'node': 43301, 'link_page': 'https://www.biorxiv.org/content/10.1101/2022.10.06.511167v1?versioned=TRUE', 'link_pdf': 'https://www.biorxiv.org/content/10.1101/2022.10.06.511167v1.full.pdf'}\n",
      "-------------------------\n",
      "CPU times: user 5.04 ms, sys: 90 µs, total: 5.13 ms\n",
      "Wall time: 10.5 ms\n"
     ]
    }
   ],
   "source": [
    "%%time\n",
    "\n",
    "query = {\n",
    "    \"bool\": {\n",
    "        \"must\": [\n",
    "            {\"match\": {\"authors\": \"Colman-Lerner\"}},\n",
    "            {\"match\": {\"category\": \"Systems Biology\"}},\n",
    "            {\"term\": {\"license\": \"cc_by_nc_nd\"}}\n",
    "        ]\n",
    "    }\n",
    "}\n",
    "\n",
    "# Example usage: Fetch the first page of results, assuming 1 results per page\n",
    "# See the scroll api for a more efficient way to request large data sets\n",
    "page_number = 1\n",
    "page_size = 1\n",
    "results = search_data(es, index_name, query, page_number, page_size)\n",
    "\n",
    "print(\"Results: \",len(results), \"\\n\")\n",
    "\n",
    "for result in results:\n",
    "    print(result)\n",
    "\n",
    "print(\"-\" * 25)"
   ]
  },
  {
   "cell_type": "markdown",
   "id": "960c8f80-af34-4ab7-8099-0d59a81af22d",
   "metadata": {},
   "source": [
    "### Match phrase Query\n",
    "Use a match_phrase to search for documents with titles that contain specific patterns.\n"
   ]
  },
  {
   "cell_type": "code",
   "execution_count": 167,
   "id": "439127cf-21d8-49a0-a802-c950ff038d6f",
   "metadata": {},
   "outputs": [
    {
     "name": "stdout",
     "output_type": "stream",
     "text": [
      "Results:  6 \n",
      "\n",
      "{'doi': '10.1101/2022.10.03.510647', 'title': 'Carm1 regulates the speed of C/EBPa-induced transdifferentiation by a cofactor stealing mechanism', 'authors': 'Garcia, G. T.; Kowenz-Leutz, E.; Tian, T. V.; Klonizakis, A.; Lerner, J.; De Andres-Aguayo, L.; Berenguer, C.; Carmona, M. P.; Casadesus, M. V.; Bulteau, R.; Francesconi, M.; Leutz, A.; Zaret, K. S.; Zaret, K. S.; Peiro, S.', 'author_corresponding': 'Achim Leutz', 'author_corresponding_institution': 'MDC, Berlin', 'date': '2022-10-04', 'version': '1', 'license': 'cc_by_nc_nd', 'category': 'Cell Biology', 'jatsxml': 'https://www.biorxiv.org/content/early/2022/10/04/2022.10.03.510647.source.xml', 'abstract': 'Cell fate decisions are driven by lineage-restricted transcription factors but how they are regulated is incompletely understood. The C/EBP-induced B cell to macrophage transdifferentiation (BMT) is a powerful system to address this question. Here we describe that C/EBP with a single arginine mutation (C/EBPR35A) induces a dramatically accelerated BMT in mouse and human cells. Changes in the expression of lineage-restricted genes occur as early as within 1 hour compared to 18 hours with the wild type. Mechanistically C/EBPR35A exhibits an increased affinity for PU.1, a bi-lineage transcription factor required for C/EBP-induced BMT. The complex induces more rapid chromatin accessibility changes and an enhanced relocation (stealing) of PU.1 from B cell to myeloid gene regulatory elements. Arginine 35 is methylated by Carm1 and inhibition of the enzyme accelerates BMT, similar to the mutant. Our data suggest that the relative proportions of methylated and unmethylated C/EBP in a bipotent progenitor can determine the velocity of cell fate choice and lineage directionality.', 'published': '10.7554/elife.83951', 'node': 42509, 'link_page': 'https://www.biorxiv.org/content/10.1101/2022.10.03.510647v1?versioned=TRUE', 'link_pdf': 'https://www.biorxiv.org/content/10.1101/2022.10.03.510647v1.full.pdf'}\n",
      "{'doi': '10.1101/2022.10.03.510647', 'title': 'Carm1 regulates the speed of C/EBPa-induced transdifferentiation by a cofactor stealing mechanism', 'authors': 'Garcia, G. T.; Kowenz-Leutz, E.; Tian, T. V.; Klonizakis, A.; Lerner, J.; De Andres-Aguayo, L.; Berenguer, C.; Carmona, M. P.; Casadesus, M. V.; Bulteau, R.; Francesconi, M.; Peiro, S.; Zaret, K. S.; Leutz, A.; Graf, T.', 'author_corresponding': 'Achim Leutz', 'author_corresponding_institution': 'MDC, Berlin', 'date': '2022-10-04', 'version': '2', 'license': 'cc_by_nc_nd', 'category': 'Cell Biology', 'jatsxml': 'https://www.biorxiv.org/content/early/2022/10/04/2022.10.03.510647.source.xml', 'abstract': 'Cell fate decisions are driven by lineage-restricted transcription factors but how they are regulated is incompletely understood. The C/EBP-induced B cell to macrophage transdifferentiation (BMT) is a powerful system to address this question. Here we describe that C/EBP with a single arginine mutation (C/EBPR35A) induces a dramatically accelerated BMT in mouse and human cells. Changes in the expression of lineage-restricted genes occur as early as within 1 hour compared to 18 hours with the wild type. Mechanistically C/EBPR35A exhibits an increased affinity for PU.1, a bi-lineage transcription factor required for C/EBP-induced BMT. The complex induces more rapid chromatin accessibility changes and an enhanced relocation (stealing) of PU.1 from B cell to myeloid gene regulatory elements. Arginine 35 is methylated by Carm1 and inhibition of the enzyme accelerates BMT, similar to the mutant. Our data suggest that the relative proportions of methylated and unmethylated C/EBP in a bipotent progenitor can determine the velocity of cell fate choice and lineage directionality.', 'published': '10.7554/elife.83951', 'node': 42510, 'link_page': 'https://www.biorxiv.org/content/10.1101/2022.10.03.510647v2?versioned=TRUE', 'link_pdf': 'https://www.biorxiv.org/content/10.1101/2022.10.03.510647v2.full.pdf'}\n",
      "{'doi': '10.1101/2022.10.03.510647', 'title': 'Carm1 regulates the speed of C/EBPa-induced transdifferentiation by a cofactor stealing mechanism', 'authors': 'Garcia, G. T.; Kowenz-Leutz, E.; Tian, T. V.; Klonizakis, A.; Lerner, J.; De Andres-Aguayo, L.; Berenguer, C.; Carmona, M. P.; Casadesus, M. V.; Bulteau, R.; Francesconi, M.; Peiro, S.; Zaret, K. S.; Leutz, A.; Graf, T.', 'author_corresponding': 'Achim Leutz', 'author_corresponding_institution': 'MDC, Berlin', 'date': '2022-10-09', 'version': '3', 'license': 'cc_by_nd', 'category': 'Cell Biology', 'jatsxml': 'https://www.biorxiv.org/content/early/2022/10/09/2022.10.03.510647.source.xml', 'abstract': 'Cell fate decisions are driven by lineage-restricted transcription factors but how they are regulated is incompletely understood. The C/EBP-induced B cell to macrophage transdifferentiation (BMT) is a powerful system to address this question. Here we describe that C/EBP with a single arginine mutation (C/EBPR35A) induces a dramatically accelerated BMT in mouse and human cells. Changes in the expression of lineage-restricted genes occur as early as within 1 hour compared to 18 hours with the wild type. Mechanistically C/EBPR35A exhibits an increased affinity for PU.1, a bi-lineage transcription factor required for C/EBP-induced BMT. The complex induces more rapid chromatin accessibility changes and an enhanced relocation (stealing) of PU.1 from B cell to myeloid gene regulatory elements. Arginine 35 is methylated by Carm1 and inhibition of the enzyme accelerates BMT, similar to the mutant. Our data suggest that the relative proportions of methylated and unmethylated C/EBP in a bipotent progenitor can determine the velocity of cell fate choice and lineage directionality.', 'published': '10.7554/elife.83951', 'node': 42511, 'link_page': 'https://www.biorxiv.org/content/10.1101/2022.10.03.510647v3?versioned=TRUE', 'link_pdf': 'https://www.biorxiv.org/content/10.1101/2022.10.03.510647v3.full.pdf'}\n",
      "{'doi': '10.1101/2022.10.03.510647', 'title': 'Carm1 regulates the speed of C/EBPa-induced transdifferentiation by a cofactor stealing mechanism', 'authors': 'Garcia, G. T.; Kowenz-Leutz, E.; Tian, T. V.; Klonizakis, A.; Lerner, J.; De Andres-Aguayo, L.; Berenguer, C.; Carmona, M. P.; Casadesus, M. V.; Bulteau, R.; Francesconi, M.; Leutz, A.; Zaret, K. S.; Zaret, K. S.; Peiro, S.', 'author_corresponding': 'Achim Leutz', 'author_corresponding_institution': 'MDC, Berlin', 'date': '2022-10-04', 'version': '1', 'license': 'cc_by_nc_nd', 'category': 'Cell Biology', 'jatsxml': 'https://www.biorxiv.org/content/early/2022/10/04/2022.10.03.510647.source.xml', 'abstract': 'Cell fate decisions are driven by lineage-restricted transcription factors but how they are regulated is incompletely understood. The C/EBP-induced B cell to macrophage transdifferentiation (BMT) is a powerful system to address this question. Here we describe that C/EBP with a single arginine mutation (C/EBPR35A) induces a dramatically accelerated BMT in mouse and human cells. Changes in the expression of lineage-restricted genes occur as early as within 1 hour compared to 18 hours with the wild type. Mechanistically C/EBPR35A exhibits an increased affinity for PU.1, a bi-lineage transcription factor required for C/EBP-induced BMT. The complex induces more rapid chromatin accessibility changes and an enhanced relocation (stealing) of PU.1 from B cell to myeloid gene regulatory elements. Arginine 35 is methylated by Carm1 and inhibition of the enzyme accelerates BMT, similar to the mutant. Our data suggest that the relative proportions of methylated and unmethylated C/EBP in a bipotent progenitor can determine the velocity of cell fate choice and lineage directionality.', 'published': '10.7554/elife.83951', 'node': 42509, 'link_page': 'https://www.biorxiv.org/content/10.1101/2022.10.03.510647v1?versioned=TRUE', 'link_pdf': 'https://www.biorxiv.org/content/10.1101/2022.10.03.510647v1.full.pdf'}\n",
      "{'doi': '10.1101/2022.10.03.510647', 'title': 'Carm1 regulates the speed of C/EBPa-induced transdifferentiation by a cofactor stealing mechanism', 'authors': 'Garcia, G. T.; Kowenz-Leutz, E.; Tian, T. V.; Klonizakis, A.; Lerner, J.; De Andres-Aguayo, L.; Berenguer, C.; Carmona, M. P.; Casadesus, M. V.; Bulteau, R.; Francesconi, M.; Peiro, S.; Zaret, K. S.; Leutz, A.; Graf, T.', 'author_corresponding': 'Achim Leutz', 'author_corresponding_institution': 'MDC, Berlin', 'date': '2022-10-04', 'version': '2', 'license': 'cc_by_nc_nd', 'category': 'Cell Biology', 'jatsxml': 'https://www.biorxiv.org/content/early/2022/10/04/2022.10.03.510647.source.xml', 'abstract': 'Cell fate decisions are driven by lineage-restricted transcription factors but how they are regulated is incompletely understood. The C/EBP-induced B cell to macrophage transdifferentiation (BMT) is a powerful system to address this question. Here we describe that C/EBP with a single arginine mutation (C/EBPR35A) induces a dramatically accelerated BMT in mouse and human cells. Changes in the expression of lineage-restricted genes occur as early as within 1 hour compared to 18 hours with the wild type. Mechanistically C/EBPR35A exhibits an increased affinity for PU.1, a bi-lineage transcription factor required for C/EBP-induced BMT. The complex induces more rapid chromatin accessibility changes and an enhanced relocation (stealing) of PU.1 from B cell to myeloid gene regulatory elements. Arginine 35 is methylated by Carm1 and inhibition of the enzyme accelerates BMT, similar to the mutant. Our data suggest that the relative proportions of methylated and unmethylated C/EBP in a bipotent progenitor can determine the velocity of cell fate choice and lineage directionality.', 'published': '10.7554/elife.83951', 'node': 42510, 'link_page': 'https://www.biorxiv.org/content/10.1101/2022.10.03.510647v2?versioned=TRUE', 'link_pdf': 'https://www.biorxiv.org/content/10.1101/2022.10.03.510647v2.full.pdf'}\n",
      "{'doi': '10.1101/2022.10.03.510647', 'title': 'Carm1 regulates the speed of C/EBPa-induced transdifferentiation by a cofactor stealing mechanism', 'authors': 'Garcia, G. T.; Kowenz-Leutz, E.; Tian, T. V.; Klonizakis, A.; Lerner, J.; De Andres-Aguayo, L.; Berenguer, C.; Carmona, M. P.; Casadesus, M. V.; Bulteau, R.; Francesconi, M.; Peiro, S.; Zaret, K. S.; Leutz, A.; Graf, T.', 'author_corresponding': 'Achim Leutz', 'author_corresponding_institution': 'MDC, Berlin', 'date': '2022-10-09', 'version': '3', 'license': 'cc_by_nd', 'category': 'Cell Biology', 'jatsxml': 'https://www.biorxiv.org/content/early/2022/10/09/2022.10.03.510647.source.xml', 'abstract': 'Cell fate decisions are driven by lineage-restricted transcription factors but how they are regulated is incompletely understood. The C/EBP-induced B cell to macrophage transdifferentiation (BMT) is a powerful system to address this question. Here we describe that C/EBP with a single arginine mutation (C/EBPR35A) induces a dramatically accelerated BMT in mouse and human cells. Changes in the expression of lineage-restricted genes occur as early as within 1 hour compared to 18 hours with the wild type. Mechanistically C/EBPR35A exhibits an increased affinity for PU.1, a bi-lineage transcription factor required for C/EBP-induced BMT. The complex induces more rapid chromatin accessibility changes and an enhanced relocation (stealing) of PU.1 from B cell to myeloid gene regulatory elements. Arginine 35 is methylated by Carm1 and inhibition of the enzyme accelerates BMT, similar to the mutant. Our data suggest that the relative proportions of methylated and unmethylated C/EBP in a bipotent progenitor can determine the velocity of cell fate choice and lineage directionality.', 'published': '10.7554/elife.83951', 'node': 42511, 'link_page': 'https://www.biorxiv.org/content/10.1101/2022.10.03.510647v3?versioned=TRUE', 'link_pdf': 'https://www.biorxiv.org/content/10.1101/2022.10.03.510647v3.full.pdf'}\n",
      "-------------------------\n",
      "CPU times: user 6.44 ms, sys: 3.23 ms, total: 9.67 ms\n",
      "Wall time: 19 ms\n"
     ]
    }
   ],
   "source": [
    "%%time\n",
    "\n",
    "query = {\n",
    "    \"match_phrase\": {\n",
    "        \"title\": \"Carm1 regulates the speed of\"\n",
    "    }\n",
    "}\n",
    "\n",
    "# Example usage: Fetch the first page of results, assuming 6 results per page\n",
    "# See the scroll api for a more efficient way to request large data sets\n",
    "page_number = 1\n",
    "page_size = 6\n",
    "results = search_data(es, index_name, query, page_number, page_size)\n",
    "\n",
    "print(\"Results: \",len(results), \"\\n\")\n",
    "\n",
    "for result in results:\n",
    "    print(result)\n",
    "\n",
    "print(\"-\" * 25)"
   ]
  },
  {
   "cell_type": "markdown",
   "id": "9f79a7a8-0a57-4839-9506-6e7cff75f0d5",
   "metadata": {},
   "source": [
    "\n",
    "### Multi-Match Query\n",
    "Search for a text across multiple fields.\n"
   ]
  },
  {
   "cell_type": "code",
   "execution_count": 168,
   "id": "112d1a8a-3e4a-4246-9b71-81496ede2263",
   "metadata": {},
   "outputs": [
    {
     "name": "stdout",
     "output_type": "stream",
     "text": [
      "Results:  3 \n",
      "\n",
      "{'doi': '10.1101/2021.04.02.438179', 'title': 'Mechanism of transcription modulation by the transcription-repair coupling factor', 'authors': 'Paudel, B. P.; Xu, Z.-Q.; Jergic, S.; Oakley, A. J.; Sharma, N.; Brown, S. H.; Bouwer, J. C.; Lewis, P.; Dixon, N. E.; Van Oijen, A. M.; Ghodke, H.', 'author_corresponding': 'Harshad  Ghodke', 'author_corresponding_institution': 'University of Wollongong', 'date': '2022-02-22', 'version': '3', 'license': 'cc_no', 'category': 'Biophysics', 'jatsxml': 'https://www.biorxiv.org/content/early/2022/02/22/2021.04.02.438179.source.xml', 'abstract': 'Elongation by RNA polymerase is dynamically modulated by accessory factors. The transcription-repair coupling factor (TRCF) recognizes distressed RNAPs and either rescues transcription or initiates transcription termination. Precisely how TRCFs choose to execute either outcome remains unclear. With Escherichia coli as a model, we used single-molecule assays to study dynamic modulation of elongation by Mfd, the bacterial TRCF. We found that nucleotide-bound Mfd converts the elongation complex (EC) into a catalytically poised state, presenting the EC with an opportunity to restart transcription. After long-lived residence in this catalytically poised state, ATP hydrolysis by Mfd remodels the EC through an irreversible process leading to loss of the RNA transcript. Further, biophysical studies revealed that the motor domain of Mfd binds and partially melts DNA containing a template strand overhang. The results explain pathway choice determining the fate of the EC and provide a molecular mechanism for transcription modulation by TRCF.', 'published': '10.1093/nar/gkac449', 'node': 1939, 'link_page': 'https://www.biorxiv.org/content/10.1101/2021.04.02.438179v3?versioned=TRUE', 'link_pdf': 'https://www.biorxiv.org/content/10.1101/2021.04.02.438179v3.full.pdf'}\n",
      "{'doi': '10.1101/2022.11.21.517317', 'title': 'Targeted disruption of transcription bodies causes widespread activation of transcription', 'authors': 'Ugolini, M.; Kuznetsova, K.; Oda, H.; Kimura, H.; Vastenhouw, N. L.', 'author_corresponding': 'Nadine L. Vastenhouw', 'author_corresponding_institution': 'MPI-CBG, UNIL', 'date': '2022-11-21', 'version': '1', 'license': 'cc_by_nc_nd', 'category': 'Cell Biology', 'jatsxml': 'https://www.biorxiv.org/content/early/2022/11/21/2022.11.21.517317.source.xml', 'abstract': 'The localization of transcriptional activity in specialized transcription bodies is a hallmark of gene expression in eukaryotic cells. It remains unclear, however, if and how they affect gene expression. Here, we disrupted the formation of two prominent endogenous transcription bodies that mark the onset of zygotic transcription in zebrafish embryos and analysed the effect on gene expression using enriched SLAM-Seq and live-cell imaging. We find that the disruption of transcription bodies results in downregulation of hundreds of genes, providing experimental support for a model in which transcription bodies increase the efficiency of transcription. We also find that a significant number of genes are upregulated, counter to the suggested stimulatory effect of transcription bodies. These upregulated genes have accessible chromatin and are poised to be transcribed in the presence of the two transcription bodies, but they do not go into elongation. Live-cell imaging shows that the disruption of the two large transcription bodies enables these poised genes to be transcribed in ectopic transcription bodies, suggesting that the large transcription bodies sequester a pause release factor. Supporting this hypothesis, we find that CDK9, the kinase that releases paused polymerase II, is highly enriched in the two large transcription bodies. Importantly, overexpression of CDK9 in wild type embryos results in the formation of ectopic transcription bodies and thus phenocopies the removal of the two large transcription bodies. Taken together, our results show that transcription bodies regulate transcription genome-wide: the accumulation of transcriptional machinery creates a favourable environment for transcription locally, while depriving genes elsewhere in the nucleus from the same machinery.', 'published': 'NA', 'node': 49272, 'link_page': 'https://www.biorxiv.org/content/10.1101/2022.11.21.517317v1?versioned=TRUE', 'link_pdf': 'https://www.biorxiv.org/content/10.1101/2022.11.21.517317v1.full.pdf'}\n",
      "{'doi': '10.1101/2022.11.21.517317', 'title': 'Targeted disruption of transcription bodies causes widespread activation of transcription', 'authors': 'Ugolini, M.; Kuznetsova, K.; Oda, H.; Kimura, H.; Vastenhouw, N. L.', 'author_corresponding': 'Nadine L. Vastenhouw', 'author_corresponding_institution': 'MPI-CBG, UNIL', 'date': '2022-11-21', 'version': '1', 'license': 'cc_by_nc_nd', 'category': 'Cell Biology', 'jatsxml': 'https://www.biorxiv.org/content/early/2022/11/21/2022.11.21.517317.source.xml', 'abstract': 'The localization of transcriptional activity in specialized transcription bodies is a hallmark of gene expression in eukaryotic cells. It remains unclear, however, if and how they affect gene expression. Here, we disrupted the formation of two prominent endogenous transcription bodies that mark the onset of zygotic transcription in zebrafish embryos and analysed the effect on gene expression using enriched SLAM-Seq and live-cell imaging. We find that the disruption of transcription bodies results in downregulation of hundreds of genes, providing experimental support for a model in which transcription bodies increase the efficiency of transcription. We also find that a significant number of genes are upregulated, counter to the suggested stimulatory effect of transcription bodies. These upregulated genes have accessible chromatin and are poised to be transcribed in the presence of the two transcription bodies, but they do not go into elongation. Live-cell imaging shows that the disruption of the two large transcription bodies enables these poised genes to be transcribed in ectopic transcription bodies, suggesting that the large transcription bodies sequester a pause release factor. Supporting this hypothesis, we find that CDK9, the kinase that releases paused polymerase II, is highly enriched in the two large transcription bodies. Importantly, overexpression of CDK9 in wild type embryos results in the formation of ectopic transcription bodies and thus phenocopies the removal of the two large transcription bodies. Taken together, our results show that transcription bodies regulate transcription genome-wide: the accumulation of transcriptional machinery creates a favourable environment for transcription locally, while depriving genes elsewhere in the nucleus from the same machinery.', 'published': 'NA', 'node': 49272, 'link_page': 'https://www.biorxiv.org/content/10.1101/2022.11.21.517317v1?versioned=TRUE', 'link_pdf': 'https://www.biorxiv.org/content/10.1101/2022.11.21.517317v1.full.pdf'}\n",
      "-------------------------\n",
      "CPU times: user 6.75 ms, sys: 0 ns, total: 6.75 ms\n",
      "Wall time: 16.1 ms\n"
     ]
    }
   ],
   "source": [
    "%%time\n",
    "\n",
    "query = {\n",
    "    \"multi_match\": {\n",
    "        \"query\": \"transcription\",\n",
    "        \"fields\": [\"title\", \"abstract\"]\n",
    "    }\n",
    "}\n",
    "\n",
    "# Example usage: Fetch the first page of results, assuming 3 results per page\n",
    "# See the scroll api for a more efficient way to request large data sets\n",
    "page_number = 1\n",
    "page_size = 3\n",
    "results = search_data(es, index_name, query, page_number, page_size)\n",
    "\n",
    "print(\"Results: \",len(results), \"\\n\")\n",
    "\n",
    "for result in results:\n",
    "    print(result)\n",
    "\n",
    "print(\"-\" * 25)"
   ]
  },
  {
   "cell_type": "markdown",
   "id": "1189211e-fd75-4f5d-91a0-31f5224e7c5f",
   "metadata": {},
   "source": [
    "### Advanced Filtering: Beyond Keywords"
   ]
  },
  {
   "cell_type": "markdown",
   "id": "a62554d3-fd0f-4dff-bb59-98a63c2e711e",
   "metadata": {},
   "source": [
    "Filtering allows for more refined searches, such as retrieving documents within a specific date range or by particular authors, enhancing the precision of your data analysis.\n"
   ]
  },
  {
   "cell_type": "code",
   "execution_count": 169,
   "id": "6f3125f7-3853-439a-b003-b5e939b5e809",
   "metadata": {},
   "outputs": [
    {
     "name": "stdout",
     "output_type": "stream",
     "text": [
      "Results:  5 \n",
      "\n",
      "{'doi': '10.1101/2023.05.24.542151', 'title': 'POMBOX: a fission yeast toolkit for molecular and synthetic biology', 'authors': 'Hebra, T.; Smrckova, H.; Elkatmis, B.; Prevorovsky, M.; Pluskal, T.', 'author_corresponding': 'Tomas Pluskal', 'author_corresponding_institution': 'Institute of Organic Chemistry and Biochemistry of the Czech Academy of Sciences, Praha, Czech Republic', 'date': '2023-05-24', 'version': '1', 'license': 'cc_by_nc_nd', 'category': 'Synthetic Biology', 'jatsxml': 'https://www.biorxiv.org/content/early/2023/05/24/2023.05.24.542151.source.xml', 'abstract': 'Schizosaccharomyces pombe is a popular model organism in molecular biology and cell physiology. With its ease of genetic manipulation and growth, supported by in-depth functional annotation in the PomBase database and genome-wide metabolic models, S. pombe is an attractive option for synthetic biology applications. However, S. pombe currently lacks modular tools for generating genetic circuits with more than one transcriptional unit. We have developed a toolkit to address this issue. Adapted from the MoClo- YTK plasmid kit for Saccharomyces cerevisiae and using the same Golden Gate grammar, our POMBOX toolkit is designed to facilitate the fast, efficient and modular construction of genetic circuits in S. pombe. It allows for interoperability when working with DNA sequences that are functional in both S. cerevisiae and S. pombe (e.g. protein tag, antibiotic resistance cassette, coding sequences). Moreover, POMBOX enables the modular assembly of multi-gene pathways and increases possible pathway length from 6 to 12 transcriptional units. We also adapted the stable integration vector homology arms to Golden Gate assembly and tested the genomic integration success rate depending on different sequence sizes, from four to twenty-four kilobases. We included fourteen S. pombe promoters that we characterized for two fluorescent proteins, in both minimal defined media (EMM2) and complex media (YES). Then we tested six S. cerevisiae and six synthetic terminators in S. pombe. Finally, we used the POMBOX kit for a synthetic biology application in metabolic engineering and expressed plant enzymes in S. pombe to produce specialized metabolite precursors, namely methylxanthine, amorpha-4,11-diene and cinnamic acid from the purine, mevalonate and amino acid pathways.', 'published': 'NA', 'node': 74136, 'link_page': 'https://www.biorxiv.org/content/10.1101/2023.05.24.542151v1?versioned=TRUE', 'link_pdf': 'https://www.biorxiv.org/content/10.1101/2023.05.24.542151v1.full.pdf'}\n",
      "{'doi': '10.1101/2023.05.24.542151', 'title': 'POMBOX: a fission yeast toolkit for molecular and synthetic biology', 'authors': 'Hebra, T.; Smrckova, H.; Elkatmis, B.; Prevorovsky, M.; Pluskal, T.', 'author_corresponding': 'Tomas Pluskal', 'author_corresponding_institution': 'Institute of Organic Chemistry and Biochemistry of the Czech Academy of Sciences, Praha, Czech Republic', 'date': '2023-05-24', 'version': '1', 'license': 'cc_by_nc_nd', 'category': 'Synthetic Biology', 'jatsxml': 'https://www.biorxiv.org/content/early/2023/05/24/2023.05.24.542151.source.xml', 'abstract': 'Schizosaccharomyces pombe is a popular model organism in molecular biology and cell physiology. With its ease of genetic manipulation and growth, supported by in-depth functional annotation in the PomBase database and genome-wide metabolic models, S. pombe is an attractive option for synthetic biology applications. However, S. pombe currently lacks modular tools for generating genetic circuits with more than one transcriptional unit. We have developed a toolkit to address this issue. Adapted from the MoClo- YTK plasmid kit for Saccharomyces cerevisiae and using the same Golden Gate grammar, our POMBOX toolkit is designed to facilitate the fast, efficient and modular construction of genetic circuits in S. pombe. It allows for interoperability when working with DNA sequences that are functional in both S. cerevisiae and S. pombe (e.g. protein tag, antibiotic resistance cassette, coding sequences). Moreover, POMBOX enables the modular assembly of multi-gene pathways and increases possible pathway length from 6 to 12 transcriptional units. We also adapted the stable integration vector homology arms to Golden Gate assembly and tested the genomic integration success rate depending on different sequence sizes, from four to twenty-four kilobases. We included fourteen S. pombe promoters that we characterized for two fluorescent proteins, in both minimal defined media (EMM2) and complex media (YES). Then we tested six S. cerevisiae and six synthetic terminators in S. pombe. Finally, we used the POMBOX kit for a synthetic biology application in metabolic engineering and expressed plant enzymes in S. pombe to produce specialized metabolite precursors, namely methylxanthine, amorpha-4,11-diene and cinnamic acid from the purine, mevalonate and amino acid pathways.', 'published': 'NA', 'node': 74136, 'link_page': 'https://www.biorxiv.org/content/10.1101/2023.05.24.542151v1?versioned=TRUE', 'link_pdf': 'https://www.biorxiv.org/content/10.1101/2023.05.24.542151v1.full.pdf'}\n",
      "{'doi': '10.1101/2022.06.30.498253', 'title': 'A DARPin-based molecular toolset to probe gephyrin and inhibitory synapse biology', 'authors': 'Campbell, B. F.; Dittmann, A.; Dreier, B.; Plückthun, A.; Tyagarajan, S. K.', 'author_corresponding': 'Shiva K  Tyagarajan', 'author_corresponding_institution': 'University of Zurich', 'date': '2022-07-03', 'version': '1', 'license': 'cc_by', 'category': 'Neuroscience', 'jatsxml': 'https://www.biorxiv.org/content/early/2022/07/03/2022.06.30.498253.source.xml', 'abstract': 'Neuroscience currently requires the use of antibodies to study synaptic proteins, where antibody binding is used as a correlate to define the presence, plasticity, and regulation of synapses. Gephyrin is an inhibitory synaptic scaffolding protein used to mark GABAergic and glycinergic postsynaptic sites. Despite the importance of gephyrin in modulating inhibitory transmission, its study is currently limited by the tractability of available reagents. Designed Ankyrin Repeat Proteins (DARPins) are a class of synthetic protein binder derived from diverse libraries by in vitro selection, and tested by high-throughput screening to produce specific binders. In order to generate a functionally diverse toolset for studying inhibitory synapses, we screened a DARPin library against gephyrin mutants representing both phosphorylated and dephosphorylated states. We validated the robust use of anti-gephyrin DARPin clones for morphological identification of gephyrin clusters in rodent neuron culture and brain tissue, discovering previously overlooked clusters. This DARPin-based toolset includes clones with heterogenous gephyrin binding modes that allowed for identification of the most extensive gephyrin interactome to date, and defined novel classes of putative interactors, creating a framework for understanding gephyrins non-synaptic functions. This study demonstrates anti-gephyrin DARPins as a versatile platform for studying inhibitory synapses in an unprecedented manner.', 'published': '10.7554/eLife.80895', 'node': 30322, 'link_page': 'https://www.biorxiv.org/content/10.1101/2022.06.30.498253v1?versioned=TRUE', 'link_pdf': 'https://www.biorxiv.org/content/10.1101/2022.06.30.498253v1.full.pdf'}\n",
      "{'doi': '10.1101/2023.08.11.553013', 'title': 'Efficient Natural Plasmid Transformation of Vibrio natriegens Enables Zero-capital Molecular Biology', 'authors': 'Specht, D. A.; Sheppard, T. J.; Kennedy, F.; Li, S.; Gadikota, G.; Barstow, B.', 'author_corresponding': 'Buz Barstow', 'author_corresponding_institution': 'Cornell University', 'date': '2023-08-13', 'version': '1', 'license': 'cc_no', 'category': 'Synthetic Biology', 'jatsxml': 'https://www.biorxiv.org/content/early/2023/08/13/2023.08.11.553013.source.xml', 'abstract': 'The fast-growing microbe Vibrio natriegens is capable of natural transformation where it draws DNA in from media via an active process under physiological conditions. Using an engineered strain with a genomic copy of the master competence regulator tfoX from Vibrio cholera in combination with a new minimal competence media (MCM) that uses acetate as an energy source, we demonstrate naturally competent cells which are created, transformed, and recovered entirely in the same media, without exchange or addition of new media. Cells are naturally competent to plasmids, recombination with linear DNA, and co-transformation of both to select for scarless and markerless genomic edits. The entire process is simple and inexpensive, requiring no capital equipment for an entirely room temperature process (Zero Capital protocol, 104 cfu/{micro}g), or just an incubator (High Efficiency protocol, 105-6 cfu/{micro}g). These cells retain their naturally competent state when frozen and are transformable immediately upon thawing like a typical chemical or electrochemical competent cell. Since the optimized transformation protocol requires only 50 minutes of hands-on time, and V. natriegens grows quickly even on plates, a transformation started at 9 AM yields abundant culturable single colonies by 5 PM. Further, because all stages of transformation occur in the same media, and the process can be arbitrarily scaled in volume, this natural competence strain and media could be ideal for automated directed evolution applications. As a result, naturally competent V. natriegens could compete with E. coli as an excellent chassis for low-cost and highly scalable synthetic biology.', 'published': 'NA', 'node': 84610, 'link_page': 'https://www.biorxiv.org/content/10.1101/2023.08.11.553013v1?versioned=TRUE', 'link_pdf': 'https://www.biorxiv.org/content/10.1101/2023.08.11.553013v1.full.pdf'}\n",
      "{'doi': '10.1101/2022.06.30.498253', 'title': 'A DARPin-based molecular toolset to probe gephyrin and inhibitory synapse biology', 'authors': 'Campbell, B. F.; Dittmann, A.; Dreier, B.; Plückthun, A.; Tyagarajan, S. K.', 'author_corresponding': 'Shiva K  Tyagarajan', 'author_corresponding_institution': 'University of Zurich', 'date': '2022-07-03', 'version': '1', 'license': 'cc_by', 'category': 'Neuroscience', 'jatsxml': 'https://www.biorxiv.org/content/early/2022/07/03/2022.06.30.498253.source.xml', 'abstract': 'Neuroscience currently requires the use of antibodies to study synaptic proteins, where antibody binding is used as a correlate to define the presence, plasticity, and regulation of synapses. Gephyrin is an inhibitory synaptic scaffolding protein used to mark GABAergic and glycinergic postsynaptic sites. Despite the importance of gephyrin in modulating inhibitory transmission, its study is currently limited by the tractability of available reagents. Designed Ankyrin Repeat Proteins (DARPins) are a class of synthetic protein binder derived from diverse libraries by in vitro selection, and tested by high-throughput screening to produce specific binders. In order to generate a functionally diverse toolset for studying inhibitory synapses, we screened a DARPin library against gephyrin mutants representing both phosphorylated and dephosphorylated states. We validated the robust use of anti-gephyrin DARPin clones for morphological identification of gephyrin clusters in rodent neuron culture and brain tissue, discovering previously overlooked clusters. This DARPin-based toolset includes clones with heterogenous gephyrin binding modes that allowed for identification of the most extensive gephyrin interactome to date, and defined novel classes of putative interactors, creating a framework for understanding gephyrins non-synaptic functions. This study demonstrates anti-gephyrin DARPins as a versatile platform for studying inhibitory synapses in an unprecedented manner.', 'published': '10.7554/eLife.80895', 'node': 30322, 'link_page': 'https://www.biorxiv.org/content/10.1101/2022.06.30.498253v1?versioned=TRUE', 'link_pdf': 'https://www.biorxiv.org/content/10.1101/2022.06.30.498253v1.full.pdf'}\n",
      "-------------------------\n",
      "CPU times: user 937 µs, sys: 3.71 ms, total: 4.65 ms\n",
      "Wall time: 10.9 ms\n"
     ]
    }
   ],
   "source": [
    "%%time\n",
    "\n",
    "query = {\n",
    "    \"bool\": {\n",
    "        \"must\": {\n",
    "            \"match\": {\"title\": \"Molecular Biology\"}\n",
    "        },\n",
    "        \"filter\": {\n",
    "            \"range\": {\n",
    "                # publish_date\n",
    "                \"date\": {\n",
    "                    \"gte\": \"2022-01-01\",\n",
    "                    \"lte\": \"2023-12-31\"\n",
    "                }\n",
    "            }\n",
    "        }\n",
    "    }\n",
    "}\n",
    "\n",
    "# Example usage: Fetch the first page of results, assuming 5 results per page\n",
    "# See the scroll api for a more efficient way to request large data sets\n",
    "page_number = 1\n",
    "page_size = 5\n",
    "results = search_data(es, index_name, query, page_number, page_size)\n",
    "\n",
    "print(\"Results: \",len(results), \"\\n\")\n",
    "\n",
    "for result in results:\n",
    "    print(result)\n",
    "\n",
    "print(\"-\" * 25)"
   ]
  },
  {
   "cell_type": "markdown",
   "id": "8afdd444-5566-454f-9ce2-9f156712d3bd",
   "metadata": {},
   "source": [
    "### Aggregation Query\n"
   ]
  },
  {
   "cell_type": "markdown",
   "id": "7be4b39d-4796-4e98-935b-640fb87afb87",
   "metadata": {},
   "source": [
    "Aggregations are pivotal for summarizing data, enabling the analysis of trends across thousands of documents. For example, an aggregation query to count publications by category:"
   ]
  },
  {
   "cell_type": "code",
   "execution_count": 170,
   "id": "da813399-4710-40b2-8f17-b4dcdb001e84",
   "metadata": {},
   "outputs": [],
   "source": [
    "query = {\n",
    "    \"size\": 0,  # Important for aggregations, as you might not be interested in the hits but the aggregation results\n",
    "    \"aggs\": {\n",
    "        \"categories\": {  # This name must match what you access in the results\n",
    "            \"terms\": {\n",
    "                \"field\": \"category.keyword\",  # Adjust based on your actual field name\n",
    "                \"size\": 10  # Adjust the size as needed\n",
    "            }\n",
    "        }\n",
    "    }\n",
    "}\n"
   ]
  },
  {
   "cell_type": "code",
   "execution_count": 171,
   "id": "cd0c444b-fd09-4c7d-bcab-cf1b02057e61",
   "metadata": {},
   "outputs": [],
   "source": [
    "def search_data_with_aggregation(es: Elasticsearch, index_name: str, query: Dict[str, Any]) -> List[Dict[str, Any]]:\n",
    "    try:\n",
    "        response = es.search(index=index_name, body=query)\n",
    "        if 'aggregations' in response:\n",
    "            # Safely access the 'categories' aggregation results\n",
    "            categories_agg = response.get('aggregations', {}).get('categories', {}).get('buckets', [])\n",
    "            return categories_agg  # Directly return the categories aggregation results\n",
    "        else:\n",
    "            print(\"No aggregations found in the response.\")\n",
    "            return []\n",
    "    except Exception as e:\n",
    "        print(f\"Search failed: {e}\")\n",
    "        return []"
   ]
  },
  {
   "cell_type": "markdown",
   "id": "0f2dc134-dc58-4322-9296-29a3bf220ae9",
   "metadata": {},
   "source": [
    "#### Aggregate data, such as counting documents by category."
   ]
  },
  {
   "cell_type": "markdown",
   "id": "905b54ee-bdfa-49c7-8260-2812758f0731",
   "metadata": {},
   "source": [
    "Checks if the response contains an 'aggregations' key and processes the results accordingly. For aggregation queries, it returns the aggregation results directly. "
   ]
  },
  {
   "cell_type": "code",
   "execution_count": 172,
   "id": "ff4b7ffa-760f-4d54-9747-5c6ab81594d3",
   "metadata": {},
   "outputs": [
    {
     "name": "stdout",
     "output_type": "stream",
     "text": [
      "Category: Neuroscience, Count: 40174\n",
      "Category: Microbiology, Count: 18624\n",
      "Category: Bioinformatics, Count: 18114\n",
      "Category: Cell Biology, Count: 12558\n",
      "Category: Biophysics, Count: 10406\n",
      "Category: Evolutionary Biology, Count: 10384\n",
      "Category: Biochemistry, Count: 8914\n",
      "Category: Immunology, Count: 8834\n",
      "Category: Cancer Biology, Count: 8824\n",
      "Category: Ecology, Count: 8802\n",
      "CPU times: user 3.41 ms, sys: 0 ns, total: 3.41 ms\n",
      "Wall time: 13.4 ms\n"
     ]
    }
   ],
   "source": [
    "%%time\n",
    "\n",
    "# Assuming 'es', 'index_name', and 'query' are properly defined\n",
    "results = search_data_with_aggregation(es, index_name, query)\n",
    "\n",
    "# Display the aggregation results\n",
    "if results:\n",
    "    for category in results:\n",
    "        print(f\"Category: {category['key']}, Count: {category['doc_count']}\")\n",
    "else:\n",
    "    print(\"No results found.\")"
   ]
  },
  {
   "cell_type": "markdown",
   "id": "a916a837-b9cb-4f29-b87b-1e7a7608aee4",
   "metadata": {},
   "source": [
    "---"
   ]
  },
  {
   "cell_type": "markdown",
   "id": "b4d9fc1b-cfbc-4bc6-811e-316c0759eb4b",
   "metadata": {},
   "source": [
    "### The biorxiv database was downloaded from the medrxivr library"
   ]
  },
  {
   "cell_type": "markdown",
   "id": "47bd8fe5-986a-4d1e-a7a3-7154558086dc",
   "metadata": {},
   "source": [
    "The json file used is structure as a list of dictionaries downloaded by MedrdR from a specific date range from 2022 to 2024 and contain 000 papers of data"
   ]
  },
  {
   "cell_type": "markdown",
   "id": "13b8ef33-e433-45ca-8a4b-2af5c05d8ac5",
   "metadata": {},
   "source": [
    "```python\n",
    "[\n",
    "  {\n",
    "    \"doi\": \"10.1101/043794\",\n",
    "    \"title\": \"Modeling methyl-sensitive transcription factor motifs with an expanded epigenetic alphabet\",\n",
    "    \"authors\": \"Viner, C.; Ishak, C. A.; Johnson, J.; Walker, N. J.; Shi, H.; Sjöberg-Herrera, M. K.; Shen, S. Y.; Lardo, S. M.; Adams, D. J.; Ferguson-Smith, A. C.; De Carvalho, D. D.; Hainer, S. J.; Bailey, T. L.; Hoffman, M. M.\",\n",
    "    \"author_corresponding\": \"Michael M. Hoffman\",\n",
    "    \"author_corresponding_institution\": \"Princess Margaret Cancer Centre, Toronto, ON, Canada\",\n",
    "    \"date\": \"2022-07-29\",\n",
    "    \"version\": \"2\",\n",
    "    \"license\": \"cc_by_nc_nd\",\n",
    "    \"category\": \"Bioinformatics\",\n",
    "    \"jatsxml\": \"https://www.biorxiv.org/content/early/2022/07/29/043794.source.xml\",\n",
    "    \"abstract\": \"Transcription factors bind DNA in specific sequence contexts. In addition to distinguishing one nucleobase from another, some transcription factors can distinguish between unmodified and modified bases. Current models of transcription factor binding tend not take DNA modifications into account, while the recent few that do often have limitations. This makes a comprehensive and accurate profiling of transcription factor affinities difficult.\\n\\nHere, we developed methods to identify transcription factor binding sites in modified DNA. Our models expand the standard A/C/G/T DNA alphabet to include cytosine modifications. We developed Cytomod to create modified genomic sequences and enhanced the Multiple EM for Motif Elicitation (MEME) Suite by adding the capacity to handle custom alphabets. We adapted the well-established position weight matrix (PWM) model of transcription factor binding affinity to this expanded DNA alphabet.\\n\\nUsing these methods, we identified modification-sensitive transcription factor binding motifs. We confirmed established binding preferences, such as the preference of ZFP57 and C/EBP{beta} for methylated motifs and the preference of c-Myc for unmethylated E-box motifs. Using known binding preferences to tune model parameters, we discovered novel modified motifs for a wide array of transcription factors. Finally, we validated predicted binding preferences of OCT4 using cleavage under targets and release using nuclease (CUT&RUN) experiments across conventional, methylation-, and hydroxymethylation-enriched sequences. Our approach readily extends to other DNA modifications. As more genome-wide single-base resolution modification data becomes available, we expect that our method will yield insights into altered transcription factor binding affinities across many different modifications.\",\n",
    "    \"published\": \"NA\",\n",
    "    \"node\": 2,\n",
    "    \"link_page\": \"https://www.biorxiv.org/content/10.1101/043794v2?versioned=TRUE\",\n",
    "    \"link_pdf\": \"https://www.biorxiv.org/content/10.1101/043794v2.full.pdf\"\n",
    "  },\n",
    "]\n",
    "```"
   ]
  },
  {
   "cell_type": "markdown",
   "id": "5dbdcbd7-e19d-4c21-9474-1a30e4921d55",
   "metadata": {},
   "source": [
    "### Final Note: The Impact of Advanced Querying on Research\n"
   ]
  },
  {
   "cell_type": "markdown",
   "id": "cff06250-b16f-4f7c-941b-e3d390eaa559",
   "metadata": {},
   "source": [
    "Advanced querying techniques in Elasticsearch empower researchers to navigate and analyze the vast repository of BiorXiv data with unprecedented depth and precision. From basic keyword searches to sophisticated aggregations and scripted calculations, Elasticsearch facilitates a comprehensive understanding of the life sciences landscape. By harnessing these querying capabilities, researchers can accelerate discovery, foster innovation, and contribute to the advancement of science.\n",
    "\n"
   ]
  },
  {
   "cell_type": "markdown",
   "id": "715f4043-82d1-4e8a-98c5-451b478c3e6a",
   "metadata": {},
   "source": [
    "---"
   ]
  },
  {
   "cell_type": "code",
   "execution_count": null,
   "id": "8ccb1cb0-c17d-49aa-89cf-dd365ca3537c",
   "metadata": {},
   "outputs": [],
   "source": []
  }
 ],
 "metadata": {
  "kernelspec": {
   "display_name": "Python 3 (ipykernel)",
   "language": "python",
   "name": "python3"
  },
  "language_info": {
   "codemirror_mode": {
    "name": "ipython",
    "version": 3
   },
   "file_extension": ".py",
   "mimetype": "text/x-python",
   "name": "python",
   "nbconvert_exporter": "python",
   "pygments_lexer": "ipython3",
   "version": "3.12.1"
  }
 },
 "nbformat": 4,
 "nbformat_minor": 5
}
