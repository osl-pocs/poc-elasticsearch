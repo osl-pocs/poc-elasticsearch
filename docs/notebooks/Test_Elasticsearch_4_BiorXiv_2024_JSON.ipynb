{
 "cells": [
  {
   "cell_type": "markdown",
   "id": "7bc4bad6-861f-45cd-b532-e33c7ec59c42",
   "metadata": {},
   "source": [
    "# Advanced Querying Techniques in Elasticsearch for BiorXiv Data Analysis"
   ]
  },
  {
   "cell_type": "markdown",
   "id": "ca714fcb-2565-4dc6-8ad4-b6dac4bec88a",
   "metadata": {},
   "source": [
    "Elasticsearch, renowned for its speed and scalability, is an indispensable tool for data scientists and researchers working with large datasets like those from BiorXiv. BiorXiv provides a rich corpus of preprint publications in the life sciences, offering a wealth of data for analysis. In this guide, we delve into sophisticated querying techniques to extract meaningful insights from BiorXiv data using Elasticsearch. We'll explore everything from basic keyword searches to complex aggregations and filters."
   ]
  },
  {
   "cell_type": "markdown",
   "id": "57942729-500c-4e45-8d13-ef610eaf1dbf",
   "metadata": {},
   "source": [
    "### Establishing a Secure Connection to Elasticsearch"
   ]
  },
  {
   "cell_type": "markdown",
   "id": "c5567d6f-2f83-4c25-99e0-0846966dc69b",
   "metadata": {},
   "source": [
    "\n",
    "Establishing a secure connection to your Elasticsearch cluster is paramount. This ensures that your data interactions are encrypted and protected. Here’s a brief refresher on setting up a secure connection:"
   ]
  },
  {
   "cell_type": "code",
   "execution_count": 1,
   "id": "a76637ec-6312-45e7-aee5-e89be9a4b18e",
   "metadata": {},
   "outputs": [
    {
     "name": "stdout",
     "output_type": "stream",
     "text": [
      "CPU times: user 145 ms, sys: 12.1 ms, total: 157 ms\n",
      "Wall time: 190 ms\n"
     ]
    }
   ],
   "source": [
    "%%time\n",
    "\n",
    "import ssl\n",
    "import json\n",
    "from elasticsearch import Elasticsearch\n",
    "    \n",
    "\n",
    "# Path to the CA certificate\n",
    "ca_cert_path = '/workspace/repos/osl/rxiv-restapi/containers/esconfig/certs/http_ca.crt'\n",
    "# Create an SSL context\n",
    "ssl_context = ssl.create_default_context(cafile=ca_cert_path)\n",
    "# Create a connection to Elasticsearch with authentication and SSL context\n",
    "es = Elasticsearch(\n",
    "    [\"https://es:9200\"],\n",
    "    basic_auth=(\"elastic\", \"worksfine\"),\n",
    "    ssl_context=ssl_context\n",
    ")"
   ]
  },
  {
   "cell_type": "markdown",
   "id": "d3e9203a-5988-409b-ae62-8c1c8d3f6e6a",
   "metadata": {},
   "source": [
    "### Index JSON Data into Elasticsearch\n",
    "**Before we can search, you must have the data indexed in Elasticsearch.** \n",
    "**Here's a simplified function to read the JSON file and index its contents.** \n",
    "**This example assumes that your JSON data is an array of objects, each representing a document to be indexed.**"
   ]
  },
  {
   "cell_type": "code",
   "execution_count": 2,
   "id": "5e6d3258-5682-41e7-b3b6-c406bb9bd8d0",
   "metadata": {},
   "outputs": [],
   "source": [
    "\n",
    "def index_json_data(es: Elasticsearch, file_path: str, index_name: str) -> None:\n",
    "    \"\"\"\n",
    "    Reads data from a JSON file and indexes it into Elasticsearch.\n",
    "\n",
    "    Parameters:\n",
    "    es (Elasticsearch): An Elasticsearch client instance.\n",
    "    file_path (str): The path to the JSON file.\n",
    "    index_name (str): The name of the Elasticsearch index where data will be stored.\n",
    "    \"\"\"\n",
    "    # Load JSON data from the file\n",
    "    with open(file_path, 'r', encoding='utf-8') as file:\n",
    "        data = json.load(file)\n",
    "\n",
    "    # Assuming `data` is a list of documents\n",
    "    for doc in data:\n",
    "        # Index each document\n",
    "        res = es.index(index=index_name, document=doc)\n",
    "        # print(res['result'])\n"
   ]
  },
  {
   "cell_type": "markdown",
   "id": "46318043-4de4-4dc2-9edd-21f93c56e11f",
   "metadata": {},
   "source": [
    "### Indexing Data into Elasticsearch"
   ]
  },
  {
   "cell_type": "code",
   "execution_count": 3,
   "id": "bec3e056-e980-44b1-9533-eda980b86747",
   "metadata": {},
   "outputs": [
    {
     "name": "stdout",
     "output_type": "stream",
     "text": [
      "CPU times: user 3min 30s, sys: 19.1 s, total: 3min 49s\n",
      "Wall time: 27min 31s\n"
     ]
    }
   ],
   "source": [
    "%%time\n",
    "\n",
    "# Assuming index_json_data is a previously defined function that indexes data from a JSON file to Elasticsearch\n",
    "# Path to the JSON file containing data to be indexed\n",
    "file_path = '/workspace/repos/osl/rxiv-restapi/docs/notebooks/data/biorxiv_2022-01-01_2024-01-11.json'\n",
    "# Name of the Elasticsearch index\n",
    "index_name = 'biorxiv'\n",
    "# Index data from the specified JSON file into Elasticsearch\n",
    "index_json_data(es, file_path, index_name)"
   ]
  },
  {
   "cell_type": "markdown",
   "id": "6ca8104d-2a52-4e2b-b7b5-36961a09b2f5",
   "metadata": {},
   "source": [
    "## Querying Analyses for BiorXiv Data\n"
   ]
  },
  {
   "cell_type": "markdown",
   "id": "438f5163-489c-4ea3-92db-a8e82889ebdb",
   "metadata": {},
   "source": [
    "### Create a Search Function\n",
    "\n",
    "**After indexing the data, we can create a function to perform searches using the Elasticsearch client.**"
   ]
  },
  {
   "cell_type": "markdown",
   "id": "a45112e1-8c6b-483b-9a1b-b5124c6cb082",
   "metadata": {},
   "source": [
    "**Note**: By default, searches return the top 10 matching hits. To page through a larger set of results, you can use the search API's from and size parameters. The from parameter defines the number of hits to skip, defaulting to 0. The size parameter is the maximum number of hits to return. Together, these two parameters define a page of results."
   ]
  },
  {
   "cell_type": "code",
   "execution_count": 26,
   "id": "1cf28c07-5567-4cb6-b2e8-1f540cf23f1e",
   "metadata": {},
   "outputs": [],
   "source": [
    "from elasticsearch import Elasticsearch\n",
    "from typing import List, Dict, Any\n",
    "\n",
    "def search_data(es: Elasticsearch, index_name: str, query: Dict[str, Any], page: int, page_size: int) -> List[Dict[str, Any]]:\n",
    "    \"\"\"\n",
    "    Performs a search query in an Elasticsearch index and returns document hits.\n",
    "\n",
    "    Parameters:\n",
    "    - es (Elasticsearch): An Elasticsearch client instance.\n",
    "    - index_name (str): The name of the Elasticsearch index to search in.\n",
    "    - query (Dict[str, Any]): The search query in Elasticsearch Query DSL format.\n",
    "    - page (int): The page number (starting from 1).\n",
    "    - page_size (int): The number of results to return per page.\n",
    "\n",
    "    Returns:\n",
    "    - List[Dict[str, Any]]: A list of documents from the search results, each represented as a dictionary.\n",
    "    \"\"\"\n",
    "    from_param = (page - 1) * page_size\n",
    "    # Include 'from' and 'size' within the query body\n",
    "    body = query\n",
    "    body['from'] = from_param\n",
    "    body['size'] = page_size\n",
    "\n",
    "    try:\n",
    "        response = es.search(index=index_name, body=body)\n",
    "        documents = [hit['_source'] for hit in response['hits']['hits']]\n",
    "        return documents\n",
    "    except Exception as e:\n",
    "        print(f\"Search failed: {e}\")\n",
    "        return []\n",
    "\n",
    "# Now, you can use this function to perform your search queries without encountering the deprecation warnings.\n"
   ]
  },
  {
   "cell_type": "markdown",
   "id": "8fddfd1d-9bc8-4962-b268-c196aa8b1805",
   "metadata": {},
   "source": [
    "### Keyword Searches: The Basics\n",
    "#### Search for documents with a specific title.\n"
   ]
  },
  {
   "cell_type": "markdown",
   "id": "c79806b0-e503-4bfa-95c3-6ea93d397720",
   "metadata": {},
   "source": [
    "These query examples illustrate the flexibility of Elasticsearch's Query DSL to retrieve specific data based on various search criteria.\n",
    "\n",
    "Creating a variety of Elasticsearch query combinations involves using different aspects of the Elasticsearch Query DSL (Domain Specific Language) to retrieve specific documents based on your criteria. Below are several examples of query combinations that can be used to retrieve keys and values from the JSON data provided\n",
    "\n",
    "Each of these queries can be passed to the `search_data` function you've defined to retrieve documents from Elasticsearch based on the specified criteria. Remember to replace `index_name` with the name of your index when calling the function:"
   ]
  },
  {
   "cell_type": "markdown",
   "id": "ea001516-8b65-4ac9-aac6-92631c0538b7",
   "metadata": {},
   "source": [
    "### Match Query\n"
   ]
  },
  {
   "cell_type": "markdown",
   "id": "58875093-badd-4145-a82a-e7e80b7973ce",
   "metadata": {},
   "source": [
    "Keyword searches are the foundation of data retrieval in Elasticsearch. For instance, finding all BiorXiv papers related to CRISPR:\n"
   ]
  },
  {
   "cell_type": "code",
   "execution_count": 27,
   "id": "8b132847-794d-49e7-bf68-492372dbed01",
   "metadata": {},
   "outputs": [
    {
     "name": "stdout",
     "output_type": "stream",
     "text": [
      "Results:  2 \n",
      "\n",
      "{'doi': '10.1101/2024.01.05.574328', 'title': 'CRISPR-repressed toxin-antitoxin provides population-level immunity against diverse anti-CRISPR elements', 'authors': 'Li, M.; Shu, X.; Wang, R.; Li, Z.; Xue, Q.; Liu, C.; Cheng, F.; Zhao, H.; Wang, J.; Liu, J.; Hu, C.; Li, J.; Ouyang, S.', 'author_corresponding': 'Ming Li', 'author_corresponding_institution': 'Institute of Microbiology, CAS', 'date': '2024-01-05', 'version': '1', 'license': 'cc_no', 'category': 'Microbiology', 'jatsxml': 'https://www.biorxiv.org/content/early/2024/01/05/2024.01.05.574328.source.xml', 'abstract': 'Prokaryotic CRISPR-Cas systems are highly vulnerable to phage-encoded anti-CRISPR (Acr) factors. How CRISPR-Cas systems protect themselves remains unclear. Here, we uncovered a broad-spectrum anti-anti-CRISPR strategy involving a phage-derived toxic protein. Transcription of this toxin is normally reppressed by the CRISPR-Cas effector, but is activated to halt cell division when the effector is inhibited by any anti-CRISPR proteins or RNAs. We showed that this abortive infection-like effect efficiently expels Acr elements from bacterial population. Furthermore, we exploited this anti-anti-CRISPR mechanism to develop a screening method for specific Acr candidates for a CRISPR-Cas system, and successfully identified two distinct Acr proteins that enhance the binding of CRISPR effector to non-target DNA. Our data highlight the broad-spectrum role of CRISPR-repressed toxins in counteracting various types of Acr factors, which illuminates that the regulatory function of CRISPR-Cas confers host cells herd immunity against Acr-encoding genetic invaders, no matter they are CRISPR-targeted or not.', 'node': 103416, 'link_page': 'https://www.biorxiv.org/content/10.1101/2024.01.05.574328v1?versioned=TRUE', 'link_pdf': 'https://www.biorxiv.org/content/10.1101/2024.01.05.574328v1.full.pdf'}\n",
      "{'doi': '10.1101/2024.01.05.574328', 'title': 'CRISPR-repressed toxin-antitoxin provides population-level immunity against diverse anti-CRISPR elements', 'authors': 'Li, M.; Shu, X.; Wang, R.; Li, Z.; Xue, Q.; Liu, C.; Cheng, F.; Zhao, H.; Wang, J.; Liu, J.; Hu, C.; Li, J.; Ouyang, S.', 'author_corresponding': 'Ming Li', 'author_corresponding_institution': 'Institute of Microbiology, CAS', 'date': '2024-01-05', 'version': '1', 'license': 'cc_no', 'category': 'Microbiology', 'jatsxml': 'https://www.biorxiv.org/content/early/2024/01/05/2024.01.05.574328.source.xml', 'abstract': 'Prokaryotic CRISPR-Cas systems are highly vulnerable to phage-encoded anti-CRISPR (Acr) factors. How CRISPR-Cas systems protect themselves remains unclear. Here, we uncovered a broad-spectrum anti-anti-CRISPR strategy involving a phage-derived toxic protein. Transcription of this toxin is normally reppressed by the CRISPR-Cas effector, but is activated to halt cell division when the effector is inhibited by any anti-CRISPR proteins or RNAs. We showed that this abortive infection-like effect efficiently expels Acr elements from bacterial population. Furthermore, we exploited this anti-anti-CRISPR mechanism to develop a screening method for specific Acr candidates for a CRISPR-Cas system, and successfully identified two distinct Acr proteins that enhance the binding of CRISPR effector to non-target DNA. Our data highlight the broad-spectrum role of CRISPR-repressed toxins in counteracting various types of Acr factors, which illuminates that the regulatory function of CRISPR-Cas confers host cells herd immunity against Acr-encoding genetic invaders, no matter they are CRISPR-targeted or not.', 'node': 103416, 'link_page': 'https://www.biorxiv.org/content/10.1101/2024.01.05.574328v1?versioned=TRUE', 'link_pdf': 'https://www.biorxiv.org/content/10.1101/2024.01.05.574328v1.full.pdf'}\n",
      "-------------------------\n",
      "CPU times: user 6.15 ms, sys: 0 ns, total: 6.15 ms\n",
      "Wall time: 25.2 ms\n"
     ]
    }
   ],
   "source": [
    "%%time \n",
    "\n",
    "query = {\n",
    "      \"query\": {\n",
    "          \"match\": {\n",
    "              \"abstract\": \"CRISPR\"\n",
    "          }\n",
    "        \n",
    "          \n",
    "}\n",
    "\n",
    "# Example usage: Fetch the first page of results, assuming 2 results per page\n",
    "# See the scroll api for a more efficient way to request large data sets\n",
    "page_number = 1\n",
    "page_size = 2\n",
    "results = search_data(es, index_name, query, page_number, page_size)\n",
    "\n",
    "print(\"Results: \",len(results), \"\\n\")\n",
    "\n",
    "for result in results:\n",
    "    print(result)\n",
    "\n",
    "print(\"-\" * 25)"
   ]
  },
  {
   "cell_type": "markdown",
   "id": "23f16e76-5927-4760-b131-35e0a4ca47a7",
   "metadata": {},
   "source": [
    "### Term Query\n",
    "Retrieve documents where the `license` field exactly matches the specified value.\n"
   ]
  },
  {
   "cell_type": "code",
   "execution_count": 60,
   "id": "92d8b26c-3c7c-49ee-984f-fa6eb4b90a18",
   "metadata": {},
   "outputs": [
    {
     "name": "stdout",
     "output_type": "stream",
     "text": [
      "Results:  6 \n",
      "\n",
      "{'doi': '10.1101/2022.01.10.475769', 'title': 'Efficient inactivation of African swine fever virus by a highly complexed iodine combined with compound organic acids', 'authors': 'Qi, M.; Pan, L.; Gao, Y.; Li, M.; Wang, Y.; Li, L.-F.; Ji, C.; Sun, Y.; Qiu, H.-J.', 'author_corresponding': 'Hua-Ji  Qiu', 'author_corresponding_institution': 'Harbin Veterinary Research Institute', 'date': '2022-01-11', 'version': '1', 'license': 'cc_by_nc_nd', 'category': 'Microbiology', 'jatsxml': 'https://www.biorxiv.org/content/early/2022/01/11/2022.01.10.475769.source.xml', 'abstract': 'African swine fever (ASF) is a highly contagious disease with high morbidity and mortality caused by African swine fever virus (ASFV). Cleaning and disinfection remain one of the most effective biosecurity measures to prevent and control the spread of ASFV. In this study, we evaluated the inactivation effects of highly complexed iodine (HPCI) combined with compound organic acids (COAs) against ASFV under different conditions. The results showed that the inactivation rates of the disinfectants on the reporter ASFV increased in dose- and time-dependent manners, the best inactivation effects were obtained when the compatibility ratio of HPCI and COAs was 5:1 at 25{degrees}C. Furthermore, there were no significant differences by comparing the efficacy of HPCI combined with COAs (HPCI+COAs) in inactivating wild-type ASFV and the reporter ASFV (P > 0.05). ASFV of 104.0 TCID50/mL was completely inactivated by 0.13% HPCI (0.0065% effective iodine), 0.06% COAs or 0.13% HPCI+COAs (approximately 0.0054% effective iodine), respectively, while 106.0 TCID50/mL ASFV was completely inactivated by 1.00% HPCI (0.05% effective iodine), 0.50% COAs or 1.00% HPCI+COAs (0.042% effective iodine), respectively. Therefore, HPCI+COAs had synergistic effects to inactivate ASFV. This study demonstrated that HPCI+COAs could rapidly and efficiently inactivate ASFV and represent an effective compound disinfectant for the control of ASF.\\n\\nIMPORTANCEAfrican swine fever (ASF) is a highly contagious disease with high morbidity and mortality caused by African swine fever virus (ASFV). Due to the lack of commercial vaccines and treatment available for ASF, effective disinfectants and the proper use of them are extremely essential to inactivate ASFV. The significance of this research is in searching for an ideal disinfectant that not only has the advantages of low toxicity and non-pollution but also can inactivate ASFV rapidly and efficiently. In this study, we proved that HPCI+COAs not only exhibited low cytotoxicity, but also could completely inactivate ASFV within 5 min at 4{degrees}C, 25{degrees}C and 37{degrees}C. In addition, HPCI+COAs had synergistic effects on inactivated ASFV. Thus, HPCI +COAs could be used as an effective disinfectant for the control of ASF.', 'published': 'NA', 'node': 7633, 'link_page': 'https://www.biorxiv.org/content/10.1101/2022.01.10.475769v1?versioned=TRUE', 'link_pdf': 'https://www.biorxiv.org/content/10.1101/2022.01.10.475769v1.full.pdf'}\n",
      "{'doi': '10.1101/2022.01.10.475764', 'title': 'The dgc2 gene encoding di-guanylate cyclase suppresses both motility and biofilm formation in the filamentous cyanobacterium Leptolyngbya boryana.', 'authors': 'Toida, K.; Kushida, W.; Yamamoto, H.; Yamamoto, K.; Uesaka, K.; Ihara, K.; Fujita, Y.; Iwasaki, H.', 'author_corresponding': 'Hideo  Iwasaki', 'author_corresponding_institution': 'Waseda University', 'date': '2022-01-11', 'version': '1', 'license': 'cc_by_nc_nd', 'category': 'Microbiology', 'jatsxml': 'https://www.biorxiv.org/content/early/2022/01/11/2022.01.10.475764.source.xml', 'abstract': 'Colony pattern formations of bacteria with motility manifest complicated morphological self-organization phenomena. Leptolyngbya boryana is the filamentous cyanobacterial species, which has been used as a genetic model organism for studying metabolism including photosynthesis and nitrogen-fixation. Although a widely used type strain (wild type) of this species has not been reported to show any motile activity, we isolated a spontaneous mutant strain which shows active motility (gliding activity) to give rise to complicated colony patters, including comet-like wandering clusters and disk-like rotating vortices on solid media. Whole-genome resequencing identified multiple mutations on the genome in the mutant strain. We confirmed that inactivation of a candidate gene, dgc2 (LBDG_02920), in the wild type background was sufficient to give rise to motility and the morphological colony patterns. This gene encodes a protein, containing the GGDEF motif, which is conserved at the catalytic domain of diguanylate cyclase (DGC). Although DGC has been reported to be involved in biofilm formation, the mutant strain lacking dgc2 significantly facilitated biofilm formation, suggesting a role of DGC for suppressing both gliding motility and biofilm formation. Thus, L. boryana provides an excellent genetic model to study dynamic colony pattern formation, and novel insight on a role of c-di-GMP for biofilm formation.\\n\\nImportanceSelf-propelled bacteria often show complicated collective behaviors, such as the formation of dense moving clusters, which is exemplified by wandering comet-like and rotating disk-like colonies, while molecular details of forming such structures remain limited. We found that a strain deficient in the diguanylate cyclase gene dgc2 in the filamentous cyanobacterium L. boryana induces motility, complex and dynamic colony pattern formation including the comet-like and disk-like clusters. While c-di-GMP has been reported to activate biofilm formation in some bacterial species, disruption of the dgc2 gene unexpectedly enhanced it, providing a novel role for c-di-GMP regulatory system in both colony pattern formation and biofilm formation.', 'published': 'NA', 'node': 7634, 'link_page': 'https://www.biorxiv.org/content/10.1101/2022.01.10.475764v1?versioned=TRUE', 'link_pdf': 'https://www.biorxiv.org/content/10.1101/2022.01.10.475764v1.full.pdf'}\n",
      "{'doi': '10.1101/2022.01.11.475882', 'title': 'EnteroBase: Hierarchical clustering of 100,000s of bacterial genomes into species/sub-species and populations', 'authors': 'Achtman, M.; Zhou, Z.; Charlesworth, J.; Baxter, L. A.', 'author_corresponding': 'Mark  Achtman', 'author_corresponding_institution': 'University of Warwick', 'date': '2022-01-11', 'version': '1', 'license': 'cc_by_nc_nd', 'category': 'Microbiology', 'jatsxml': 'https://www.biorxiv.org/content/early/2022/01/11/2022.01.11.475882.source.xml', 'abstract': 'The definition of bacterial species is traditionally a taxonomic issue while bacterial populations are identified by population genetics. These assignments are species specific, and depend on the practitioner. Legacy multilocus sequence typing is commonly used to identify sequence types (STs) and clusters (ST Complexes). However, these approaches are not adequate for the millions of genomic sequences from bacterial pathogens that have been generated since 2012. EnteroBase (http://enterobase.warwick.ac.uk) automatically clusters core genome MLST allelic profiles into hierarchical clusters (HierCC) after assembling annotated draft genomes from short read sequences. HierCC clusters span core sequence diversity from the species level down to individual transmission chains. Here we evaluate HierCCs ability to correctly assign 100,000s of genomes to the species/subspecies and population levels for Salmonella, Escherichia, Clostridoides, Yersinia, Vibrio and Streptococcus. HierCC assignments were more consistent with maximum-likelihood super-trees of core SNPs or presence/absence of accessory genes than classical taxonomic assignments or 95% ANI. However, neither HierCC nor ANI were uniformly consistent with classical taxonomy of Streptococcus. HierCC was also consistent with legacy eBGs/ST Complexes in Salmonella or Escherichia and with O serogroups in Salmonella. Thus, EnteroBase HierCC supports the automated identification of and assignment to species/subspecies and populations for multiple genera.', 'published': '10.1098/rstb.2021.0240', 'node': 7638, 'link_page': 'https://www.biorxiv.org/content/10.1101/2022.01.11.475882v1?versioned=TRUE', 'link_pdf': 'https://www.biorxiv.org/content/10.1101/2022.01.11.475882v1.full.pdf'}\n",
      "{'doi': '10.1101/2022.01.11.475882', 'title': 'EnteroBase: Hierarchical clustering of 100,000s of bacterial genomes into species/sub-species and populations', 'authors': 'Achtman, M.; Zhou, Z.; Charlesworth, J.; Baxter, L. A.', 'author_corresponding': 'Mark  Achtman', 'author_corresponding_institution': 'University of Warwick', 'date': '2022-03-04', 'version': '2', 'license': 'cc_by_nc_nd', 'category': 'Microbiology', 'jatsxml': 'https://www.biorxiv.org/content/early/2022/03/04/2022.01.11.475882.source.xml', 'abstract': 'The definition of bacterial species is traditionally a taxonomic issue while bacterial populations are identified by population genetics. These assignments are species specific, and depend on the practitioner. Legacy multilocus sequence typing is commonly used to identify sequence types (STs) and clusters (ST Complexes). However, these approaches are not adequate for the millions of genomic sequences from bacterial pathogens that have been generated since 2012. EnteroBase (http://enterobase.warwick.ac.uk) automatically clusters core genome MLST allelic profiles into hierarchical clusters (HierCC) after assembling annotated draft genomes from short read sequences. HierCC clusters span core sequence diversity from the species level down to individual transmission chains. Here we evaluate HierCCs ability to correctly assign 100,000s of genomes to the species/subspecies and population levels for Salmonella, Escherichia, Clostridoides, Yersinia, Vibrio and Streptococcus. HierCC assignments were more consistent with maximum-likelihood super-trees of core SNPs or presence/absence of accessory genes than classical taxonomic assignments or 95% ANI. However, neither HierCC nor ANI were uniformly consistent with classical taxonomy of Streptococcus. HierCC was also consistent with legacy eBGs/ST Complexes in Salmonella or Escherichia and with O serogroups in Salmonella. Thus, EnteroBase HierCC supports the automated identification of and assignment to species/subspecies and populations for multiple genera.', 'published': '10.1098/rstb.2021.0240', 'node': 7639, 'link_page': 'https://www.biorxiv.org/content/10.1101/2022.01.11.475882v2?versioned=TRUE', 'link_pdf': 'https://www.biorxiv.org/content/10.1101/2022.01.11.475882v2.full.pdf'}\n",
      "{'doi': '10.1101/2022.01.10.475117', 'title': 'Single-nucleus chromatin accessibility identifies a critical role for TWIST1 in idiopathic pulmonary fibrosis myofibroblast activity', 'authors': 'Valenzi, E.; Bahudhanapati, H.; Tan, J.; Tabib, T.; Sullivan, D. I.; Sembrat, J.; Fan, L.; Chen, K.; Rojas, M.; Lafargue, A.; Felsher, D.; Tran, P. T.; Kass, D. J.; Lafyatis, R. A.', 'author_corresponding': 'Eleanor  Valenzi', 'author_corresponding_institution': 'University of Pittsburgh', 'date': '2022-01-11', 'version': '1', 'license': 'cc_by_nc_nd', 'category': 'Molecular Biology', 'jatsxml': 'https://www.biorxiv.org/content/early/2022/01/11/2022.01.10.475117.source.xml', 'abstract': 'In idiopathic pulmonary fibrosis (IPF) myofibroblasts are key effectors of fibrosis and architectural distortion by excessive deposition of extracellular matrix and their acquired contractile capacity. Single-cell RNA-sequencing has precisely defined the IPF myofibroblast transcriptome, but identifying critical transcription factor activity by this approach is imprecise. We performed and integrated snATAC-seq and scRNA-seq from human IPF and donor control explants to identify differentially accessible chromatin regions and enriched transcription factor motifs within lung cell populations. TWIST1 and other E-box transcription factor motifs were significantly enriched in IPF myofibroblasts compared to both IPF non-myogenic and control fibroblasts. TWIST1 expression was also selectively upregulated in IPF myofibroblasts. Overexpression of Twist1 in lung COL1A2-expressing fibroblasts in bleomycin-injured mice was associated with increased collagen synthesis. Our studies utilizing human multiomic single-cell analyses combined with in vivo murine disease models confirm a critical regulatory function for TWIST1 in IPF myofibroblast activity in the fibrotic lung. Understanding the global process of opening TWIST1 and other E-box TF motifs that govern myofibroblast differentiation may identify new therapeutic interventions for fibrotic pulmonary diseases.', 'published': '10.1183/13993003.00474-2022', 'node': 7641, 'link_page': 'https://www.biorxiv.org/content/10.1101/2022.01.10.475117v1?versioned=TRUE', 'link_pdf': 'https://www.biorxiv.org/content/10.1101/2022.01.10.475117v1.full.pdf'}\n",
      "{'doi': '10.1101/2022.01.10.475685', 'title': 'Multi-GBS: A massively multiplexed GBS-based protocol optimized for large, repetitive conifer genomes', 'authors': 'Vallebueno-Estrada, M.; Steindl, S.; Akulova, V.; Riefler, J.; Slusarz, L.; Arizpe, A.; Swarts, K.', 'author_corresponding': 'Kelly  Swarts', 'author_corresponding_institution': 'Gregor Mendel Institute, Austrian Academy of Sciences/Max Perutz Labs, University of Vienna', 'date': '2022-01-11', 'version': '1', 'license': 'cc_by_nc_nd', 'category': 'Genomics', 'jatsxml': 'https://www.biorxiv.org/content/early/2022/01/11/2022.01.10.475685.source.xml', 'abstract': 'Reduced representation library approaches are still a valuable tool for breeding and population and ecological genomics, even with impressive increases in sequencing capacity in recent years. Unfortunately, current approaches only allow for multiplexing up to 384 samples. To take advantage of increased sequencing capacity, we present Multi-GBS, a massively multiplexable extension to Genotyping-by-Sequencing that is also optimized for large conifer genomes. In Norway Spruce, a highly repetitive 20Gbp diploid genome with high population genetic variation, we call over a million variants in 32 genotypes from three populations, two natural forest in the Alps and Bohemian Alps, and a managed population from southeastern Austria using the existing TASSEL GBSv2 pipeline. Metric MDS analysis of replicated genotypes shows that technical bias in resulting genotype calling is minimal and that populations cluster in biologically meaningful ways.', 'published': 'NA', 'node': 7644, 'link_page': 'https://www.biorxiv.org/content/10.1101/2022.01.10.475685v1?versioned=TRUE', 'link_pdf': 'https://www.biorxiv.org/content/10.1101/2022.01.10.475685v1.full.pdf'}\n",
      "-------------------------\n",
      "CPU times: user 5.02 ms, sys: 137 µs, total: 5.15 ms\n",
      "Wall time: 19.3 ms\n"
     ]
    }
   ],
   "source": [
    "%%time\n",
    "\n",
    "query = {\n",
    "      \"query\": {\n",
    "          \"term\": {\n",
    "              \"license\": {\n",
    "                  \"value\": \"cc_by_nc_nd\"\n",
    "            }\n",
    "        }\n",
    "    }\n",
    "}\n",
    "\n",
    "# Example usage: Fetch the thirdy page of results, assuming 6 results per page\n",
    "# See the scroll api for a more efficient way to request large data sets\n",
    "page_number = 3\n",
    "page_size = 6\n",
    "results = search_data(es, index_name, query, page_number, page_size)\n",
    "\n",
    "print(\"Results: \",len(results), \"\\n\")\n",
    "\n",
    "for result in results:\n",
    "    print(result)\n",
    "\n",
    "print(\"-\" * 25)"
   ]
  },
  {
   "cell_type": "markdown",
   "id": "46450067-4af5-443b-947c-4ab35a1dccce",
   "metadata": {},
   "source": [
    "### Range Query\n",
    "Find documents published within a specific date range.\n"
   ]
  },
  {
   "cell_type": "code",
   "execution_count": 31,
   "id": "3f09bdab-55c6-4e56-bfab-e63fa89e3724",
   "metadata": {},
   "outputs": [
    {
     "name": "stdout",
     "output_type": "stream",
     "text": [
      "Results:  2 \n",
      "\n",
      "{'doi': '10.1101/2022.01.14.476310', 'title': 'Non-target effects of ten essential oils on the egg parasitoid Trichogramma evanescens', 'authors': 'Van Oudenhove, L.; Cazier, A.; Fillaud, M.; Lavoir, A.-V.; Fatnassi, H.; Perez, G.; Calcagno, V.', 'author_corresponding': 'Louise  Van Oudenhove', 'author_corresponding_institution': \"Institut Sophia Agrobiotech, INRAE, Universite Cote d'Azur, CNRS, France.\", 'date': '2022-12-26', 'version': '5', 'license': 'cc_by_nc_nd', 'category': 'Ecology', 'jatsxml': 'https://www.biorxiv.org/content/early/2022/12/26/2022.01.14.476310.source.xml', 'abstract': 'Essential oils (EOs) are increasingly used as biopesticides due to their insecticidal potential. This study addresses their non-target effects on a biological control agent: the egg parasitoid Trichogramma evanescens. In particular, we tested whether EOs affected parasitoid fitness either directly, by decreasing pre-imaginal survival, or indirectly, by disrupting parasitoids orientation abilities. The effect of Anise, Fennel, Sweet orange, Basil, Coriander, Oregano, Peppermint, Mugwort, Rosemary and Thyme EOs were studied on five strains of T. evanescens. Specific experimental setups were developed, and data obtained from image analysis were interpreted with phenomenological models fitted with Bayesian inference. Results highlight the fumigant toxicity of EOs on parasitoid development. Anise, Fennel, Basil, Coriander, Oregano, Peppermint and Thyme EOs are particularly toxic and drastically reduce the emergence rate of T. evanescens. Most EOs also affect parasitoid behavior: (i) Basil, Coriander, Oregano, Peppermint, Mugwort and Thyme EOs are highly repellent for naive female parasitoids; (ii) Anise and Fennel EOs can have repellent or attractive effects depending on strains; and (iii) Sweet orange, Oregano and Rosemary EOs have no detectable impact on orientation behavior. This study shows that EOs fumigation have non-target effects on egg parasitoids. This highlights the need to cautiously precise the deployment framework of biopesticides in an agroecological perspective.', 'published': '10.24072/pcjournal.212', 'node': 8124, 'link_page': 'https://www.biorxiv.org/content/10.1101/2022.01.14.476310v5?versioned=TRUE', 'link_pdf': 'https://www.biorxiv.org/content/10.1101/2022.01.14.476310v5.full.pdf'}\n",
      "{'doi': '10.1101/2022.01.16.476383', 'title': 'A novel mechanism for left-right asymmetry establishment involving tissue remodeling and MyoID', 'authors': 'Lefevre, B. M.; Delvigne, M.; Vidal, J.; Courtier-Orgogozo, V.; Lang, M.', 'author_corresponding': 'Michael  Lang', 'author_corresponding_institution': 'Université de Paris, CNRS, Institut Jacques Monod, F-75013 Paris, France.', 'date': '2022-12-19', 'version': '2', 'license': 'cc_by_nc', 'category': 'Evolutionary Biology', 'jatsxml': 'https://www.biorxiv.org/content/early/2022/12/19/2022.01.16.476383.source.xml', 'abstract': 'Left-right asymmetries recurrently evolve in animals but the underlying developmental mechanisms are unknown. In most Drosophila species, the male genitalia is symmetric and undergoes a clockwise 360{degrees} rotation during development. In D. melanogaster, this tissue remodeling process is directed by class I myosins: in MyoID mutants the rotation is reversed and the genitalia remains symmetric. Males of Drosophila pachea have evolved unique left-right asymmetric genital organs and a characteristic right-sided copulation posture in the past 3-6 million years. To test if these asymmetries in morphology and behavior evolved via the recruitment of pre-existing directional cues controlled by MyoID, we used CRISPR to knockout MyoID in D. pachea. Strikingly, mutant males undergo a reverse genitalia rotation and develop mirror-image asymmetric genitalia, indicating that MyoID controls both the direction of genitalia rotation direction and morphological asymmetry. Although genital asymmetry is reversed, MyoID mutants still adopt a wild-type right-sided copulation posture. Our results show that MyoID and its asymmetry guidance role were recruited for the evolution of a novel left-right asymmetry in D. pachea and that lateralized copulation behavior is determined by other mechanisms. The evolution of a new left-right organ size asymmetry in D. pachea involved recruitment of existing directional cues.', 'published': 'NA', 'node': 8386, 'link_page': 'https://www.biorxiv.org/content/10.1101/2022.01.16.476383v2?versioned=TRUE', 'link_pdf': 'https://www.biorxiv.org/content/10.1101/2022.01.16.476383v2.full.pdf'}\n",
      "-------------------------\n",
      "CPU times: user 7.93 ms, sys: 393 µs, total: 8.32 ms\n",
      "Wall time: 27.6 ms\n"
     ]
    }
   ],
   "source": [
    "%%time\n",
    "\n",
    "query = {\n",
    "    \"query\": {\n",
    "        \"range\": {\n",
    "            \"date\": {\n",
    "                \"gte\": \"2022-12-01\",\n",
    "                \"lte\": \"2022-12-31\"\n",
    "            }\n",
    "        }\n",
    "    }\n",
    "}\n",
    "\n",
    "# Example usage: Fetch the second page of results, assuming 2 results per page\n",
    "# See the scroll api for a more efficient way to request large data sets\n",
    "page_number = 2\n",
    "page_size = 2\n",
    "results = search_data(es, index_name, query, page_number, page_size)\n",
    "\n",
    "print(\"Results: \",len(results), \"\\n\")\n",
    "\n",
    "for result in results:\n",
    "    print(result)\n",
    "\n",
    "print(\"-\" * 25)"
   ]
  },
  {
   "cell_type": "markdown",
   "id": "ef58edd1-0433-4e3f-ad0d-904f629f79b5",
   "metadata": {},
   "source": [
    "\n",
    "### Bool Query\n",
    "Combine multiple search criteria. For example, search for documents by authors in a specific category and with a specific license.\n"
   ]
  },
  {
   "cell_type": "code",
   "execution_count": 32,
   "id": "f5d24f63-dfd0-4491-85c5-5592c6818adc",
   "metadata": {},
   "outputs": [
    {
     "name": "stdout",
     "output_type": "stream",
     "text": [
      "Results:  1 \n",
      "\n",
      "{'doi': '10.1101/2022.10.06.511167', 'title': 'High selectivity of frequency induced transcriptional responses', 'authors': 'Givre, A.; Colman-Lerner, A.; Ponce-Dawson, S.', 'author_corresponding': 'Silvina Ponce-Dawson', 'author_corresponding_institution': 'School of Natural and Exact Sciences, University of Buenos Aires', 'date': '2022-10-07', 'version': '1', 'license': 'cc_by_nc_nd', 'category': 'Systems Biology', 'jatsxml': 'https://www.biorxiv.org/content/early/2022/10/07/2022.10.06.511167.source.xml', 'abstract': 'Cells continuously interact with their environment, detect its changes and generate responses accordingly. This requires interpreting the variations and, in many occasions, producing changes in gene expression. In this paper we use information theory and a simple transcription model to analyze the extent to which the resulting gene expression is able to identify and assess the intensity of extracellular stimuli when they are encoded in the amplitude, duration or frequency of a transcription factors nuclear concentration. We find that the maximal information transmission is, for the three codifications, ~ 1.5 - 1.8 bits, i.e., approximately 3 ranges of input strengths can be distinguished in all cases. The types of promoters that yield maximum transmission for the three modes are all similarly fast and have a high activation threshold. The three input modulation modes differ, however, in the sensitivity to changes in the parameters that characterize the promoters, with frequency modulation being the most sensitive and duration modulation, the least. This turns out to be key for signal identification. Namely, we show that, because of this sensitivity difference, it is possible to find promoter parameters that yield an information transmission within 90% of its maximum value for duration or amplitude modulation and less than 1 bit for frequency modulation. The reverse situation cannot be found within the framework of a single promoter transcription model. This means that pulses of transcription factors in the nucleus can selectively activate the promoter that is tuned to respond to frequency modulations while prolonged nuclear accumulation would activate several promoters at the same time. Thus, frequency modulation is better suited than the other encoding modes to allow the identification of external stimuli without requiring other mediators of the transduction.', 'published': 'NA', 'node': 43301, 'link_page': 'https://www.biorxiv.org/content/10.1101/2022.10.06.511167v1?versioned=TRUE', 'link_pdf': 'https://www.biorxiv.org/content/10.1101/2022.10.06.511167v1.full.pdf'}\n",
      "-------------------------\n",
      "CPU times: user 2.72 ms, sys: 0 ns, total: 2.72 ms\n",
      "Wall time: 14.1 ms\n"
     ]
    }
   ],
   "source": [
    "%%time\n",
    "\n",
    "query = {\n",
    "    \"query\": {\n",
    "        \"bool\": {\n",
    "            \"must\": [\n",
    "                {\"match\": {\"authors\": \"Colman-Lerner\"}},\n",
    "                {\"match\": {\"category\": \"Systems Biology\"}},\n",
    "                {\"term\": {\"license\": \"cc_by_nc_nd\"}}\n",
    "            ]\n",
    "        }\n",
    "    }        \n",
    "}\n",
    "\n",
    "# Example usage: Fetch the first page of results, assuming 1 results per page\n",
    "# See the scroll api for a more efficient way to request large data sets\n",
    "page_number = 1\n",
    "page_size = 1\n",
    "results = search_data(es, index_name, query, page_number, page_size)\n",
    "\n",
    "print(\"Results: \",len(results), \"\\n\")\n",
    "\n",
    "for result in results:\n",
    "    print(result)\n",
    "\n",
    "print(\"-\" * 25)"
   ]
  },
  {
   "cell_type": "markdown",
   "id": "960c8f80-af34-4ab7-8099-0d59a81af22d",
   "metadata": {},
   "source": [
    "### Match phrase Query\n",
    "Use a match_phrase to search for documents with titles that contain specific patterns.\n"
   ]
  },
  {
   "cell_type": "code",
   "execution_count": 34,
   "id": "439127cf-21d8-49a0-a802-c950ff038d6f",
   "metadata": {},
   "outputs": [
    {
     "name": "stdout",
     "output_type": "stream",
     "text": [
      "Results:  6 \n",
      "\n",
      "{'doi': '10.1101/2022.10.03.510647', 'title': 'Carm1 regulates the speed of C/EBPa-induced transdifferentiation by a cofactor stealing mechanism', 'authors': 'Garcia, G. T.; Kowenz-Leutz, E.; Tian, T. V.; Klonizakis, A.; Lerner, J.; De Andres-Aguayo, L.; Berenguer, C.; Carmona, M. P.; Casadesus, M. V.; Bulteau, R.; Francesconi, M.; Leutz, A.; Zaret, K. S.; Zaret, K. S.; Peiro, S.', 'author_corresponding': 'Achim Leutz', 'author_corresponding_institution': 'MDC, Berlin', 'date': '2022-10-04', 'version': '1', 'license': 'cc_by_nc_nd', 'category': 'Cell Biology', 'jatsxml': 'https://www.biorxiv.org/content/early/2022/10/04/2022.10.03.510647.source.xml', 'abstract': 'Cell fate decisions are driven by lineage-restricted transcription factors but how they are regulated is incompletely understood. The C/EBP-induced B cell to macrophage transdifferentiation (BMT) is a powerful system to address this question. Here we describe that C/EBP with a single arginine mutation (C/EBPR35A) induces a dramatically accelerated BMT in mouse and human cells. Changes in the expression of lineage-restricted genes occur as early as within 1 hour compared to 18 hours with the wild type. Mechanistically C/EBPR35A exhibits an increased affinity for PU.1, a bi-lineage transcription factor required for C/EBP-induced BMT. The complex induces more rapid chromatin accessibility changes and an enhanced relocation (stealing) of PU.1 from B cell to myeloid gene regulatory elements. Arginine 35 is methylated by Carm1 and inhibition of the enzyme accelerates BMT, similar to the mutant. Our data suggest that the relative proportions of methylated and unmethylated C/EBP in a bipotent progenitor can determine the velocity of cell fate choice and lineage directionality.', 'published': '10.7554/elife.83951', 'node': 42509, 'link_page': 'https://www.biorxiv.org/content/10.1101/2022.10.03.510647v1?versioned=TRUE', 'link_pdf': 'https://www.biorxiv.org/content/10.1101/2022.10.03.510647v1.full.pdf'}\n",
      "{'doi': '10.1101/2022.10.03.510647', 'title': 'Carm1 regulates the speed of C/EBPa-induced transdifferentiation by a cofactor stealing mechanism', 'authors': 'Garcia, G. T.; Kowenz-Leutz, E.; Tian, T. V.; Klonizakis, A.; Lerner, J.; De Andres-Aguayo, L.; Berenguer, C.; Carmona, M. P.; Casadesus, M. V.; Bulteau, R.; Francesconi, M.; Peiro, S.; Zaret, K. S.; Leutz, A.; Graf, T.', 'author_corresponding': 'Achim Leutz', 'author_corresponding_institution': 'MDC, Berlin', 'date': '2022-10-04', 'version': '2', 'license': 'cc_by_nc_nd', 'category': 'Cell Biology', 'jatsxml': 'https://www.biorxiv.org/content/early/2022/10/04/2022.10.03.510647.source.xml', 'abstract': 'Cell fate decisions are driven by lineage-restricted transcription factors but how they are regulated is incompletely understood. The C/EBP-induced B cell to macrophage transdifferentiation (BMT) is a powerful system to address this question. Here we describe that C/EBP with a single arginine mutation (C/EBPR35A) induces a dramatically accelerated BMT in mouse and human cells. Changes in the expression of lineage-restricted genes occur as early as within 1 hour compared to 18 hours with the wild type. Mechanistically C/EBPR35A exhibits an increased affinity for PU.1, a bi-lineage transcription factor required for C/EBP-induced BMT. The complex induces more rapid chromatin accessibility changes and an enhanced relocation (stealing) of PU.1 from B cell to myeloid gene regulatory elements. Arginine 35 is methylated by Carm1 and inhibition of the enzyme accelerates BMT, similar to the mutant. Our data suggest that the relative proportions of methylated and unmethylated C/EBP in a bipotent progenitor can determine the velocity of cell fate choice and lineage directionality.', 'published': '10.7554/elife.83951', 'node': 42510, 'link_page': 'https://www.biorxiv.org/content/10.1101/2022.10.03.510647v2?versioned=TRUE', 'link_pdf': 'https://www.biorxiv.org/content/10.1101/2022.10.03.510647v2.full.pdf'}\n",
      "{'doi': '10.1101/2022.10.03.510647', 'title': 'Carm1 regulates the speed of C/EBPa-induced transdifferentiation by a cofactor stealing mechanism', 'authors': 'Garcia, G. T.; Kowenz-Leutz, E.; Tian, T. V.; Klonizakis, A.; Lerner, J.; De Andres-Aguayo, L.; Berenguer, C.; Carmona, M. P.; Casadesus, M. V.; Bulteau, R.; Francesconi, M.; Peiro, S.; Zaret, K. S.; Leutz, A.; Graf, T.', 'author_corresponding': 'Achim Leutz', 'author_corresponding_institution': 'MDC, Berlin', 'date': '2022-10-09', 'version': '3', 'license': 'cc_by_nd', 'category': 'Cell Biology', 'jatsxml': 'https://www.biorxiv.org/content/early/2022/10/09/2022.10.03.510647.source.xml', 'abstract': 'Cell fate decisions are driven by lineage-restricted transcription factors but how they are regulated is incompletely understood. The C/EBP-induced B cell to macrophage transdifferentiation (BMT) is a powerful system to address this question. Here we describe that C/EBP with a single arginine mutation (C/EBPR35A) induces a dramatically accelerated BMT in mouse and human cells. Changes in the expression of lineage-restricted genes occur as early as within 1 hour compared to 18 hours with the wild type. Mechanistically C/EBPR35A exhibits an increased affinity for PU.1, a bi-lineage transcription factor required for C/EBP-induced BMT. The complex induces more rapid chromatin accessibility changes and an enhanced relocation (stealing) of PU.1 from B cell to myeloid gene regulatory elements. Arginine 35 is methylated by Carm1 and inhibition of the enzyme accelerates BMT, similar to the mutant. Our data suggest that the relative proportions of methylated and unmethylated C/EBP in a bipotent progenitor can determine the velocity of cell fate choice and lineage directionality.', 'published': '10.7554/elife.83951', 'node': 42511, 'link_page': 'https://www.biorxiv.org/content/10.1101/2022.10.03.510647v3?versioned=TRUE', 'link_pdf': 'https://www.biorxiv.org/content/10.1101/2022.10.03.510647v3.full.pdf'}\n",
      "{'doi': '10.1101/2022.10.03.510647', 'title': 'Carm1 regulates the speed of C/EBPa-induced transdifferentiation by a cofactor stealing mechanism', 'authors': 'Garcia, G. T.; Kowenz-Leutz, E.; Tian, T. V.; Klonizakis, A.; Lerner, J.; De Andres-Aguayo, L.; Berenguer, C.; Carmona, M. P.; Casadesus, M. V.; Bulteau, R.; Francesconi, M.; Leutz, A.; Zaret, K. S.; Zaret, K. S.; Peiro, S.', 'author_corresponding': 'Achim Leutz', 'author_corresponding_institution': 'MDC, Berlin', 'date': '2022-10-04', 'version': '1', 'license': 'cc_by_nc_nd', 'category': 'Cell Biology', 'jatsxml': 'https://www.biorxiv.org/content/early/2022/10/04/2022.10.03.510647.source.xml', 'abstract': 'Cell fate decisions are driven by lineage-restricted transcription factors but how they are regulated is incompletely understood. The C/EBP-induced B cell to macrophage transdifferentiation (BMT) is a powerful system to address this question. Here we describe that C/EBP with a single arginine mutation (C/EBPR35A) induces a dramatically accelerated BMT in mouse and human cells. Changes in the expression of lineage-restricted genes occur as early as within 1 hour compared to 18 hours with the wild type. Mechanistically C/EBPR35A exhibits an increased affinity for PU.1, a bi-lineage transcription factor required for C/EBP-induced BMT. The complex induces more rapid chromatin accessibility changes and an enhanced relocation (stealing) of PU.1 from B cell to myeloid gene regulatory elements. Arginine 35 is methylated by Carm1 and inhibition of the enzyme accelerates BMT, similar to the mutant. Our data suggest that the relative proportions of methylated and unmethylated C/EBP in a bipotent progenitor can determine the velocity of cell fate choice and lineage directionality.', 'published': '10.7554/elife.83951', 'node': 42509, 'link_page': 'https://www.biorxiv.org/content/10.1101/2022.10.03.510647v1?versioned=TRUE', 'link_pdf': 'https://www.biorxiv.org/content/10.1101/2022.10.03.510647v1.full.pdf'}\n",
      "{'doi': '10.1101/2022.10.03.510647', 'title': 'Carm1 regulates the speed of C/EBPa-induced transdifferentiation by a cofactor stealing mechanism', 'authors': 'Garcia, G. T.; Kowenz-Leutz, E.; Tian, T. V.; Klonizakis, A.; Lerner, J.; De Andres-Aguayo, L.; Berenguer, C.; Carmona, M. P.; Casadesus, M. V.; Bulteau, R.; Francesconi, M.; Peiro, S.; Zaret, K. S.; Leutz, A.; Graf, T.', 'author_corresponding': 'Achim Leutz', 'author_corresponding_institution': 'MDC, Berlin', 'date': '2022-10-04', 'version': '2', 'license': 'cc_by_nc_nd', 'category': 'Cell Biology', 'jatsxml': 'https://www.biorxiv.org/content/early/2022/10/04/2022.10.03.510647.source.xml', 'abstract': 'Cell fate decisions are driven by lineage-restricted transcription factors but how they are regulated is incompletely understood. The C/EBP-induced B cell to macrophage transdifferentiation (BMT) is a powerful system to address this question. Here we describe that C/EBP with a single arginine mutation (C/EBPR35A) induces a dramatically accelerated BMT in mouse and human cells. Changes in the expression of lineage-restricted genes occur as early as within 1 hour compared to 18 hours with the wild type. Mechanistically C/EBPR35A exhibits an increased affinity for PU.1, a bi-lineage transcription factor required for C/EBP-induced BMT. The complex induces more rapid chromatin accessibility changes and an enhanced relocation (stealing) of PU.1 from B cell to myeloid gene regulatory elements. Arginine 35 is methylated by Carm1 and inhibition of the enzyme accelerates BMT, similar to the mutant. Our data suggest that the relative proportions of methylated and unmethylated C/EBP in a bipotent progenitor can determine the velocity of cell fate choice and lineage directionality.', 'published': '10.7554/elife.83951', 'node': 42510, 'link_page': 'https://www.biorxiv.org/content/10.1101/2022.10.03.510647v2?versioned=TRUE', 'link_pdf': 'https://www.biorxiv.org/content/10.1101/2022.10.03.510647v2.full.pdf'}\n",
      "{'doi': '10.1101/2022.10.03.510647', 'title': 'Carm1 regulates the speed of C/EBPa-induced transdifferentiation by a cofactor stealing mechanism', 'authors': 'Garcia, G. T.; Kowenz-Leutz, E.; Tian, T. V.; Klonizakis, A.; Lerner, J.; De Andres-Aguayo, L.; Berenguer, C.; Carmona, M. P.; Casadesus, M. V.; Bulteau, R.; Francesconi, M.; Peiro, S.; Zaret, K. S.; Leutz, A.; Graf, T.', 'author_corresponding': 'Achim Leutz', 'author_corresponding_institution': 'MDC, Berlin', 'date': '2022-10-09', 'version': '3', 'license': 'cc_by_nd', 'category': 'Cell Biology', 'jatsxml': 'https://www.biorxiv.org/content/early/2022/10/09/2022.10.03.510647.source.xml', 'abstract': 'Cell fate decisions are driven by lineage-restricted transcription factors but how they are regulated is incompletely understood. The C/EBP-induced B cell to macrophage transdifferentiation (BMT) is a powerful system to address this question. Here we describe that C/EBP with a single arginine mutation (C/EBPR35A) induces a dramatically accelerated BMT in mouse and human cells. Changes in the expression of lineage-restricted genes occur as early as within 1 hour compared to 18 hours with the wild type. Mechanistically C/EBPR35A exhibits an increased affinity for PU.1, a bi-lineage transcription factor required for C/EBP-induced BMT. The complex induces more rapid chromatin accessibility changes and an enhanced relocation (stealing) of PU.1 from B cell to myeloid gene regulatory elements. Arginine 35 is methylated by Carm1 and inhibition of the enzyme accelerates BMT, similar to the mutant. Our data suggest that the relative proportions of methylated and unmethylated C/EBP in a bipotent progenitor can determine the velocity of cell fate choice and lineage directionality.', 'published': '10.7554/elife.83951', 'node': 42511, 'link_page': 'https://www.biorxiv.org/content/10.1101/2022.10.03.510647v3?versioned=TRUE', 'link_pdf': 'https://www.biorxiv.org/content/10.1101/2022.10.03.510647v3.full.pdf'}\n",
      "-------------------------\n",
      "CPU times: user 2.88 ms, sys: 203 µs, total: 3.08 ms\n",
      "Wall time: 20.7 ms\n"
     ]
    }
   ],
   "source": [
    "%%time\n",
    "\n",
    "query = {\n",
    "    \"query\": {\n",
    "        \"match_phrase\": {\n",
    "            \"title\": \"Carm1 regulates the speed of\"\n",
    "        }\n",
    "    }\n",
    "}\n",
    "\n",
    "# Example usage: Fetch the first page of results, assuming 6 results per page\n",
    "# See the scroll api for a more efficient way to request large data sets\n",
    "page_number = 1\n",
    "page_size = 6\n",
    "results = search_data(es, index_name, query, page_number, page_size)\n",
    "\n",
    "print(\"Results: \",len(results), \"\\n\")\n",
    "\n",
    "for result in results:\n",
    "    print(result)\n",
    "\n",
    "print(\"-\" * 25)"
   ]
  },
  {
   "cell_type": "markdown",
   "id": "9f79a7a8-0a57-4839-9506-6e7cff75f0d5",
   "metadata": {},
   "source": [
    "\n",
    "### Multi-Match Query\n",
    "Search for a text across multiple fields.\n"
   ]
  },
  {
   "cell_type": "code",
   "execution_count": 37,
   "id": "112d1a8a-3e4a-4246-9b71-81496ede2263",
   "metadata": {},
   "outputs": [
    {
     "name": "stdout",
     "output_type": "stream",
     "text": [
      "Results:  3 \n",
      "\n",
      "{'doi': '10.1101/2021.04.02.438179', 'title': 'Mechanism of transcription modulation by the transcription-repair coupling factor', 'authors': 'Paudel, B. P.; Xu, Z.-Q.; Jergic, S.; Oakley, A. J.; Sharma, N.; Brown, S. H.; Bouwer, J. C.; Lewis, P.; Dixon, N. E.; Van Oijen, A. M.; Ghodke, H.', 'author_corresponding': 'Harshad  Ghodke', 'author_corresponding_institution': 'University of Wollongong', 'date': '2022-02-22', 'version': '3', 'license': 'cc_no', 'category': 'Biophysics', 'jatsxml': 'https://www.biorxiv.org/content/early/2022/02/22/2021.04.02.438179.source.xml', 'abstract': 'Elongation by RNA polymerase is dynamically modulated by accessory factors. The transcription-repair coupling factor (TRCF) recognizes distressed RNAPs and either rescues transcription or initiates transcription termination. Precisely how TRCFs choose to execute either outcome remains unclear. With Escherichia coli as a model, we used single-molecule assays to study dynamic modulation of elongation by Mfd, the bacterial TRCF. We found that nucleotide-bound Mfd converts the elongation complex (EC) into a catalytically poised state, presenting the EC with an opportunity to restart transcription. After long-lived residence in this catalytically poised state, ATP hydrolysis by Mfd remodels the EC through an irreversible process leading to loss of the RNA transcript. Further, biophysical studies revealed that the motor domain of Mfd binds and partially melts DNA containing a template strand overhang. The results explain pathway choice determining the fate of the EC and provide a molecular mechanism for transcription modulation by TRCF.', 'published': '10.1093/nar/gkac449', 'node': 1939, 'link_page': 'https://www.biorxiv.org/content/10.1101/2021.04.02.438179v3?versioned=TRUE', 'link_pdf': 'https://www.biorxiv.org/content/10.1101/2021.04.02.438179v3.full.pdf'}\n",
      "{'doi': '10.1101/2022.11.21.517317', 'title': 'Targeted disruption of transcription bodies causes widespread activation of transcription', 'authors': 'Ugolini, M.; Kuznetsova, K.; Oda, H.; Kimura, H.; Vastenhouw, N. L.', 'author_corresponding': 'Nadine L. Vastenhouw', 'author_corresponding_institution': 'MPI-CBG, UNIL', 'date': '2022-11-21', 'version': '1', 'license': 'cc_by_nc_nd', 'category': 'Cell Biology', 'jatsxml': 'https://www.biorxiv.org/content/early/2022/11/21/2022.11.21.517317.source.xml', 'abstract': 'The localization of transcriptional activity in specialized transcription bodies is a hallmark of gene expression in eukaryotic cells. It remains unclear, however, if and how they affect gene expression. Here, we disrupted the formation of two prominent endogenous transcription bodies that mark the onset of zygotic transcription in zebrafish embryos and analysed the effect on gene expression using enriched SLAM-Seq and live-cell imaging. We find that the disruption of transcription bodies results in downregulation of hundreds of genes, providing experimental support for a model in which transcription bodies increase the efficiency of transcription. We also find that a significant number of genes are upregulated, counter to the suggested stimulatory effect of transcription bodies. These upregulated genes have accessible chromatin and are poised to be transcribed in the presence of the two transcription bodies, but they do not go into elongation. Live-cell imaging shows that the disruption of the two large transcription bodies enables these poised genes to be transcribed in ectopic transcription bodies, suggesting that the large transcription bodies sequester a pause release factor. Supporting this hypothesis, we find that CDK9, the kinase that releases paused polymerase II, is highly enriched in the two large transcription bodies. Importantly, overexpression of CDK9 in wild type embryos results in the formation of ectopic transcription bodies and thus phenocopies the removal of the two large transcription bodies. Taken together, our results show that transcription bodies regulate transcription genome-wide: the accumulation of transcriptional machinery creates a favourable environment for transcription locally, while depriving genes elsewhere in the nucleus from the same machinery.', 'published': 'NA', 'node': 49272, 'link_page': 'https://www.biorxiv.org/content/10.1101/2022.11.21.517317v1?versioned=TRUE', 'link_pdf': 'https://www.biorxiv.org/content/10.1101/2022.11.21.517317v1.full.pdf'}\n",
      "{'doi': '10.1101/2021.04.02.438179', 'title': 'Mechanism of transcription modulation by the transcription-repair coupling factor', 'authors': 'Paudel, B. P.; Xu, Z.-Q.; Jergic, S.; Oakley, A. J.; Sharma, N.; Brown, S. H.; Bouwer, J. C.; Lewis, P.; Dixon, N. E.; Van Oijen, A. M.; Ghodke, H.', 'author_corresponding': 'Harshad  Ghodke', 'author_corresponding_institution': 'University of Wollongong', 'date': '2022-02-22', 'version': '3', 'license': 'cc_no', 'category': 'Biophysics', 'jatsxml': 'https://www.biorxiv.org/content/early/2022/02/22/2021.04.02.438179.source.xml', 'abstract': 'Elongation by RNA polymerase is dynamically modulated by accessory factors. The transcription-repair coupling factor (TRCF) recognizes distressed RNAPs and either rescues transcription or initiates transcription termination. Precisely how TRCFs choose to execute either outcome remains unclear. With Escherichia coli as a model, we used single-molecule assays to study dynamic modulation of elongation by Mfd, the bacterial TRCF. We found that nucleotide-bound Mfd converts the elongation complex (EC) into a catalytically poised state, presenting the EC with an opportunity to restart transcription. After long-lived residence in this catalytically poised state, ATP hydrolysis by Mfd remodels the EC through an irreversible process leading to loss of the RNA transcript. Further, biophysical studies revealed that the motor domain of Mfd binds and partially melts DNA containing a template strand overhang. The results explain pathway choice determining the fate of the EC and provide a molecular mechanism for transcription modulation by TRCF.', 'published': '10.1093/nar/gkac449', 'node': 1939, 'link_page': 'https://www.biorxiv.org/content/10.1101/2021.04.02.438179v3?versioned=TRUE', 'link_pdf': 'https://www.biorxiv.org/content/10.1101/2021.04.02.438179v3.full.pdf'}\n",
      "-------------------------\n",
      "CPU times: user 4.46 ms, sys: 0 ns, total: 4.46 ms\n",
      "Wall time: 10.3 ms\n"
     ]
    }
   ],
   "source": [
    "%%time\n",
    "\n",
    "query = {\n",
    "      \"query\": {\n",
    "        \"multi_match\": {\n",
    "            \"query\": \"transcription\",\n",
    "            \"fields\": [\"title\", \"abstract\"]\n",
    "        }\n",
    "      }\n",
    "    }\n",
    "\n",
    "# Example usage: Fetch the first page of results, assuming 3 results per page\n",
    "# See the scroll api for a more efficient way to request large data sets\n",
    "page_number = 1\n",
    "page_size = 3\n",
    "results = search_data(es, index_name, query, page_number, page_size)\n",
    "\n",
    "print(\"Results: \",len(results), \"\\n\")\n",
    "\n",
    "for result in results:\n",
    "    print(result)\n",
    "\n",
    "print(\"-\" * 25)"
   ]
  },
  {
   "cell_type": "markdown",
   "id": "1189211e-fd75-4f5d-91a0-31f5224e7c5f",
   "metadata": {},
   "source": [
    "### Advanced Filtering: Beyond Keywords"
   ]
  },
  {
   "cell_type": "markdown",
   "id": "a62554d3-fd0f-4dff-bb59-98a63c2e711e",
   "metadata": {},
   "source": [
    "Filtering allows for more refined searches, such as retrieving documents within a specific date range or by particular authors, enhancing the precision of your data analysis.\n"
   ]
  },
  {
   "cell_type": "code",
   "execution_count": 38,
   "id": "6f3125f7-3853-439a-b003-b5e939b5e809",
   "metadata": {},
   "outputs": [
    {
     "name": "stdout",
     "output_type": "stream",
     "text": [
      "Results:  5 \n",
      "\n",
      "{'doi': '10.1101/2023.05.24.542151', 'title': 'POMBOX: a fission yeast toolkit for molecular and synthetic biology', 'authors': 'Hebra, T.; Smrckova, H.; Elkatmis, B.; Prevorovsky, M.; Pluskal, T.', 'author_corresponding': 'Tomas Pluskal', 'author_corresponding_institution': 'Institute of Organic Chemistry and Biochemistry of the Czech Academy of Sciences, Praha, Czech Republic', 'date': '2023-05-24', 'version': '1', 'license': 'cc_by_nc_nd', 'category': 'Synthetic Biology', 'jatsxml': 'https://www.biorxiv.org/content/early/2023/05/24/2023.05.24.542151.source.xml', 'abstract': 'Schizosaccharomyces pombe is a popular model organism in molecular biology and cell physiology. With its ease of genetic manipulation and growth, supported by in-depth functional annotation in the PomBase database and genome-wide metabolic models, S. pombe is an attractive option for synthetic biology applications. However, S. pombe currently lacks modular tools for generating genetic circuits with more than one transcriptional unit. We have developed a toolkit to address this issue. Adapted from the MoClo- YTK plasmid kit for Saccharomyces cerevisiae and using the same Golden Gate grammar, our POMBOX toolkit is designed to facilitate the fast, efficient and modular construction of genetic circuits in S. pombe. It allows for interoperability when working with DNA sequences that are functional in both S. cerevisiae and S. pombe (e.g. protein tag, antibiotic resistance cassette, coding sequences). Moreover, POMBOX enables the modular assembly of multi-gene pathways and increases possible pathway length from 6 to 12 transcriptional units. We also adapted the stable integration vector homology arms to Golden Gate assembly and tested the genomic integration success rate depending on different sequence sizes, from four to twenty-four kilobases. We included fourteen S. pombe promoters that we characterized for two fluorescent proteins, in both minimal defined media (EMM2) and complex media (YES). Then we tested six S. cerevisiae and six synthetic terminators in S. pombe. Finally, we used the POMBOX kit for a synthetic biology application in metabolic engineering and expressed plant enzymes in S. pombe to produce specialized metabolite precursors, namely methylxanthine, amorpha-4,11-diene and cinnamic acid from the purine, mevalonate and amino acid pathways.', 'published': 'NA', 'node': 74136, 'link_page': 'https://www.biorxiv.org/content/10.1101/2023.05.24.542151v1?versioned=TRUE', 'link_pdf': 'https://www.biorxiv.org/content/10.1101/2023.05.24.542151v1.full.pdf'}\n",
      "{'doi': '10.1101/2023.05.24.542151', 'title': 'POMBOX: a fission yeast toolkit for molecular and synthetic biology', 'authors': 'Hebra, T.; Smrckova, H.; Elkatmis, B.; Prevorovsky, M.; Pluskal, T.', 'author_corresponding': 'Tomas Pluskal', 'author_corresponding_institution': 'Institute of Organic Chemistry and Biochemistry of the Czech Academy of Sciences, Praha, Czech Republic', 'date': '2023-05-24', 'version': '1', 'license': 'cc_by_nc_nd', 'category': 'Synthetic Biology', 'jatsxml': 'https://www.biorxiv.org/content/early/2023/05/24/2023.05.24.542151.source.xml', 'abstract': 'Schizosaccharomyces pombe is a popular model organism in molecular biology and cell physiology. With its ease of genetic manipulation and growth, supported by in-depth functional annotation in the PomBase database and genome-wide metabolic models, S. pombe is an attractive option for synthetic biology applications. However, S. pombe currently lacks modular tools for generating genetic circuits with more than one transcriptional unit. We have developed a toolkit to address this issue. Adapted from the MoClo- YTK plasmid kit for Saccharomyces cerevisiae and using the same Golden Gate grammar, our POMBOX toolkit is designed to facilitate the fast, efficient and modular construction of genetic circuits in S. pombe. It allows for interoperability when working with DNA sequences that are functional in both S. cerevisiae and S. pombe (e.g. protein tag, antibiotic resistance cassette, coding sequences). Moreover, POMBOX enables the modular assembly of multi-gene pathways and increases possible pathway length from 6 to 12 transcriptional units. We also adapted the stable integration vector homology arms to Golden Gate assembly and tested the genomic integration success rate depending on different sequence sizes, from four to twenty-four kilobases. We included fourteen S. pombe promoters that we characterized for two fluorescent proteins, in both minimal defined media (EMM2) and complex media (YES). Then we tested six S. cerevisiae and six synthetic terminators in S. pombe. Finally, we used the POMBOX kit for a synthetic biology application in metabolic engineering and expressed plant enzymes in S. pombe to produce specialized metabolite precursors, namely methylxanthine, amorpha-4,11-diene and cinnamic acid from the purine, mevalonate and amino acid pathways.', 'published': 'NA', 'node': 74136, 'link_page': 'https://www.biorxiv.org/content/10.1101/2023.05.24.542151v1?versioned=TRUE', 'link_pdf': 'https://www.biorxiv.org/content/10.1101/2023.05.24.542151v1.full.pdf'}\n",
      "{'doi': '10.1101/2023.05.24.542151', 'title': 'POMBOX: a fission yeast toolkit for molecular and synthetic biology', 'authors': 'Hebra, T.; Smrckova, H.; Elkatmis, B.; Prevorovsky, M.; Pluskal, T.', 'author_corresponding': 'Tomas Pluskal', 'author_corresponding_institution': 'Institute of Organic Chemistry and Biochemistry of the Czech Academy of Sciences, Praha, Czech Republic', 'date': '2023-05-24', 'version': '1', 'license': 'cc_by_nc_nd', 'category': 'Synthetic Biology', 'jatsxml': 'https://www.biorxiv.org/content/early/2023/05/24/2023.05.24.542151.source.xml', 'abstract': 'Schizosaccharomyces pombe is a popular model organism in molecular biology and cell physiology. With its ease of genetic manipulation and growth, supported by in-depth functional annotation in the PomBase database and genome-wide metabolic models, S. pombe is an attractive option for synthetic biology applications. However, S. pombe currently lacks modular tools for generating genetic circuits with more than one transcriptional unit. We have developed a toolkit to address this issue. Adapted from the MoClo- YTK plasmid kit for Saccharomyces cerevisiae and using the same Golden Gate grammar, our POMBOX toolkit is designed to facilitate the fast, efficient and modular construction of genetic circuits in S. pombe. It allows for interoperability when working with DNA sequences that are functional in both S. cerevisiae and S. pombe (e.g. protein tag, antibiotic resistance cassette, coding sequences). Moreover, POMBOX enables the modular assembly of multi-gene pathways and increases possible pathway length from 6 to 12 transcriptional units. We also adapted the stable integration vector homology arms to Golden Gate assembly and tested the genomic integration success rate depending on different sequence sizes, from four to twenty-four kilobases. We included fourteen S. pombe promoters that we characterized for two fluorescent proteins, in both minimal defined media (EMM2) and complex media (YES). Then we tested six S. cerevisiae and six synthetic terminators in S. pombe. Finally, we used the POMBOX kit for a synthetic biology application in metabolic engineering and expressed plant enzymes in S. pombe to produce specialized metabolite precursors, namely methylxanthine, amorpha-4,11-diene and cinnamic acid from the purine, mevalonate and amino acid pathways.', 'published': 'NA', 'node': 74136, 'link_page': 'https://www.biorxiv.org/content/10.1101/2023.05.24.542151v1?versioned=TRUE', 'link_pdf': 'https://www.biorxiv.org/content/10.1101/2023.05.24.542151v1.full.pdf'}\n",
      "{'doi': '10.1101/2022.06.30.498253', 'title': 'A DARPin-based molecular toolset to probe gephyrin and inhibitory synapse biology', 'authors': 'Campbell, B. F.; Dittmann, A.; Dreier, B.; Plückthun, A.; Tyagarajan, S. K.', 'author_corresponding': 'Shiva K  Tyagarajan', 'author_corresponding_institution': 'University of Zurich', 'date': '2022-07-03', 'version': '1', 'license': 'cc_by', 'category': 'Neuroscience', 'jatsxml': 'https://www.biorxiv.org/content/early/2022/07/03/2022.06.30.498253.source.xml', 'abstract': 'Neuroscience currently requires the use of antibodies to study synaptic proteins, where antibody binding is used as a correlate to define the presence, plasticity, and regulation of synapses. Gephyrin is an inhibitory synaptic scaffolding protein used to mark GABAergic and glycinergic postsynaptic sites. Despite the importance of gephyrin in modulating inhibitory transmission, its study is currently limited by the tractability of available reagents. Designed Ankyrin Repeat Proteins (DARPins) are a class of synthetic protein binder derived from diverse libraries by in vitro selection, and tested by high-throughput screening to produce specific binders. In order to generate a functionally diverse toolset for studying inhibitory synapses, we screened a DARPin library against gephyrin mutants representing both phosphorylated and dephosphorylated states. We validated the robust use of anti-gephyrin DARPin clones for morphological identification of gephyrin clusters in rodent neuron culture and brain tissue, discovering previously overlooked clusters. This DARPin-based toolset includes clones with heterogenous gephyrin binding modes that allowed for identification of the most extensive gephyrin interactome to date, and defined novel classes of putative interactors, creating a framework for understanding gephyrins non-synaptic functions. This study demonstrates anti-gephyrin DARPins as a versatile platform for studying inhibitory synapses in an unprecedented manner.', 'published': '10.7554/eLife.80895', 'node': 30322, 'link_page': 'https://www.biorxiv.org/content/10.1101/2022.06.30.498253v1?versioned=TRUE', 'link_pdf': 'https://www.biorxiv.org/content/10.1101/2022.06.30.498253v1.full.pdf'}\n",
      "{'doi': '10.1101/2022.06.30.498253', 'title': 'A DARPin-based molecular toolset to probe gephyrin and inhibitory synapse biology', 'authors': 'Campbell, B. F.; Dittmann, A.; Dreier, B.; Plückthun, A.; Tyagarajan, S. K.', 'author_corresponding': 'Shiva K  Tyagarajan', 'author_corresponding_institution': 'University of Zurich', 'date': '2022-07-03', 'version': '1', 'license': 'cc_by', 'category': 'Neuroscience', 'jatsxml': 'https://www.biorxiv.org/content/early/2022/07/03/2022.06.30.498253.source.xml', 'abstract': 'Neuroscience currently requires the use of antibodies to study synaptic proteins, where antibody binding is used as a correlate to define the presence, plasticity, and regulation of synapses. Gephyrin is an inhibitory synaptic scaffolding protein used to mark GABAergic and glycinergic postsynaptic sites. Despite the importance of gephyrin in modulating inhibitory transmission, its study is currently limited by the tractability of available reagents. Designed Ankyrin Repeat Proteins (DARPins) are a class of synthetic protein binder derived from diverse libraries by in vitro selection, and tested by high-throughput screening to produce specific binders. In order to generate a functionally diverse toolset for studying inhibitory synapses, we screened a DARPin library against gephyrin mutants representing both phosphorylated and dephosphorylated states. We validated the robust use of anti-gephyrin DARPin clones for morphological identification of gephyrin clusters in rodent neuron culture and brain tissue, discovering previously overlooked clusters. This DARPin-based toolset includes clones with heterogenous gephyrin binding modes that allowed for identification of the most extensive gephyrin interactome to date, and defined novel classes of putative interactors, creating a framework for understanding gephyrins non-synaptic functions. This study demonstrates anti-gephyrin DARPins as a versatile platform for studying inhibitory synapses in an unprecedented manner.', 'published': '10.7554/eLife.80895', 'node': 30322, 'link_page': 'https://www.biorxiv.org/content/10.1101/2022.06.30.498253v1?versioned=TRUE', 'link_pdf': 'https://www.biorxiv.org/content/10.1101/2022.06.30.498253v1.full.pdf'}\n",
      "-------------------------\n",
      "CPU times: user 5.08 ms, sys: 0 ns, total: 5.08 ms\n",
      "Wall time: 23.2 ms\n"
     ]
    }
   ],
   "source": [
    "%%time\n",
    "\n",
    "query = {\n",
    "    \"query\": {\n",
    "        \"bool\": {\n",
    "            \"must\": {\n",
    "                \"match\": {\"title\": \"Molecular Biology\"}\n",
    "            },\n",
    "            \"filter\": {\n",
    "                \"range\": {\n",
    "                    # publish_date\n",
    "                    \"date\": {\n",
    "                        \"gte\": \"2022-01-01\",\n",
    "                        \"lte\": \"2023-12-31\"\n",
    "                    }\n",
    "                }\n",
    "            }\n",
    "        }\n",
    "    }\n",
    "}\n",
    "\n",
    "# Example usage: Fetch the first page of results, assuming 5 results per page\n",
    "# See the scroll api for a more efficient way to request large data sets\n",
    "page_number = 1\n",
    "page_size = 5\n",
    "results = search_data(es, index_name, query, page_number, page_size)\n",
    "\n",
    "print(\"Results: \",len(results), \"\\n\")\n",
    "\n",
    "for result in results:\n",
    "    print(result)\n",
    "\n",
    "print(\"-\" * 25)"
   ]
  },
  {
   "cell_type": "markdown",
   "id": "8afdd444-5566-454f-9ce2-9f156712d3bd",
   "metadata": {},
   "source": [
    "### Aggregation Query\n"
   ]
  },
  {
   "cell_type": "markdown",
   "id": "7be4b39d-4796-4e98-935b-640fb87afb87",
   "metadata": {},
   "source": [
    "Aggregations are pivotal for summarizing data, enabling the analysis of trends across thousands of documents. For example, an aggregation query to count publications by category:"
   ]
  },
  {
   "cell_type": "code",
   "execution_count": 42,
   "id": "cd0c444b-fd09-4c7d-bcab-cf1b02057e61",
   "metadata": {},
   "outputs": [],
   "source": [
    "def search_data_with_aggregation(es: Elasticsearch, index_name: str, query: Dict[str, Any]) -> List[Dict[str, Any]]:\n",
    "    try:\n",
    "        response = es.search(index=index_name, body=query)\n",
    "        if 'aggregations' in response:\n",
    "            # Safely access the 'categories' aggregation results\n",
    "            categories_agg = response.get('aggregations', {}).get('categories', {}).get('buckets', [])\n",
    "            return categories_agg  # Directly return the categories aggregation results\n",
    "        else:\n",
    "            print(\"No aggregations found in the response.\")\n",
    "            return []\n",
    "    except Exception as e:\n",
    "        print(f\"Search failed: {e}\")\n",
    "        return []"
   ]
  },
  {
   "cell_type": "code",
   "execution_count": 43,
   "id": "da813399-4710-40b2-8f17-b4dcdb001e84",
   "metadata": {},
   "outputs": [],
   "source": [
    "query = {\n",
    "    \"size\": 0,  # This should be at the root level of the request body\n",
    "    \"query\": {\n",
    "        \"match_all\": {}  # Assuming you want to aggregate over all documents, use match_all\n",
    "    },\n",
    "    \"aggs\": {\n",
    "        \"categories\": {\n",
    "            \"terms\": {\n",
    "                \"field\": \"category.keyword\",  # Ensure this field name matches your index\n",
    "                \"size\": 10  # Adjust the size as needed\n",
    "            }\n",
    "        }\n",
    "    }\n",
    "}\n"
   ]
  },
  {
   "cell_type": "markdown",
   "id": "0f2dc134-dc58-4322-9296-29a3bf220ae9",
   "metadata": {},
   "source": [
    "#### Aggregate data, such as counting documents by category."
   ]
  },
  {
   "cell_type": "markdown",
   "id": "905b54ee-bdfa-49c7-8260-2812758f0731",
   "metadata": {},
   "source": [
    "Checks if the response contains an 'aggregations' key and processes the results accordingly. For aggregation queries, it returns the aggregation results directly. "
   ]
  },
  {
   "cell_type": "code",
   "execution_count": 44,
   "id": "ff4b7ffa-760f-4d54-9747-5c6ab81594d3",
   "metadata": {},
   "outputs": [
    {
     "name": "stdout",
     "output_type": "stream",
     "text": [
      "Category: Neuroscience, Count: 60261\n",
      "Category: Microbiology, Count: 27936\n",
      "Category: Bioinformatics, Count: 27171\n",
      "Category: Cell Biology, Count: 18837\n",
      "Category: Biophysics, Count: 15609\n",
      "Category: Evolutionary Biology, Count: 15576\n",
      "Category: Biochemistry, Count: 13371\n",
      "Category: Immunology, Count: 13251\n",
      "Category: Cancer Biology, Count: 13236\n",
      "Category: Ecology, Count: 13203\n",
      "CPU times: user 5.66 ms, sys: 315 µs, total: 5.98 ms\n",
      "Wall time: 24.7 ms\n"
     ]
    }
   ],
   "source": [
    "%%time\n",
    "\n",
    "# Assuming 'es', 'index_name', and 'query' are properly defined\n",
    "results = search_data_with_aggregation(es, index_name, query)\n",
    "\n",
    "# Display the aggregation results\n",
    "if results:\n",
    "    for category in results:\n",
    "        print(f\"Category: {category['key']}, Count: {category['doc_count']}\")\n",
    "else:\n",
    "    print(\"No results found.\")"
   ]
  },
  {
   "cell_type": "markdown",
   "id": "a916a837-b9cb-4f29-b87b-1e7a7608aee4",
   "metadata": {},
   "source": [
    "---"
   ]
  },
  {
   "cell_type": "markdown",
   "id": "17b894ad-54ad-4dbc-a6d4-496b2efc09dc",
   "metadata": {},
   "source": [
    "### Generating and Executing an Elasticsearch Query"
   ]
  },
  {
   "cell_type": "markdown",
   "id": "492d798f-9c09-492f-a0b4-903010018fdd",
   "metadata": {},
   "source": [
    "#### Create a function that generates Elasticsearch queries according to specified logic operators and a date range:"
   ]
  },
  {
   "cell_type": "code",
   "execution_count": 58,
   "id": "035ffc02-aaa7-4aeb-a63a-1ae713a8b349",
   "metadata": {},
   "outputs": [],
   "source": [
    "from typing import List, Union, Dict, Any\n",
    "\n",
    "def generate_es_queries(logic_operators: List[Union[str, List[str]]], start_date: str, end_date: str, abstract_field: str = \"abstract\", date_field: str = \"date\") -> Dict[str, Any]:\n",
    "    \"\"\"\n",
    "    Generates an Elasticsearch query based on logic operators and a date range.\n",
    "\n",
    "    Parameters:\n",
    "    - logic_operators (List[Union[str, List[str]]]): A list of strings and/or lists representing the logic operators.\n",
    "      Nested lists represent OR conditions within AND conditions.\n",
    "    - start_date (str): The start date in 'YYYY-MM-DD' format.\n",
    "    - end_date (str): The end date in 'YYYY-MM-DD' format.\n",
    "    - abstract_field (str): The document field to search for abstract text.\n",
    "    - date_field (str): The document field that contains the date.\n",
    "\n",
    "    Returns:\n",
    "    - Dict[str, Any]: An Elasticsearch query in DSL format.\n",
    "    \"\"\"\n",
    "    must_conditions = []  # To store AND conditions\n",
    "    for operator in logic_operators:\n",
    "        if isinstance(operator, list):  # Handle OR conditions\n",
    "            should_conditions = [{\"match\": {abstract_field: term}} for term in operator]\n",
    "            must_conditions.append({\n",
    "                \"bool\": {\"should\": should_conditions, \"minimum_should_match\": 1}\n",
    "            })\n",
    "        else:  # Handle AND conditions\n",
    "            must_conditions.append({\"match\": {abstract_field: operator}})\n",
    "    \n",
    "    # Add date range filter\n",
    "    must_conditions.append({\n",
    "        \"range\": {\n",
    "            date_field: {  # Use the provided date field name\n",
    "                \"gte\": start_date,\n",
    "                \"lte\": end_date,\n",
    "                \"format\": \"yyyy-MM-dd\"\n",
    "            }\n",
    "        }\n",
    "    })\n",
    "    \n",
    "    # Construct the final query\n",
    "    es_query = {\n",
    "        \"query\": {\n",
    "            \"bool\": {\n",
    "                \"must\": must_conditions\n",
    "            }\n",
    "        }\n",
    "    }\n",
    "    \n",
    "    return es_query\n"
   ]
  },
  {
   "cell_type": "markdown",
   "id": "c092d0e1-0220-49ab-8dff-1bcecc2b7b2b",
   "metadata": {},
   "source": [
    "#### Construct an Elasticsearch query using a predefined function generate_es_queries, based on logic operators and a specified date range. It then pretty prints the generated query, executes it to fetch results with pagination, and displays the results.\n"
   ]
  },
  {
   "cell_type": "code",
   "execution_count": 59,
   "id": "1fee201c-aee3-400d-b372-e2723301eaf9",
   "metadata": {},
   "outputs": [
    {
     "name": "stdout",
     "output_type": "stream",
     "text": [
      "{\n",
      "    \"query\": {\n",
      "        \"bool\": {\n",
      "            \"must\": [\n",
      "                {\n",
      "                    \"match\": {\n",
      "                        \"abstract\": \"COVID-19\"\n",
      "                    }\n",
      "                },\n",
      "                {\n",
      "                    \"match\": {\n",
      "                        \"abstract\": \"coronavirus\"\n",
      "                    }\n",
      "                },\n",
      "                {\n",
      "                    \"match\": {\n",
      "                        \"abstract\": \"vaccine\"\n",
      "                    }\n",
      "                },\n",
      "                {\n",
      "                    \"range\": {\n",
      "                        \"date\": {\n",
      "                            \"gte\": \"2020-01-01\",\n",
      "                            \"lte\": \"2024-12-31\",\n",
      "                            \"format\": \"yyyy-MM-dd\"\n",
      "                        }\n",
      "                    }\n",
      "                }\n",
      "            ]\n",
      "        }\n",
      "    }\n",
      "}\n",
      "Results:  5 \n",
      "\n",
      "{'doi': '10.1101/2023.05.24.541850', 'title': 'Cross-Protection Induced by Highly Conserved Human B, CD4+, and CD8+ T Cell Epitopes-Based Coronavirus Vaccine Against Severe Infection, Disease, and Death Caused by Multiple SARS-CoV-2 Variants of Concern', 'authors': 'Prakash, S. F.; Dhanushkodi, N. R.; Zayou, L.; Ibraim, I. C.; Quadiri, A.; Coulon, P. G.; Tifrea, D. F.; Suzler, B.; Amin, M.; Chilukuri, A.; Edwards, R. A.; Vahed, H.; Nesburn, A. B.; Kuppermann, B. D.; Ulmer, J. B.; Gil, D.; Jones, T. M.; Benmohamed, L.', 'author_corresponding': 'Lbachir Benmohamed', 'author_corresponding_institution': 'GHEI/UCI School of Medecine', 'date': '2023-05-24', 'version': '1', 'license': 'cc_by_nc_nd', 'category': 'Immunology', 'jatsxml': 'https://www.biorxiv.org/content/early/2023/05/24/2023.05.24.541850.source.xml', 'abstract': 'BackgroundThe Coronavirus disease 2019 (COVID-19) pandemic has created one of the largest global health crises in almost a century. Although the current rate of SARS-CoV-2 infections has decreased significantly; the long-term outlook of COVID-19 remains a serious cause of high death worldwide; with the mortality rate still surpassing even the worst mortality rates recorded for the influenza viruses. The continuous emergence of SARS-CoV-2 variants of concern (VOCs), including multiple heavily mutated Omicron sub-variants, have prolonged the COVID-19 pandemic and outlines the urgent need for a next-generation vaccine that will protect from multiple SARS-CoV-2 VOCs.\\n\\nMethodsIn the present study, we designed a multi-epitope-based Coronavirus vaccine that incorporated B, CD4+, and CD8+ T cell epitopes conserved among all known SARS-CoV-2 VOCs and selectively recognized by CD8+ and CD4+ T-cells from asymptomatic COVID-19 patients irrespective of VOC infection. The safety, immunogenicity, and cross-protective immunity of this pan-Coronavirus vaccine were studied against six VOCs using an innovative triple transgenic h-ACE-2-HLA-A2/DR mouse model.\\n\\nResultsThe Pan-Coronavirus vaccine: (i) is safe; (ii) induces high frequencies of lung-resident functional CD8+ and CD4+ TEM and TRM cells; and (iii) provides robust protection against virus replication and COVID-19-related lung pathology and death caused by six SARS-CoV-2 VOCs: Alpha (B.1.1.7), Beta (B.1.351), Gamma or P1 (B.1.1.28.1), Delta (lineage B.1.617.2) and Omicron (B.1.1.529). Conclusions: A multi-epitope pan-Coronavirus vaccine bearing conserved human B and T cell epitopes from structural and non-structural SARS-CoV-2 antigens induced cross-protective immunity that cleared the virus, and reduced COVID-19-related lung pathology and death caused by multiple SARS-CoV-2 VOCs.', 'published': 'NA', 'node': 74123, 'link_page': 'https://www.biorxiv.org/content/10.1101/2023.05.24.541850v1?versioned=TRUE', 'link_pdf': 'https://www.biorxiv.org/content/10.1101/2023.05.24.541850v1.full.pdf'}\n",
      "{'doi': '10.1101/2023.05.24.541850', 'title': 'Cross-Protection Induced by Highly Conserved Human B, CD4+, and CD8+ T Cell Epitopes-Based Coronavirus Vaccine Against Severe Infection, Disease, and Death Caused by Multiple SARS-CoV-2 Variants of Concern', 'authors': 'Prakash, S. F.; Dhanushkodi, N. R.; Zayou, L.; Ibraim, I. C.; Quadiri, A.; Coulon, P. G.; Tifrea, D. F.; Suzler, B.; Amin, M.; Chilukuri, A.; Edwards, R. A.; Vahed, H.; Nesburn, A. B.; Kuppermann, B. D.; Ulmer, J. B.; Gil, D.; Jones, T. M.; Benmohamed, L.', 'author_corresponding': 'Lbachir Benmohamed', 'author_corresponding_institution': 'GHEI/UCI School of Medecine', 'date': '2023-05-24', 'version': '1', 'license': 'cc_by_nc_nd', 'category': 'Immunology', 'jatsxml': 'https://www.biorxiv.org/content/early/2023/05/24/2023.05.24.541850.source.xml', 'abstract': 'BackgroundThe Coronavirus disease 2019 (COVID-19) pandemic has created one of the largest global health crises in almost a century. Although the current rate of SARS-CoV-2 infections has decreased significantly; the long-term outlook of COVID-19 remains a serious cause of high death worldwide; with the mortality rate still surpassing even the worst mortality rates recorded for the influenza viruses. The continuous emergence of SARS-CoV-2 variants of concern (VOCs), including multiple heavily mutated Omicron sub-variants, have prolonged the COVID-19 pandemic and outlines the urgent need for a next-generation vaccine that will protect from multiple SARS-CoV-2 VOCs.\\n\\nMethodsIn the present study, we designed a multi-epitope-based Coronavirus vaccine that incorporated B, CD4+, and CD8+ T cell epitopes conserved among all known SARS-CoV-2 VOCs and selectively recognized by CD8+ and CD4+ T-cells from asymptomatic COVID-19 patients irrespective of VOC infection. The safety, immunogenicity, and cross-protective immunity of this pan-Coronavirus vaccine were studied against six VOCs using an innovative triple transgenic h-ACE-2-HLA-A2/DR mouse model.\\n\\nResultsThe Pan-Coronavirus vaccine: (i) is safe; (ii) induces high frequencies of lung-resident functional CD8+ and CD4+ TEM and TRM cells; and (iii) provides robust protection against virus replication and COVID-19-related lung pathology and death caused by six SARS-CoV-2 VOCs: Alpha (B.1.1.7), Beta (B.1.351), Gamma or P1 (B.1.1.28.1), Delta (lineage B.1.617.2) and Omicron (B.1.1.529). Conclusions: A multi-epitope pan-Coronavirus vaccine bearing conserved human B and T cell epitopes from structural and non-structural SARS-CoV-2 antigens induced cross-protective immunity that cleared the virus, and reduced COVID-19-related lung pathology and death caused by multiple SARS-CoV-2 VOCs.', 'published': 'NA', 'node': 74123, 'link_page': 'https://www.biorxiv.org/content/10.1101/2023.05.24.541850v1?versioned=TRUE', 'link_pdf': 'https://www.biorxiv.org/content/10.1101/2023.05.24.541850v1.full.pdf'}\n",
      "{'doi': '10.1101/2023.05.24.541850', 'title': 'Cross-Protection Induced by Highly Conserved Human B, CD4+, and CD8+ T Cell Epitopes-Based Coronavirus Vaccine Against Severe Infection, Disease, and Death Caused by Multiple SARS-CoV-2 Variants of Concern', 'authors': 'Prakash, S. F.; Dhanushkodi, N. R.; Zayou, L.; Ibraim, I. C.; Quadiri, A.; Coulon, P. G.; Tifrea, D. F.; Suzler, B.; Amin, M.; Chilukuri, A.; Edwards, R. A.; Vahed, H.; Nesburn, A. B.; Kuppermann, B. D.; Ulmer, J. B.; Gil, D.; Jones, T. M.; Benmohamed, L.', 'author_corresponding': 'Lbachir Benmohamed', 'author_corresponding_institution': 'GHEI/UCI School of Medecine', 'date': '2023-05-24', 'version': '1', 'license': 'cc_by_nc_nd', 'category': 'Immunology', 'jatsxml': 'https://www.biorxiv.org/content/early/2023/05/24/2023.05.24.541850.source.xml', 'abstract': 'BackgroundThe Coronavirus disease 2019 (COVID-19) pandemic has created one of the largest global health crises in almost a century. Although the current rate of SARS-CoV-2 infections has decreased significantly; the long-term outlook of COVID-19 remains a serious cause of high death worldwide; with the mortality rate still surpassing even the worst mortality rates recorded for the influenza viruses. The continuous emergence of SARS-CoV-2 variants of concern (VOCs), including multiple heavily mutated Omicron sub-variants, have prolonged the COVID-19 pandemic and outlines the urgent need for a next-generation vaccine that will protect from multiple SARS-CoV-2 VOCs.\\n\\nMethodsIn the present study, we designed a multi-epitope-based Coronavirus vaccine that incorporated B, CD4+, and CD8+ T cell epitopes conserved among all known SARS-CoV-2 VOCs and selectively recognized by CD8+ and CD4+ T-cells from asymptomatic COVID-19 patients irrespective of VOC infection. The safety, immunogenicity, and cross-protective immunity of this pan-Coronavirus vaccine were studied against six VOCs using an innovative triple transgenic h-ACE-2-HLA-A2/DR mouse model.\\n\\nResultsThe Pan-Coronavirus vaccine: (i) is safe; (ii) induces high frequencies of lung-resident functional CD8+ and CD4+ TEM and TRM cells; and (iii) provides robust protection against virus replication and COVID-19-related lung pathology and death caused by six SARS-CoV-2 VOCs: Alpha (B.1.1.7), Beta (B.1.351), Gamma or P1 (B.1.1.28.1), Delta (lineage B.1.617.2) and Omicron (B.1.1.529). Conclusions: A multi-epitope pan-Coronavirus vaccine bearing conserved human B and T cell epitopes from structural and non-structural SARS-CoV-2 antigens induced cross-protective immunity that cleared the virus, and reduced COVID-19-related lung pathology and death caused by multiple SARS-CoV-2 VOCs.', 'published': 'NA', 'node': 74123, 'link_page': 'https://www.biorxiv.org/content/10.1101/2023.05.24.541850v1?versioned=TRUE', 'link_pdf': 'https://www.biorxiv.org/content/10.1101/2023.05.24.541850v1.full.pdf'}\n",
      "{'doi': '10.1101/2022.10.03.510566', 'title': 'Intranasal delivery of NS1-deleted influenza virus vectored COVID-19 vaccine restrains the SARS-CoV-2 inflammatory response', 'authors': 'Zhang, L.; Jiang, Y.; He, J.; Chen, J.; Qi, R.; Yuan, L.; Shao, T.; Chen, C.; Chen, Y.; Wang, X.; Lei, X.; Gao, Q.; Zhuang, C.; Zhou, M.; Ma, J.; Liu, W.; Yang, M.; Fu, R.; Wu, Y.; Chen, F.; Xiong, H.; Nie, M.; Chen, Y.; Wu, K.; Fang, M.; Wang, Y.; Zheng, Z.; Huang, S.; Ge, S.; Cheng, S.-C.; Zhu, H.; Chen, T.; Yuan, Q.; Wu, T.; Zhang, J.; Chen, Y.; Zhang, T.; Qi, H.; Guan, Y.; Xia, N.', 'author_corresponding': 'Ningshao Xia', 'author_corresponding_institution': 'Xiamen University', 'date': '2022-10-03', 'version': '1', 'license': 'cc_by_nc_nd', 'category': 'Immunology', 'jatsxml': 'https://www.biorxiv.org/content/early/2022/10/03/2022.10.03.510566.source.xml', 'abstract': 'The emergence of SARS-CoV-2 (Severe Acute Respiratory Syndrome Coronavirus-2) variants and \"anatomical escape\" characteristics threaten the effectiveness of current coronavirus disease (COVID-19) vaccines. There is an urgent need to understand the immunological mechanism of broad-spectrum respiratory tract protection to guide broader vaccines development. In this study, we investigated immune responses induced by an NS1-deleted influenza virus vectored intranasal COVID-19 vaccine (dNS1-RBD) which provides broad-spectrum protection against SARS-CoV-2 variants. Intranasal delivery of dNS1-RBD induced innate immunity, trained immunity and tissue-resident memory T cells covering the upper and lower respiratory tract. It restrained the inflammatory response by suppressing early phase viral load post SARS-CoV-2 challenge and attenuating pro-inflammatory cytokine (IL-6, IL-1B, and IFN-{gamma}) levels, thereby reducing excess immune-induced tissue injury compared with the control group. By inducing local cellular immunity and trained immunity, intranasal delivery of NS1-deleted influenza virus vectored vaccine represents a broad-spectrum COVID-19 vaccine strategy to reduce disease burden.', 'published': 'NA', 'node': 42447, 'link_page': 'https://www.biorxiv.org/content/10.1101/2022.10.03.510566v1?versioned=TRUE', 'link_pdf': 'https://www.biorxiv.org/content/10.1101/2022.10.03.510566v1.full.pdf'}\n",
      "{'doi': '10.1101/2022.10.03.510566', 'title': 'Intranasal delivery of NS1-deleted influenza virus vectored COVID-19 vaccine restrains the SARS-CoV-2 inflammatory response', 'authors': 'Zhang, L.; Jiang, Y.; He, J.; Chen, J.; Qi, R.; Yuan, L.; Shao, T.; Chen, C.; Chen, Y.; Wang, X.; Lei, X.; Gao, Q.; Zhuang, C.; Zhou, M.; Ma, J.; Liu, W.; Yang, M.; Fu, R.; Wu, Y.; Chen, F.; Xiong, H.; Nie, M.; Chen, Y.; Wu, K.; Fang, M.; Wang, Y.; Zheng, Z.; Huang, S.; Ge, S.; Cheng, S.-C.; Zhu, H.; Chen, T.; Yuan, Q.; Wu, T.; Zhang, J.; Chen, Y.; Zhang, T.; Qi, H.; Guan, Y.; Xia, N.', 'author_corresponding': 'Ningshao Xia', 'author_corresponding_institution': 'Xiamen University', 'date': '2022-10-03', 'version': '1', 'license': 'cc_by_nc_nd', 'category': 'Immunology', 'jatsxml': 'https://www.biorxiv.org/content/early/2022/10/03/2022.10.03.510566.source.xml', 'abstract': 'The emergence of SARS-CoV-2 (Severe Acute Respiratory Syndrome Coronavirus-2) variants and \"anatomical escape\" characteristics threaten the effectiveness of current coronavirus disease (COVID-19) vaccines. There is an urgent need to understand the immunological mechanism of broad-spectrum respiratory tract protection to guide broader vaccines development. In this study, we investigated immune responses induced by an NS1-deleted influenza virus vectored intranasal COVID-19 vaccine (dNS1-RBD) which provides broad-spectrum protection against SARS-CoV-2 variants. Intranasal delivery of dNS1-RBD induced innate immunity, trained immunity and tissue-resident memory T cells covering the upper and lower respiratory tract. It restrained the inflammatory response by suppressing early phase viral load post SARS-CoV-2 challenge and attenuating pro-inflammatory cytokine (IL-6, IL-1B, and IFN-{gamma}) levels, thereby reducing excess immune-induced tissue injury compared with the control group. By inducing local cellular immunity and trained immunity, intranasal delivery of NS1-deleted influenza virus vectored vaccine represents a broad-spectrum COVID-19 vaccine strategy to reduce disease burden.', 'published': 'NA', 'node': 42447, 'link_page': 'https://www.biorxiv.org/content/10.1101/2022.10.03.510566v1?versioned=TRUE', 'link_pdf': 'https://www.biorxiv.org/content/10.1101/2022.10.03.510566v1.full.pdf'}\n",
      "-------------------------\n",
      "CPU times: user 5.13 ms, sys: 3.4 ms, total: 8.52 ms\n",
      "Wall time: 27 ms\n"
     ]
    }
   ],
   "source": [
    "%%time\n",
    "\n",
    "logic_operators = ['COVID-19', 'coronavirus', 'vaccine']\n",
    "\n",
    "start_date = '2020-01-01'\n",
    "end_date = '2024-12-31'\n",
    "es_query = generate_es_queries(logic_operators, start_date, end_date)\n",
    "\n",
    "# Pretty print the Elasticsearch query object\n",
    "pretty_es_query = json.dumps(es_query, indent=4)\n",
    "print(pretty_es_query)\n",
    "\n",
    "page_number = 1\n",
    "page_size = 5\n",
    "\n",
    "results = search_data(es, index_name, es_query, page_number, page_size)\n",
    "\n",
    "print(\"Results: \",len(results), \"\\n\")\n",
    "\n",
    "for result in results:\n",
    "    print(result)\n",
    "\n",
    "print(\"-\" * 25)"
   ]
  },
  {
   "cell_type": "markdown",
   "id": "5be298a0-6a0d-429a-b756-2c3e72005121",
   "metadata": {},
   "source": [
    "---"
   ]
  },
  {
   "cell_type": "markdown",
   "id": "ba2e35c1-9250-46b5-888f-3efa2886e4c9",
   "metadata": {},
   "source": [
    "### The biorxiv database was downloaded from the medrxivr library"
   ]
  },
  {
   "cell_type": "markdown",
   "id": "d8e65391-684c-446c-a765-3964c73dc294",
   "metadata": {},
   "source": [
    "The json file used is structure as a list of dictionaries downloaded by MedrdR from a specific date range from 2022 to 2024 and contain 000 papers of data"
   ]
  },
  {
   "cell_type": "markdown",
   "id": "13b8ef33-e433-45ca-8a4b-2af5c05d8ac5",
   "metadata": {},
   "source": [
    "```python\n",
    "[\n",
    "  {\n",
    "    \"doi\": \"10.1101/043794\",\n",
    "    \"title\": \"Modeling methyl-sensitive transcription factor motifs with an expanded epigenetic alphabet\",\n",
    "    \"authors\": \"Viner, C.; Ishak, C. A.; Johnson, J.; Walker, N. J.; Shi, H.; Sjöberg-Herrera, M. K.; Shen, S. Y.; Lardo, S. M.; Adams, D. J.; Ferguson-Smith, A. C.; De Carvalho, D. D.; Hainer, S. J.; Bailey, T. L.; Hoffman, M. M.\",\n",
    "    \"author_corresponding\": \"Michael M. Hoffman\",\n",
    "    \"author_corresponding_institution\": \"Princess Margaret Cancer Centre, Toronto, ON, Canada\",\n",
    "    \"date\": \"2022-07-29\",\n",
    "    \"version\": \"2\",\n",
    "    \"license\": \"cc_by_nc_nd\",\n",
    "    \"category\": \"Bioinformatics\",\n",
    "    \"jatsxml\": \"https://www.biorxiv.org/content/early/2022/07/29/043794.source.xml\",\n",
    "    \"abstract\": \"Transcription factors bind DNA in specific sequence contexts. In addition to distinguishing one nucleobase from another, some transcription factors can distinguish between unmodified and modified bases. Current models of transcription factor binding tend not take DNA modifications into account, while the recent few that do often have limitations. This makes a comprehensive and accurate profiling of transcription factor affinities difficult.\\n\\nHere, we developed methods to identify transcription factor binding sites in modified DNA. Our models expand the standard A/C/G/T DNA alphabet to include cytosine modifications. We developed Cytomod to create modified genomic sequences and enhanced the Multiple EM for Motif Elicitation (MEME) Suite by adding the capacity to handle custom alphabets. We adapted the well-established position weight matrix (PWM) model of transcription factor binding affinity to this expanded DNA alphabet.\\n\\nUsing these methods, we identified modification-sensitive transcription factor binding motifs. We confirmed established binding preferences, such as the preference of ZFP57 and C/EBP{beta} for methylated motifs and the preference of c-Myc for unmethylated E-box motifs. Using known binding preferences to tune model parameters, we discovered novel modified motifs for a wide array of transcription factors. Finally, we validated predicted binding preferences of OCT4 using cleavage under targets and release using nuclease (CUT&RUN) experiments across conventional, methylation-, and hydroxymethylation-enriched sequences. Our approach readily extends to other DNA modifications. As more genome-wide single-base resolution modification data becomes available, we expect that our method will yield insights into altered transcription factor binding affinities across many different modifications.\",\n",
    "    \"published\": \"NA\",\n",
    "    \"node\": 2,\n",
    "    \"link_page\": \"https://www.biorxiv.org/content/10.1101/043794v2?versioned=TRUE\",\n",
    "    \"link_pdf\": \"https://www.biorxiv.org/content/10.1101/043794v2.full.pdf\"\n",
    "  },\n",
    "]\n",
    "```"
   ]
  },
  {
   "cell_type": "markdown",
   "id": "f3a80cb2-e7b0-4f7c-a189-59dba5fc68e7",
   "metadata": {},
   "source": [
    "---"
   ]
  },
  {
   "cell_type": "markdown",
   "id": "5dbdcbd7-e19d-4c21-9474-1a30e4921d55",
   "metadata": {},
   "source": [
    "### Final Note: The Impact of Advanced Querying on Research\n"
   ]
  },
  {
   "cell_type": "markdown",
   "id": "cff06250-b16f-4f7c-941b-e3d390eaa559",
   "metadata": {},
   "source": [
    "Advanced querying techniques in Elasticsearch empower researchers to navigate and analyze the vast repository of BiorXiv data with unprecedented depth and precision. From basic keyword searches to sophisticated aggregations and scripted calculations, Elasticsearch facilitates a comprehensive understanding of the life sciences landscape. By harnessing these querying capabilities, researchers can accelerate discovery, foster innovation, and contribute to the advancement of science.\n",
    "\n"
   ]
  },
  {
   "cell_type": "markdown",
   "id": "715f4043-82d1-4e8a-98c5-451b478c3e6a",
   "metadata": {},
   "source": [
    "---"
   ]
  },
  {
   "cell_type": "code",
   "execution_count": null,
   "id": "953bc8ee-098c-450c-88ab-4533a0778dae",
   "metadata": {},
   "outputs": [],
   "source": []
  }
 ],
 "metadata": {
  "kernelspec": {
   "display_name": "Python 3 (ipykernel)",
   "language": "python",
   "name": "python3"
  },
  "language_info": {
   "codemirror_mode": {
    "name": "ipython",
    "version": 3
   },
   "file_extension": ".py",
   "mimetype": "text/x-python",
   "name": "python",
   "nbconvert_exporter": "python",
   "pygments_lexer": "ipython3",
   "version": "3.12.1"
  }
 },
 "nbformat": 4,
 "nbformat_minor": 5
}
