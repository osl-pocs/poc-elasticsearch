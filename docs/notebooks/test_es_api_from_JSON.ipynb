{
 "cells": [
  {
   "cell_type": "code",
   "execution_count": null,
   "id": "342dc921-32c0-4edd-8a55-e71beeebcc54",
   "metadata": {},
   "outputs": [],
   "source": [
    "# import rxiv_rest_api"
   ]
  },
  {
   "cell_type": "code",
   "execution_count": null,
   "id": "d6b237fc-f91c-498f-b247-4dd58a5f10e7",
   "metadata": {},
   "outputs": [],
   "source": [
    "# curl --cacert http_ca.crt -u elastic:worksfine https://es:9200"
   ]
  },
  {
   "cell_type": "markdown",
   "id": "7bc4bad6-861f-45cd-b532-e33c7ec59c42",
   "metadata": {},
   "source": [
    "## Retrieve data from a JSON file and return its keys and values in JSON format"
   ]
  },
  {
   "cell_type": "markdown",
   "id": "662ffec9-ad5b-44d5-b4e4-e7cec2645912",
   "metadata": {},
   "source": [
    "**First we need to ensure that the data is indexed in Elasticsearch. This process involves reading the JSON file, parsing its contents, and then indexing those contents in Elasticsearch. After the data is indexed, we can use the Elasticsearch client (es) to perform search operations.**"
   ]
  },
  {
   "cell_type": "markdown",
   "id": "d3e9203a-5988-409b-ae62-8c1c8d3f6e6a",
   "metadata": {},
   "source": [
    "### Step 1: Index JSON Data into Elasticsearch\n",
    "**Before we can search, you must have the data indexed in Elasticsearch.** \n",
    "**Here's a simplified function to read the JSON file and index its contents.** \n",
    "**This example assumes that your JSON data is an array of objects, each representing a document to be indexed.**"
   ]
  },
  {
   "cell_type": "code",
   "execution_count": 25,
   "id": "5e6d3258-5682-41e7-b3b6-c406bb9bd8d0",
   "metadata": {},
   "outputs": [],
   "source": [
    "import json\n",
    "from elasticsearch import Elasticsearch\n",
    "import ssl\n",
    "\n",
    "def index_json_data(es: Elasticsearch, file_path: str, index_name: str) -> None:\n",
    "    \"\"\"\n",
    "    Reads data from a JSON file and indexes it into Elasticsearch.\n",
    "\n",
    "    Parameters:\n",
    "    es (Elasticsearch): An Elasticsearch client instance.\n",
    "    file_path (str): The path to the JSON file.\n",
    "    index_name (str): The name of the Elasticsearch index where data will be stored.\n",
    "    \"\"\"\n",
    "    # Load JSON data from the file\n",
    "    with open(file_path, 'r', encoding='utf-8') as file:\n",
    "        data = json.load(file)\n",
    "\n",
    "    # Assuming `data` is a list of documents\n",
    "    for doc in data:\n",
    "        # Index each document\n",
    "        res = es.index(index=index_name, document=doc)\n",
    "        # print(res['result'])\n",
    "\n",
    "# Example usage\n",
    "ca_cert_path = '/workspace/repos/osl/rxiv-restapi/containers/esconfig/ca/certs/http_ca.crt'\n",
    "ssl_context = ssl.create_default_context(cafile=ca_cert_path)\n",
    "es = Elasticsearch(\n",
    "    [\"https://es:9200\"],\n",
    "    basic_auth=(\"elastic\", \"worksfine\"),\n",
    "    ssl_context=ssl_context\n",
    ")\n",
    "file_path = '/workspace/repos/osl/rxiv-restapi/docs/notebooks/data/municipalities.json'\n",
    "index_name = 'geocodes_and_cities_by_uf'\n",
    "index_json_data(es, file_path, index_name)\n"
   ]
  },
  {
   "cell_type": "markdown",
   "id": "438f5163-489c-4ea3-92db-a8e82889ebdb",
   "metadata": {},
   "source": [
    "### Step 2: Create a Search Function\n",
    "\n",
    "**After indexing the data, we can create a function to perform searches using the Elasticsearch client.**"
   ]
  },
  {
   "cell_type": "code",
   "execution_count": 51,
   "id": "1cf28c07-5567-4cb6-b2e8-1f540cf23f1e",
   "metadata": {},
   "outputs": [],
   "source": [
    "def search_data(es: Elasticsearch, index_name: str, query: dict) -> list:\n",
    "    \"\"\"\n",
    "    Performs a search query in an Elasticsearch index and returns only the document data.\n",
    "\n",
    "    Parameters:\n",
    "    es (Elasticsearch): An Elasticsearch client instance.\n",
    "    index_name (str): The name of the Elasticsearch index to search in.\n",
    "    query (dict): The search query in Elasticsearch Query DSL format.\n",
    "\n",
    "    Returns:\n",
    "    list: A list of documents from the search results, each represented as a dictionary.\n",
    "    \"\"\"\n",
    "    try:\n",
    "        response = es.search(index=index_name, query=query)\n",
    "        # Extract only the '_source' from each hit\n",
    "        documents = [hit['_source'] for hit in response['hits']['hits']]\n",
    "        return documents\n",
    "    except Exception as e:\n",
    "        print(f\"Search failed: {e}\")\n",
    "        return []"
   ]
  },
  {
   "cell_type": "markdown",
   "id": "5f0c687b-e422-47b0-81ed-27954e5f0917",
   "metadata": {},
   "source": [
    "## Example Usage\n"
   ]
  },
  {
   "cell_type": "markdown",
   "id": "e2b9eceb-4946-4090-8f0f-94465b278ad1",
   "metadata": {},
   "source": [
    "### 1. Simple Text Search on Name Field\n",
    "\n",
    "**To search for municipalities by name:**"
   ]
  },
  {
   "cell_type": "code",
   "execution_count": 56,
   "id": "e8bb8084-50f8-4e37-b627-fcd2fb53fa07",
   "metadata": {},
   "outputs": [
    {
     "name": "stdout",
     "output_type": "stream",
     "text": [
      "{'geocode': 4106902, 'name': 'Curitiba', 'uf': 'PR'}\n",
      "CPU times: user 6.37 ms, sys: 215 µs, total: 6.59 ms\n",
      "Wall time: 9.79 ms\n"
     ]
    }
   ],
   "source": [
    "%%time\n",
    "\n",
    "query = {\n",
    "   \"match\": {\n",
    "       \"name\": \"Curitiba\"\n",
    "   }\n",
    "}\n",
    "\n",
    "# Execute the search\n",
    "results = search_data(es, index_name, query)\n",
    "\n",
    "# Display the results directly\n",
    "for result in results:\n",
    "    # Assuming you want to display each document's key-value pairs\n",
    "    print(result)"
   ]
  },
  {
   "cell_type": "markdown",
   "id": "abaaec1a-4f7d-4b15-93b7-7641ca7a906e",
   "metadata": {},
   "source": [
    "### 2. Exact Match on Geocode\n",
    "\n",
    "**To find a municipality by its exact geocode:**"
   ]
  },
  {
   "cell_type": "code",
   "execution_count": 50,
   "id": "7130cf38-b536-4787-87b5-1b9c7e57f8c8",
   "metadata": {},
   "outputs": [
    {
     "name": "stdout",
     "output_type": "stream",
     "text": [
      "{'geocode': 3304557, 'name': 'Rio de Janeiro', 'uf': 'RJ'}\n",
      "CPU times: user 0 ns, sys: 3.06 ms, total: 3.06 ms\n",
      "Wall time: 6.08 ms\n"
     ]
    }
   ],
   "source": [
    "%%time\n",
    "\n",
    "query = {\n",
    "   \"term\": {\n",
    "       \"geocode\": 3304557\n",
    "   }\n",
    "}\n",
    "\n",
    "# Execute the search\n",
    "results = search_data(es, index_name, query)\n",
    "\n",
    "# Display the results directly\n",
    "for result in results:\n",
    "    # Assuming you want to display each document's key-value pairs\n",
    "    print(result)"
   ]
  },
  {
   "cell_type": "markdown",
   "id": "c7522bea-8735-49eb-8974-21334ff72746",
   "metadata": {},
   "source": [
    "### 3. Search by State (UF)\n",
    "**To list all municipalities in a specific state:**"
   ]
  },
  {
   "cell_type": "code",
   "execution_count": 54,
   "id": "f2f22586-188a-4177-9c96-8503f125f656",
   "metadata": {},
   "outputs": [
    {
     "name": "stdout",
     "output_type": "stream",
     "text": [
      "{'geocode': 4214102, 'name': 'Presidente Nereu', 'uf': 'SC'}\n",
      "{'geocode': 4214151, 'name': 'Princesa', 'uf': 'SC'}\n",
      "{'geocode': 4214201, 'name': 'Quilombo', 'uf': 'SC'}\n",
      "{'geocode': 4214300, 'name': 'Rancho Queimado', 'uf': 'SC'}\n",
      "{'geocode': 4214409, 'name': 'Rio das Antas', 'uf': 'SC'}\n",
      "{'geocode': 4214508, 'name': 'Rio do Campo', 'uf': 'SC'}\n",
      "{'geocode': 4214607, 'name': 'Rio do Oeste', 'uf': 'SC'}\n",
      "{'geocode': 4214805, 'name': 'Rio do Sul', 'uf': 'SC'}\n",
      "{'geocode': 4214706, 'name': 'Rio dos Cedros', 'uf': 'SC'}\n",
      "{'geocode': 4214904, 'name': 'Rio Fortuna', 'uf': 'SC'}\n",
      "CPU times: user 6.6 ms, sys: 3.37 ms, total: 9.97 ms\n",
      "Wall time: 15.3 ms\n"
     ]
    }
   ],
   "source": [
    "%%time\n",
    "\n",
    "# Assuming `search_data` is already defined as before and returns the list of documents\n",
    "query = {\n",
    "   \"match\": {\n",
    "       \"uf\": \"SC\"\n",
    "   }\n",
    "}\n",
    "\n",
    "# Execute the search\n",
    "results = search_data(es, index_name, query)\n",
    "\n",
    "# Display the results directly\n",
    "for result in results:\n",
    "    # Assuming you want to display each document's key-value pairs\n",
    "    print(result)"
   ]
  },
  {
   "cell_type": "markdown",
   "id": "61daa9b9-4dab-4f91-a8c2-1186c40b635b",
   "metadata": {},
   "source": [
    "### 4. Combining Conditions\n",
    "**If we want to combine conditions, for instance, searching for a municipality by name within a specific state, you can use the `bool` query:**"
   ]
  },
  {
   "cell_type": "code",
   "execution_count": 55,
   "id": "db55f5b7-8a59-481c-aa74-5f61f63a8a42",
   "metadata": {},
   "outputs": [
    {
     "name": "stdout",
     "output_type": "stream",
     "text": [
      "{'geocode': 4205407, 'name': 'Florianópolis', 'uf': 'SC'}\n",
      "CPU times: user 2.97 ms, sys: 4.02 ms, total: 6.99 ms\n",
      "Wall time: 10.6 ms\n"
     ]
    }
   ],
   "source": [
    "%%time\n",
    "\n",
    "query = {\n",
    "   \"bool\": {\n",
    "       \"must\": [\n",
    "           {\"match\": {\"name\": \"Florianópolis\"}},\n",
    "           {\"match\": {\"uf\": \"SC\"}}\n",
    "       ]\n",
    "   }\n",
    "}\n",
    "\n",
    "# Execute the search\n",
    "results = search_data(es, index_name, query)\n",
    "\n",
    "# Display the results directly\n",
    "for result in results:\n",
    "    # Assuming you want to display each document's key-value pairs\n",
    "    print(result)"
   ]
  },
  {
   "cell_type": "markdown",
   "id": "ebcddae8-3137-4a3a-a862-c69c07e68374",
   "metadata": {},
   "source": [
    "---"
   ]
  },
  {
   "cell_type": "markdown",
   "id": "4b26b709-463e-48b0-ba6f-cf946479ea54",
   "metadata": {},
   "source": [
    "### Notes\n",
    "\n",
    "- The `search_data` function now takes a `query` parameter, which is a dictionary formatted according to Elasticsearch's Query DSL (Domain Specific Language). This allows for flexible search queries.\n",
    "- Elasticsearch queries can be simple (e.g., match, term) or complex (e.g., bool with must, should, must_not conditions).\n",
    "- The exact structure of your query will depend on your specific search requirements and the data schema.\n",
    "- Ensure your Elasticsearch mappings are appropriately set for the fields you are querying. For text searches, Elasticsearch should analyze the field as `text`. For exact matches (like geocode), the field should be of type `keyword` or similar.\n",
    "- Always test your queries directly in Kibana Dev Tools or another Elasticsearch interface to refine them before implementing in code.\n"
   ]
  },
  {
   "cell_type": "markdown",
   "id": "d75082bb-0da4-4d39-88a2-60cc57e01272",
   "metadata": {},
   "source": [
    "#### The JSON file used in this notebook contains Brazilian census data from the Brazilian Institute of Geography and Statistics (IBGE). This data includes information about various municipalities in Brazil, such as their geocode, name, and corresponding state (UF).\n",
    "*docs/notebooks/data/municipalities.json*"
   ]
  },
  {
   "cell_type": "raw",
   "id": "52cbf4c1-13e7-4897-91bd-4d270ff1ef31",
   "metadata": {},
   "source": [
    "[\n",
    "    {\n",
    "        \"geocode\": 5200050,\n",
    "        \"name\": \"Abadia de Goiás\",\n",
    "        \"uf\": \"GO\"\n",
    "    },\n",
    "    {\n",
    "        \"geocode\": 3100104,\n",
    "        \"name\": \"Abadia dos Dourados\",\n",
    "        \"uf\": \"MG\"\n",
    "    },\n",
    "    {\n",
    "        \"geocode\": 5200100,\n",
    "        \"name\": \"Abadiânia\",\n",
    "        \"uf\": \"GO\"\n",
    "    },\n",
    "    {\n",
    "        \"geocode\": 3100203,\n",
    "        \"name\": \"Abaeté\",\n",
    "        \"uf\": \"MG\"\n",
    "    },\n",
    "    {\n",
    "        \"geocode\": 1500107,\n",
    "        \"name\": \"Abaetetuba\",\n",
    "        \"uf\": \"PA\"\n",
    "    },\n",
    "    {\n",
    "        \"geocode\": 2300101,\n",
    "        \"name\": \"Abaiara\",\n",
    "        \"uf\": \"CE\"\n",
    "    },\n",
    "...\n",
    "]"
   ]
  },
  {
   "cell_type": "markdown",
   "id": "a916a837-b9cb-4f29-b87b-1e7a7608aee4",
   "metadata": {},
   "source": [
    "---"
   ]
  },
  {
   "cell_type": "code",
   "execution_count": null,
   "id": "570fc9f5-f78d-4969-8931-0489f0ed7815",
   "metadata": {},
   "outputs": [],
   "source": []
  }
 ],
 "metadata": {
  "kernelspec": {
   "display_name": "Python 3 (ipykernel)",
   "language": "python",
   "name": "python3"
  },
  "language_info": {
   "codemirror_mode": {
    "name": "ipython",
    "version": 3
   },
   "file_extension": ".py",
   "mimetype": "text/x-python",
   "name": "python",
   "nbconvert_exporter": "python",
   "pygments_lexer": "ipython3",
   "version": "3.12.1"
  }
 },
 "nbformat": 4,
 "nbformat_minor": 5
}
